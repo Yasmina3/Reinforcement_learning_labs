{
  "cells": [
    {
      "cell_type": "markdown",
      "metadata": {
        "deletable": true,
        "editable": true,
        "nbgrader": {
          "cell_type": "markdown",
          "checksum": "456971b7c32e2bf5364ff3e844755588",
          "grade": false,
          "grade_id": "cell-2379d0e980554734",
          "locked": true,
          "schema_version": 3,
          "solution": false,
          "task": false
        },
        "id": "v2o72ep8RSJ0"
      },
      "source": [
        "# **Assignment 7: Dyna-Q and Dyna-Q+**"
      ]
    },
    {
      "cell_type": "markdown",
      "metadata": {
        "deletable": true,
        "editable": true,
        "nbgrader": {
          "cell_type": "markdown",
          "checksum": "76de530741f980cceea89c1cbca751b3",
          "grade": false,
          "grade_id": "cell-e4a73a1d4819583b",
          "locked": true,
          "schema_version": 3,
          "solution": false,
          "task": false
        },
        "id": "HZTpuIwqRSJ3"
      },
      "source": [
        "Welcome to lab assignment 7. In this notebook, you will:\n",
        "1. implement the Dyna-Q and Dyna-Q+ algorithms.\n",
        "2. compare their performance on an environment which changes to become 'better' than it was before, that is, the task becomes easier.\n",
        "\n",
        "We will give you the environment and infrastructure to run the experiment and visualize the performance."
      ]
    },
    {
      "cell_type": "markdown",
      "metadata": {
        "deletable": true,
        "editable": true,
        "nbgrader": {
          "cell_type": "markdown",
          "checksum": "b5700a0fc8aa27a9871262534a74584d",
          "grade": false,
          "grade_id": "cell-fc7a8bce812462f8",
          "locked": true,
          "schema_version": 3,
          "solution": false,
          "task": false
        },
        "id": "F4zNBIUzRSJ5"
      },
      "source": [
        "## The Shortcut Maze Environment\n",
        "\n",
        "In this maze environment, the goal is to reach the goal state (G) as fast as possible from the starting state (S). There are four actions (up, down, right, left) which take the agent deterministically from a state to the corresponding neighboring states, except when movement is blocked by a wall (denoted by grey) or the edge of the maze, in which case the agent remains where it is. The reward is +1 on reaching the goal state, 0 otherwise. On reaching the goal state G, the agent returns to the start state S to being a new episode. This is a discounted, episodic task with $\\gamma = 0.95$.\n",
        "\n",
        "<img src=\"./images/shortcut_env.png\" alt=\"environment\" width=\"400\"/>\n",
        "\n",
        "Later in the assignment, we will use a variant of this maze in which a 'shortcut' opens up after a certain number of timesteps. We will test if the the Dyna-Q and Dyna-Q+ agents are able to find the newly-opened shorter route to the goal state."
      ]
    },
    {
      "cell_type": "markdown",
      "metadata": {
        "deletable": true,
        "editable": true,
        "nbgrader": {
          "cell_type": "markdown",
          "checksum": "b5d6eca06a34b6a6e873658478461b95",
          "grade": false,
          "grade_id": "cell-003d45ed0386900a",
          "locked": true,
          "schema_version": 3,
          "solution": false,
          "task": false
        },
        "id": "aGqM4qEgRSJ5"
      },
      "source": [
        "## Packages\n",
        "\n",
        "We import the following libraries that are required for this assignment. Primarily, we shall be using the following libraries:\n",
        "1. numpy: the fundamental package for scientific computing with Python.\n",
        "2. matplotlib: the library for plotting graphs in Python.\n",
        "3. RL-Glue: the library for reinforcement learning experiments."
      ]
    },
    {
      "cell_type": "code",
      "source": [
        "pip install jdc"
      ],
      "metadata": {
        "colab": {
          "base_uri": "https://localhost:8080/"
        },
        "id": "_pmn4za4RrnG",
        "outputId": "1dd8ec85-7028-41fa-8e8e-6fd986af0b2d"
      },
      "execution_count": 2,
      "outputs": [
        {
          "output_type": "stream",
          "name": "stdout",
          "text": [
            "Collecting jdc\n",
            "  Downloading jdc-0.0.9-py2.py3-none-any.whl.metadata (817 bytes)\n",
            "Downloading jdc-0.0.9-py2.py3-none-any.whl (2.1 kB)\n",
            "Installing collected packages: jdc\n",
            "Successfully installed jdc-0.0.9\n"
          ]
        }
      ]
    },
    {
      "cell_type": "code",
      "source": [
        "import sys\n",
        "sys.path.append('/content')\n"
      ],
      "metadata": {
        "id": "ppU82R6nUINe"
      },
      "execution_count": 9,
      "outputs": []
    },
    {
      "cell_type": "code",
      "execution_count": 10,
      "metadata": {
        "deletable": true,
        "editable": true,
        "nbgrader": {
          "cell_type": "code",
          "checksum": "120eb20b7f1dddd120d76b2aa7919153",
          "grade": false,
          "grade_id": "cell-bee88a7e78d66006",
          "locked": true,
          "schema_version": 3,
          "solution": false,
          "task": false
        },
        "id": "_sKbIk26RSJ6"
      },
      "outputs": [],
      "source": [
        "%matplotlib inline\n",
        "import numpy as np\n",
        "import matplotlib.pyplot as plt\n",
        "import jdc\n",
        "import os\n",
        "from tqdm import tqdm\n",
        "\n",
        "from env.rl_glue import RLGlue\n",
        "from env.agent import BaseAgent\n",
        "from env.maze_env import ShortcutMazeEnvironment"
      ]
    },
    {
      "cell_type": "code",
      "execution_count": 11,
      "metadata": {
        "deletable": true,
        "editable": true,
        "nbgrader": {
          "cell_type": "code",
          "checksum": "ee4fd0b140763673eeaa4eb9568f651c",
          "grade": false,
          "grade_id": "cell-028a2dd8d19ea3a7",
          "locked": true,
          "schema_version": 3,
          "solution": false,
          "task": false
        },
        "id": "JqLB1hf1RSJ7"
      },
      "outputs": [],
      "source": [
        "plt.rcParams.update({'font.size': 15})\n",
        "plt.rcParams.update({'figure.figsize': [8,5]})"
      ]
    },
    {
      "cell_type": "markdown",
      "metadata": {
        "deletable": true,
        "editable": true,
        "nbgrader": {
          "cell_type": "markdown",
          "checksum": "8af78c99916d2bef7b8950c06c91ca1b",
          "grade": false,
          "grade_id": "cell-05b0c5c488d26a90",
          "locked": true,
          "schema_version": 3,
          "solution": false,
          "task": false
        },
        "id": "nS9TblBNRSJ8"
      },
      "source": [
        "## Section 1: Dyna-Q"
      ]
    },
    {
      "cell_type": "markdown",
      "metadata": {
        "deletable": true,
        "editable": true,
        "nbgrader": {
          "cell_type": "markdown",
          "checksum": "a70fc156a2c433210a5340707627ab14",
          "grade": false,
          "grade_id": "cell-87547eb7b48d2d80",
          "locked": true,
          "schema_version": 3,
          "solution": false,
          "task": false
        },
        "id": "raf1yz76RSJ8"
      },
      "source": [
        "Let's start with a quick recap of the tabular Dyna-Q algorithm.\n",
        "\n",
        "<div style=\"width:80%\"><img src=\"./images/DynaQ.png\" alt=\"DynaQ_pseudocode\"></div>\n",
        "\n",
        "Dyna-Q involves four basic steps:\n",
        "1. Action selection: given an observation, select an action to be performed (here, using the $\\epsilon$-greedy method).\n",
        "2. Direct RL: using the observed next state and reward, update the action values (here, using one-step tabular Q-learning).\n",
        "3. Model learning: using the observed next state and reward, update the model (here, updating a table as the environment is assumed to be deterministic).\n",
        "4. Planning: update the action values by generating $n$ simulated experiences using certain starting states and actions (here, using the random-sample one-step tabular Q-planning method). This is also known as the 'Indirect RL' step. The process of choosing the state and action to simulate an experience with is known as 'search control'.\n",
        "\n",
        "Steps 1 and 2 are parts of the tabular Q-learning algorithm and are denoted by line numbers from (a) to (d) in the pseudocode above. Step 3 is performed in line (e), and Step 4 in the block of lines (f)."
      ]
    },
    {
      "cell_type": "markdown",
      "metadata": {
        "deletable": true,
        "editable": true,
        "nbgrader": {
          "cell_type": "markdown",
          "checksum": "65b87624638d81a162640d0c59868798",
          "grade": false,
          "grade_id": "cell-feffd3d6e8b4ac8b",
          "locked": true,
          "schema_version": 3,
          "solution": false,
          "task": false
        },
        "id": "n55ehAVeRSJ9"
      },
      "source": [
        "As you already know by now, you will develop an agent which interacts with the given environment via RL-Glue. More specifically, you will implement the usual methods `agent_start`, `agent_step`, and `agent_end` in your `DynaQAgent` class, along with a couple of helper methods specific to Dyna-Q, namely `update_model` and `planning_step`. We will provide detailed comments in each method describing what your code should do."
      ]
    },
    {
      "cell_type": "markdown",
      "metadata": {
        "deletable": true,
        "editable": true,
        "nbgrader": {
          "cell_type": "markdown",
          "checksum": "30cdeb28f5cf7ee8bfe4844ab7b9624b",
          "grade": false,
          "grade_id": "cell-d0135622e9f741c2",
          "locked": true,
          "schema_version": 3,
          "solution": false,
          "task": false
        },
        "id": "CJ6NH86mRSJ-"
      },
      "source": [
        "Let's break this down in pieces and do it one-by-one.\n",
        "\n",
        "First of all, check out the `agent_init` method below. As in earlier assignments, some of the attributes are initialized with the data passed inside `agent_info`. In particular, pay attention to the attributes which are new to `DynaQAgent`, since you shall be using them later."
      ]
    },
    {
      "cell_type": "code",
      "execution_count": 12,
      "metadata": {
        "deletable": true,
        "editable": true,
        "nbgrader": {
          "cell_type": "code",
          "checksum": "fcc0e80f7f9aee52e7128caa88d2c7ba",
          "grade": false,
          "grade_id": "cell-5d0e8c43378d5e30",
          "locked": true,
          "schema_version": 3,
          "solution": false,
          "task": false
        },
        "id": "Ppca_chsRSJ-"
      },
      "outputs": [],
      "source": [
        "class DynaQAgent(BaseAgent):\n",
        "\n",
        "    def agent_init(self, agent_info):\n",
        "        \"\"\"Setup for the agent called when the experiment first starts.\n",
        "\n",
        "        Args:\n",
        "            agent_init_info (dict), the parameters used to initialize the agent. The dictionary contains:\n",
        "            {\n",
        "                num_states (int): The number of states,\n",
        "                num_actions (int): The number of actions,\n",
        "                epsilon (float): The parameter for epsilon-greedy exploration,\n",
        "                step_size (float): The step-size,\n",
        "                discount (float): The discount factor,\n",
        "                planning_steps (int): The number of planning steps per environmental interaction\n",
        "\n",
        "                random_seed (int): the seed for the RNG used in epsilon-greedy\n",
        "                planning_random_seed (int): the seed for the RNG used in the planner\n",
        "            }\n",
        "        \"\"\"\n",
        "\n",
        "        # First, we get the relevant information from agent_info\n",
        "        # NOTE: we use np.random.RandomState(seed) to set the two different RNGs\n",
        "        # for the planner and the rest of the code\n",
        "        try:\n",
        "            self.num_states = agent_info[\"num_states\"]\n",
        "            self.num_actions = agent_info[\"num_actions\"]\n",
        "        except:\n",
        "            print(\"You need to pass both 'num_states' and 'num_actions' \\\n",
        "                   in agent_info to initialize the action-value table\")\n",
        "        self.gamma = agent_info.get(\"discount\", 0.95)\n",
        "        self.step_size = agent_info.get(\"step_size\", 0.1)\n",
        "        self.epsilon = agent_info.get(\"epsilon\", 0.1)\n",
        "        self.planning_steps = agent_info.get(\"planning_steps\", 10)\n",
        "\n",
        "        self.rand_generator = np.random.RandomState(agent_info.get('random_seed', 42))\n",
        "        self.planning_rand_generator = np.random.RandomState(agent_info.get('planning_random_seed', 42))\n",
        "\n",
        "        # Next, we initialize the attributes required by the agent, e.g., q_values, model, etc.\n",
        "        # A simple way to implement the model is to have a dictionary of dictionaries,\n",
        "        # mapping each state to a dictionary which maps actions to (reward, next state) tuples.\n",
        "        self.q_values = np.zeros((self.num_states, self.num_actions))\n",
        "        self.actions = list(range(self.num_actions))\n",
        "        self.past_action = -1\n",
        "        self.past_state = -1\n",
        "        self.model = {} # model is a dictionary of dictionaries, which maps states to actions to\n",
        "                        # (reward, next_state) tuples"
      ]
    },
    {
      "cell_type": "markdown",
      "metadata": {
        "deletable": true,
        "editable": true,
        "nbgrader": {
          "cell_type": "markdown",
          "checksum": "0aabcf332aa74c3e7db51eb0b47ab744",
          "grade": false,
          "grade_id": "cell-ee23a83113d8ed05",
          "locked": true,
          "schema_version": 3,
          "solution": false,
          "task": false
        },
        "id": "F0TnmGA4RSJ_"
      },
      "source": [
        "Now let's create the `update_model` method, which performs the 'Model Update' step in the pseudocode. It takes a `(s, a, s', r)` tuple and stores the next state and reward corresponding to a state-action pair.\n",
        "\n",
        "Remember, because the environment is deterministic, an easy way to implement the model is to have a dictionary of encountered states, each mapping to a dictionary of actions taken in those states, which in turn maps to a tuple of next state and reward. In this way, the model can be easily accessed by `model[s][a]`, which would return the `(s', r)` tuple."
      ]
    },
    {
      "cell_type": "code",
      "execution_count": 15,
      "metadata": {
        "deletable": true,
        "nbgrader": {
          "cell_type": "code",
          "checksum": "d6dd59f9c730360c26df3035b85ea17a",
          "grade": false,
          "grade_id": "cell-59c91c0887f0eaea",
          "locked": false,
          "schema_version": 3,
          "solution": true,
          "task": false
        },
        "id": "4FTc0JrsRSJ_"
      },
      "outputs": [],
      "source": [
        "def update_model(self, past_state, past_action, state, reward):\n",
        "    \"\"\"updates the model\n",
        "\n",
        "    Args:\n",
        "        past_state       (int): s\n",
        "        past_action      (int): a\n",
        "        state            (int): s'\n",
        "        reward           (int): r\n",
        "    Returns:\n",
        "        Nothing\n",
        "    \"\"\"\n",
        "    # Update the model with the (s,a,s',r) tuple (1~4 lines)\n",
        "\n",
        "    if past_state not in self.model.keys():\n",
        "        mydict = {past_action: (state, reward)}\n",
        "    else:\n",
        "        mydict = self.model[past_state]\n",
        "        mydict.update({past_action: (state, reward)})\n",
        "    self.model[past_state] = mydict\n",
        "\n",
        "DynaQAgent.update_model = update_model"
      ]
    },
    {
      "cell_type": "markdown",
      "metadata": {
        "deletable": true,
        "editable": true,
        "nbgrader": {
          "cell_type": "markdown",
          "checksum": "802b3f2ab731bdccc0adcfc6d4950229",
          "grade": false,
          "grade_id": "cell-f625328c7bd73d13",
          "locked": true,
          "schema_version": 3,
          "solution": false,
          "task": false
        },
        "id": "O-Zoan7fRSJ_"
      },
      "source": [
        "### Test `update_model()`"
      ]
    },
    {
      "cell_type": "code",
      "execution_count": 16,
      "metadata": {
        "deletable": true,
        "editable": true,
        "nbgrader": {
          "cell_type": "code",
          "checksum": "ab016ddc9bcf9816b2a62407532dede7",
          "grade": true,
          "grade_id": "cell-d4fa9f9e0a14ccfa",
          "locked": true,
          "points": 10,
          "schema_version": 3,
          "solution": false,
          "task": false
        },
        "id": "_rFeUruFRSKA"
      },
      "outputs": [],
      "source": [
        "actions = []\n",
        "agent_info = {\"num_actions\": 4,\n",
        "              \"num_states\": 3,\n",
        "              \"epsilon\": 0.1,\n",
        "              \"step_size\": 0.1,\n",
        "              \"discount\": 1.0,\n",
        "              \"random_seed\": 0,\n",
        "              \"planning_random_seed\": 0}\n",
        "\n",
        "agent = DynaQAgent()\n",
        "agent.agent_init(agent_info)\n",
        "\n",
        "# (past_state, past_action, state, reward)\n",
        "agent.update_model(0,2,0,1)\n",
        "agent.update_model(2,0,1,1)\n",
        "agent.update_model(0,3,1,2)\n",
        "\n",
        "expected_model = {\n",
        "    # action 2 in state 0 leads back to state 0 with a reward of 1\n",
        "    # or taking action 3 leads to state 1 with reward of 2\n",
        "    0: {\n",
        "        2: (0, 1),\n",
        "        3: (1, 2),\n",
        "    },\n",
        "    # taking action 0 in state 2 leads to state 1 with a reward of 1\n",
        "    2: {\n",
        "        0: (1, 1),\n",
        "    },\n",
        "}\n",
        "\n",
        "assert agent.model == expected_model\n",
        "\n"
      ]
    },
    {
      "cell_type": "markdown",
      "metadata": {
        "deletable": true,
        "editable": true,
        "nbgrader": {
          "cell_type": "markdown",
          "checksum": "4ad7e7911407af12a3ad8dea6a0e83fa",
          "grade": false,
          "grade_id": "cell-a398d6775a6d809a",
          "locked": true,
          "schema_version": 3,
          "solution": false,
          "task": false
        },
        "id": "f4wsfBXsRSKA"
      },
      "source": [
        "Next, you will implement the planning step, the crux of the Dyna-Q algorithm. You shall be calling this `planning_step` method at every timestep of every trajectory."
      ]
    },
    {
      "cell_type": "code",
      "execution_count": 17,
      "metadata": {
        "deletable": true,
        "nbgrader": {
          "cell_type": "code",
          "checksum": "2c48cb05d902ca761858cc4c81846350",
          "grade": false,
          "grade_id": "cell-1a90876a079f6ea2",
          "locked": false,
          "schema_version": 3,
          "solution": true,
          "task": false
        },
        "id": "O6WIzol1RSKA"
      },
      "outputs": [],
      "source": [
        "def planning_step(self):\n",
        "    \"\"\"performs planning, i.e. indirect RL.\n",
        "\n",
        "    Args:\n",
        "        None\n",
        "    Returns:\n",
        "        Nothing\n",
        "    \"\"\"\n",
        "\n",
        "    # The indirect RL step:\n",
        "    # - Choose a state and action from the set of experiences that are stored in the model. (~2 lines)\n",
        "    # - Query the model with this state-action pair for the predicted next state and reward.(~1 line)\n",
        "    # - Update the action values with this simulated experience.                            (2~4 lines)\n",
        "    # - Repeat for the required number of planning steps.\n",
        "    #\n",
        "    # Note that the update equation is different for terminal and non-terminal transitions.\n",
        "    # To differentiate between a terminal and a non-terminal next state, assume that the model stores\n",
        "    # the terminal state as a dummy state like -1\n",
        "\n",
        "    for i in range(self.planning_steps):\n",
        "        # Randomly select a state from the model\n",
        "        S = self.planning_rand_generator.choice(list(self.model.keys()))\n",
        "        # Randomly select an action from those available for the selected state\n",
        "        A = self.planning_rand_generator.choice(list(self.model[S].keys()))\n",
        "        # Get the predicted next state and reward\n",
        "        (Sp, R) = self.model[S][A]\n",
        "\n",
        "        # Update the Q-value using Q-learning update rule\n",
        "        if Sp == -1:  # Terminal state\n",
        "            target = R\n",
        "        else:\n",
        "            target = R + self.gamma * np.max(self.q_values[Sp])\n",
        "\n",
        "        self.q_values[S, A] += self.step_size * (target - self.q_values[S, A])\n",
        "\n",
        "DynaQAgent.planning_step= planning_step"
      ]
    },
    {
      "cell_type": "markdown",
      "metadata": {
        "deletable": true,
        "editable": true,
        "nbgrader": {
          "cell_type": "markdown",
          "checksum": "edbac5139f888befba4b2696d25fed12",
          "grade": false,
          "grade_id": "cell-35c7dcb9a38dd319",
          "locked": true,
          "schema_version": 3,
          "solution": false,
          "task": false
        },
        "id": "XvDXN_KJRSKB"
      },
      "source": [
        "### Test `planning_step()`"
      ]
    },
    {
      "cell_type": "code",
      "execution_count": 18,
      "metadata": {
        "deletable": true,
        "editable": true,
        "nbgrader": {
          "cell_type": "code",
          "checksum": "f8e02d9152bf919f6755239ef071f37c",
          "grade": true,
          "grade_id": "cell-8ae4b7a941ad7767",
          "locked": true,
          "points": 20,
          "schema_version": 3,
          "solution": false,
          "task": false
        },
        "id": "cyv6VaNGRSKB"
      },
      "outputs": [],
      "source": [
        "np.random.seed(0)\n",
        "\n",
        "actions = []\n",
        "agent_info = {\"num_actions\": 4,\n",
        "              \"num_states\": 3,\n",
        "              \"epsilon\": 0.1,\n",
        "              \"step_size\": 0.1,\n",
        "              \"discount\": 1.0,\n",
        "              \"planning_steps\": 4,\n",
        "              \"random_seed\": 0,\n",
        "              \"planning_random_seed\": 5}\n",
        "\n",
        "agent = DynaQAgent()\n",
        "agent.agent_init(agent_info)\n",
        "\n",
        "agent.update_model(0,2,1,1)\n",
        "agent.update_model(2,0,1,1)\n",
        "agent.update_model(0,3,0,1)\n",
        "agent.update_model(0,1,-1,1)\n",
        "\n",
        "expected_model = {\n",
        "    0: {\n",
        "        2: (1, 1),\n",
        "        3: (0, 1),\n",
        "        1: (-1, 1),\n",
        "    },\n",
        "    2: {\n",
        "        0: (1, 1),\n",
        "    },\n",
        "}\n",
        "\n",
        "assert agent.model == expected_model\n",
        "\n",
        "agent.planning_step()\n",
        "\n",
        "expected_values = np.array([\n",
        "    [0, 0.1, 0, 0.2],\n",
        "    [0, 0, 0, 0],\n",
        "    [0.1, 0, 0, 0],\n",
        "])\n",
        "assert np.all(np.isclose(agent.q_values, expected_values))\n",
        "\n"
      ]
    },
    {
      "cell_type": "markdown",
      "metadata": {
        "deletable": true,
        "editable": true,
        "nbgrader": {
          "cell_type": "markdown",
          "checksum": "a3534e47ea52ac6c4180d714a0e01e37",
          "grade": false,
          "grade_id": "cell-02566293dd5feb36",
          "locked": true,
          "schema_version": 3,
          "solution": false,
          "task": false
        },
        "id": "TrUmm72ERSKC"
      },
      "source": [
        "Now before you move on to implement the rest of the agent methods, here are the helper functions that you've used in the previous assessments for choosing an action using an $\\epsilon$-greedy policy."
      ]
    },
    {
      "cell_type": "code",
      "execution_count": 19,
      "metadata": {
        "deletable": true,
        "editable": true,
        "nbgrader": {
          "cell_type": "code",
          "checksum": "7d55430e58877032febb23ecb4ba8efd",
          "grade": false,
          "grade_id": "cell-cc975f6b2f1a6661",
          "locked": true,
          "schema_version": 3,
          "solution": false,
          "task": false
        },
        "id": "JoWK2-0VRSKC"
      },
      "outputs": [],
      "source": [
        "%%add_to DynaQAgent\n",
        "\n",
        "def argmax(self, q_values):\n",
        "    \"\"\"argmax with random tie-breaking\n",
        "    Args:\n",
        "        q_values (Numpy array): the array of action values\n",
        "    Returns:\n",
        "        action (int): an action with the highest value\n",
        "    \"\"\"\n",
        "    top = float(\"-inf\")\n",
        "    ties = []\n",
        "\n",
        "    for i in range(len(q_values)):\n",
        "        if q_values[i] > top:\n",
        "            top = q_values[i]\n",
        "            ties = []\n",
        "\n",
        "        if q_values[i] == top:\n",
        "            ties.append(i)\n",
        "\n",
        "    return self.rand_generator.choice(ties)\n",
        "\n",
        "def choose_action_egreedy(self, state):\n",
        "    \"\"\"returns an action using an epsilon-greedy policy w.r.t. the current action-value function.\n",
        "\n",
        "    Important: assume you have a random number generator 'rand_generator' as a part of the class\n",
        "                which you can use as self.rand_generator.choice() or self.rand_generator.rand()\n",
        "\n",
        "    Args:\n",
        "        state (List): coordinates of the agent (two elements)\n",
        "    Returns:\n",
        "        The action taken w.r.t. the aforementioned epsilon-greedy policy\n",
        "    \"\"\"\n",
        "\n",
        "    if self.rand_generator.rand() < self.epsilon:\n",
        "        action = self.rand_generator.choice(self.actions)\n",
        "    else:\n",
        "        values = self.q_values[state]\n",
        "        action = self.argmax(values)\n",
        "\n",
        "    return action\n",
        "\n",
        "DynaQAgent.argmax= argmax"
      ]
    },
    {
      "cell_type": "markdown",
      "metadata": {
        "deletable": true,
        "editable": true,
        "nbgrader": {
          "cell_type": "markdown",
          "checksum": "e4704ddcf5cfaad469470f8397c9397d",
          "grade": false,
          "grade_id": "cell-50858ea1e5f5db91",
          "locked": true,
          "schema_version": 3,
          "solution": false,
          "task": false
        },
        "id": "qg0S9tQ8RSKC"
      },
      "source": [
        "Next, you will implement the rest of the agent-related methods, namely `agent_start`, `agent_step`, and `agent_end`."
      ]
    },
    {
      "cell_type": "code",
      "execution_count": 21,
      "metadata": {
        "deletable": true,
        "nbgrader": {
          "cell_type": "code",
          "checksum": "ae45bcd826ba619bf18f2513c80b4079",
          "grade": false,
          "grade_id": "cell-34d9e8a161d6e5b4",
          "locked": false,
          "schema_version": 3,
          "solution": true,
          "task": false
        },
        "id": "4FdY8jLsRSKC"
      },
      "outputs": [],
      "source": [
        "def agent_start(self, state):\n",
        "    \"\"\"The first method called when the experiment starts,\n",
        "    called after the environment starts.\n",
        "    Args:\n",
        "        state (Numpy array): the state from the\n",
        "            environment's env_start function.\n",
        "    Returns:\n",
        "        (int) the first action the agent takes.\n",
        "    \"\"\"\n",
        "\n",
        "    # given the state, select the action using self.choose_action_egreedy()),\n",
        "    # and save current state and action (~2 lines)\n",
        "    action = self.choose_action_egreedy(state)\n",
        "    self.past_state = state\n",
        "    self.past_action = action\n",
        "\n",
        "    return self.past_action\n",
        "\n",
        "def agent_step(self, reward, state):\n",
        "    \"\"\"A step taken by the agent.\n",
        "\n",
        "    Args:\n",
        "        reward (float): the reward received for taking the last action taken\n",
        "        state (Numpy array): the state from the\n",
        "            environment's step based on where the agent ended up after the\n",
        "            last step\n",
        "    Returns:\n",
        "        (int) The action the agent takes given this state.\n",
        "    \"\"\"\n",
        "\n",
        "    # Direct-RL step (Q-learning update)\n",
        "    S = self.past_state\n",
        "    A = self.past_action\n",
        "    R = reward\n",
        "    Sp = state\n",
        "    target = R + self.gamma * np.max(self.q_values[Sp])\n",
        "    self.q_values[S, A] += self.step_size * (target - self.q_values[S, A])\n",
        "\n",
        "    # Model Update step\n",
        "    self.update_model(S, A, Sp, R)\n",
        "\n",
        "    # Planning step\n",
        "    self.planning_step()\n",
        "\n",
        "    # Action Selection step\n",
        "    action = self.choose_action_egreedy(state)\n",
        "\n",
        "    # Save current state and action\n",
        "    self.past_state = state\n",
        "    self.past_action = action\n",
        "\n",
        "    return self.past_action\n",
        "\n",
        "def agent_end(self, reward):\n",
        "    \"\"\"Called when the agent terminates.\n",
        "\n",
        "    Args:\n",
        "        reward (float): the reward the agent received for entering the\n",
        "            terminal state.\n",
        "    \"\"\"\n",
        "\n",
        "    # Direct RL update with final transition\n",
        "    S = self.past_state\n",
        "    A = self.past_action\n",
        "    self.q_values[S, A] += self.step_size * (reward - self.q_values[S, A])\n",
        "\n",
        "    # Model Update with final transition (using -1 as dummy terminal state)\n",
        "    self.update_model(S, A, -1, reward)\n",
        "\n",
        "    # One final planning step\n",
        "    self.planning_step()\n",
        "\n",
        "DynaQAgent.agent_start = agent_start\n",
        "DynaQAgent.agent_step = agent_step\n",
        "DynaQAgent.agent_end = agent_end"
      ]
    },
    {
      "cell_type": "markdown",
      "metadata": {
        "deletable": true,
        "editable": true,
        "nbgrader": {
          "cell_type": "markdown",
          "checksum": "684b56621417ff95a833db909acbc2b9",
          "grade": false,
          "grade_id": "cell-13ed73c6c6df5630",
          "locked": true,
          "schema_version": 3,
          "solution": false,
          "task": false
        },
        "id": "3ipbQ5joRSKC"
      },
      "source": [
        "### Test `agent_start()`, `agent_step()`, and `agent_end()`"
      ]
    },
    {
      "cell_type": "code",
      "execution_count": 22,
      "metadata": {
        "deletable": true,
        "editable": true,
        "nbgrader": {
          "cell_type": "code",
          "checksum": "8ce595f374dc31897a6698cae3652bef",
          "grade": true,
          "grade_id": "cell-02b41cfa4e281a4f",
          "locked": true,
          "points": 20,
          "schema_version": 3,
          "solution": false,
          "task": false
        },
        "id": "sbRjJdSXRSKC"
      },
      "outputs": [],
      "source": [
        "np.random.seed(0)\n",
        "\n",
        "agent_info = {\"num_actions\": 4,\n",
        "              \"num_states\": 3,\n",
        "              \"epsilon\": 0.1,\n",
        "              \"step_size\": 0.1,\n",
        "              \"discount\": 1.0,\n",
        "              \"random_seed\": 0,\n",
        "              \"planning_steps\": 2,\n",
        "              \"planning_random_seed\": 0}\n",
        "\n",
        "agent = DynaQAgent()\n",
        "agent.agent_init(agent_info)\n",
        "\n",
        "# ----------------\n",
        "# test agent start\n",
        "# ----------------\n",
        "\n",
        "action = agent.agent_start(0)\n",
        "\n",
        "assert action == 1\n",
        "assert agent.model == {}\n",
        "assert np.all(agent.q_values == 0)\n",
        "\n",
        "# ---------------\n",
        "# test agent step\n",
        "# ---------------\n",
        "\n",
        "action = agent.agent_step(1, 2)\n",
        "assert action == 3\n",
        "\n",
        "action = agent.agent_step(0, 1)\n",
        "assert action == 1\n",
        "\n",
        "expected_model = {\n",
        "    0: {\n",
        "        1: (2, 1),\n",
        "    },\n",
        "    2: {\n",
        "        3: (1, 0),\n",
        "    },\n",
        "}\n",
        "assert agent.model == expected_model\n",
        "\n",
        "expected_values = np.array([\n",
        "    [0, 0.3439, 0, 0],\n",
        "    [0, 0, 0, 0],\n",
        "    [0, 0, 0, 0],\n",
        "])\n",
        "assert np.allclose(agent.q_values, expected_values)\n",
        "\n",
        "# --------------\n",
        "# test agent end\n",
        "# --------------\n",
        "\n",
        "agent.agent_end(1)\n",
        "\n",
        "expected_model = {\n",
        "    0: {\n",
        "        1: (2, 1),\n",
        "    },\n",
        "    2: {\n",
        "        3: (1, 0),\n",
        "    },\n",
        "    1: {\n",
        "        1: (-1, 1),\n",
        "    },\n",
        "}\n",
        "assert agent.model == expected_model\n",
        "\n",
        "expected_values = np.array([\n",
        "    [0, 0.41051, 0, 0],\n",
        "    [0, 0.1, 0, 0],\n",
        "    [0, 0, 0, 0.01],\n",
        "])\n",
        "assert np.allclose(agent.q_values, expected_values)"
      ]
    },
    {
      "cell_type": "markdown",
      "metadata": {
        "deletable": true,
        "editable": true,
        "nbgrader": {
          "cell_type": "markdown",
          "checksum": "ebc65986e4b7d2a58cbaa4fc22508593",
          "grade": false,
          "grade_id": "cell-58a0061ef19de5af",
          "locked": true,
          "schema_version": 3,
          "solution": false,
          "task": false
        },
        "id": "X54wF0x0RSKE"
      },
      "source": [
        "### Experiment: Dyna-Q agent in the maze environment\n",
        "\n",
        "Now we have all the components of the `DynaQAgent` ready. Let's try it out on the maze environment!\n",
        "\n",
        "The next cell runs an experiment on this maze environment to test your implementation. The initial action values are $0$, the step-size parameter is $0.125$. and the exploration parameter is $\\epsilon=0.1$. After the experiment, the sum of rewards in each episode should match the correct result.\n",
        "\n",
        "We will try planning steps of $0,5,50$ and compare their performance in terms of the average number of steps taken to reach the goal state in the aforementioned maze environment. For scientific rigor, we will run each experiment $30$ times. In each experiment, we set the initial random-number-generator (RNG) seeds for a fair comparison across algorithms."
      ]
    },
    {
      "cell_type": "code",
      "execution_count": 23,
      "metadata": {
        "deletable": true,
        "editable": true,
        "nbgrader": {
          "cell_type": "code",
          "checksum": "6f1ce118374c859b81ca1a743bc1bd9b",
          "grade": false,
          "grade_id": "cell-744f017993777ec8",
          "locked": true,
          "schema_version": 3,
          "solution": false,
          "task": false
        },
        "id": "1G-jffwHRSKE"
      },
      "outputs": [],
      "source": [
        "def run_experiment(env, agent, env_parameters, agent_parameters, exp_parameters):\n",
        "\n",
        "    # Experiment settings\n",
        "    num_runs = exp_parameters['num_runs']\n",
        "    num_episodes = exp_parameters['num_episodes']\n",
        "    planning_steps_all = agent_parameters['planning_steps']\n",
        "\n",
        "    env_info = env_parameters\n",
        "    agent_info = {\"num_states\" : agent_parameters[\"num_states\"],  # We pass the agent the information it needs.\n",
        "                  \"num_actions\" : agent_parameters[\"num_actions\"],\n",
        "                  \"epsilon\": agent_parameters[\"epsilon\"],\n",
        "                  \"discount\": env_parameters[\"discount\"],\n",
        "                  \"step_size\" : agent_parameters[\"step_size\"]}\n",
        "\n",
        "    all_averages = np.zeros((len(planning_steps_all), num_runs, num_episodes)) # for collecting metrics\n",
        "    log_data = {'planning_steps_all' : planning_steps_all}                     # that shall be plotted later\n",
        "\n",
        "    for idx, planning_steps in enumerate(planning_steps_all):\n",
        "\n",
        "        print('Planning steps : ', planning_steps)\n",
        "        os.system('sleep 0.5')                    # to prevent tqdm printing out-of-order before the above print()\n",
        "        agent_info[\"planning_steps\"] = planning_steps\n",
        "\n",
        "        for i in tqdm(range(num_runs)):\n",
        "\n",
        "            agent_info['random_seed'] = i\n",
        "            agent_info['planning_random_seed'] = i\n",
        "\n",
        "            # Create a new RLGlue experiment for each run\n",
        "            rl_glue = RLGlue(env, agent)       # Creates a new RLGlue experiment with the env and agent we chose above\n",
        "            rl_glue.rl_init(agent_info, env_info)        # We pass RLGlue what it needs to initialize the agent and environment\n",
        "\n",
        "            for j in range(num_episodes):\n",
        "                # Start the episode\n",
        "                rl_glue.rl_start()                    # We start an episode. Here we aren't using rl_glue.rl_episode()\n",
        "                                                      # like the other assessments because we'll be requiring some\n",
        "                is_terminal = False                   # data from within the episodes in some of the experiments here\n",
        "                num_steps = 0\n",
        "\n",
        "                while not is_terminal:\n",
        "                    reward, state, action, is_terminal = rl_glue.rl_step()  # The environment and agent take a step\n",
        "                    num_steps += 1                                         # and return the reward and action taken.\n",
        "\n",
        "                all_averages[idx][i][j] = num_steps\n",
        "\n",
        "    log_data['all_averages'] = all_averages\n",
        "\n",
        "    return log_data\n",
        "\n",
        "\n",
        "def plot_steps_per_episode(data):\n",
        "    all_averages = data['all_averages']\n",
        "    planning_steps_all = data['planning_steps_all']\n",
        "\n",
        "    for i, planning_steps in enumerate(planning_steps_all):\n",
        "        plt.plot(np.mean(all_averages[i], axis=0), label='Planning steps = '+str(planning_steps))\n",
        "\n",
        "    plt.legend(loc='upper right')\n",
        "    plt.xlabel('Episodes')\n",
        "    plt.ylabel('Steps\\nper\\nepisode', rotation=0, labelpad=40)\n",
        "    plt.axhline(y=16, linestyle='--', color='grey', alpha=0.4)\n",
        "    plt.show()"
      ]
    },
    {
      "cell_type": "code",
      "execution_count": 24,
      "metadata": {
        "deletable": true,
        "editable": true,
        "nbgrader": {
          "cell_type": "code",
          "checksum": "f4b740a35fbe720e8ecc73ade69dd3cd",
          "grade": false,
          "grade_id": "cell-b7c90063cc0888e0",
          "locked": true,
          "schema_version": 3,
          "solution": false,
          "task": false
        },
        "colab": {
          "base_uri": "https://localhost:8080/",
          "height": 581
        },
        "id": "g5qvq-I4RSKE",
        "outputId": "e1c68d49-6e52-4237-9e84-e6462c069732"
      },
      "outputs": [
        {
          "output_type": "stream",
          "name": "stdout",
          "text": [
            "Planning steps :  0\n"
          ]
        },
        {
          "output_type": "stream",
          "name": "stderr",
          "text": [
            "100%|██████████| 30/30 [00:10<00:00,  2.91it/s]\n"
          ]
        },
        {
          "output_type": "stream",
          "name": "stdout",
          "text": [
            "Planning steps :  5\n"
          ]
        },
        {
          "output_type": "stream",
          "name": "stderr",
          "text": [
            "100%|██████████| 30/30 [00:13<00:00,  2.22it/s]\n"
          ]
        },
        {
          "output_type": "stream",
          "name": "stdout",
          "text": [
            "Planning steps :  50\n"
          ]
        },
        {
          "output_type": "stream",
          "name": "stderr",
          "text": [
            "100%|██████████| 30/30 [01:38<00:00,  3.30s/it]\n"
          ]
        },
        {
          "output_type": "display_data",
          "data": {
            "text/plain": [
              "<Figure size 800x500 with 1 Axes>"
            ],
            "image/png": "[encoded data removed]"
          },
          "metadata": {}
        }
      ],
      "source": [
        "# Experiment parameters\n",
        "experiment_parameters = {\n",
        "    \"num_runs\" : 30,                     # The number of times we run the experiment\n",
        "    \"num_episodes\" : 40,                 # The number of episodes per experiment\n",
        "}\n",
        "\n",
        "# Environment parameters\n",
        "environment_parameters = {\n",
        "    \"discount\": 0.95,\n",
        "}\n",
        "\n",
        "# Agent parameters\n",
        "agent_parameters = {\n",
        "    \"num_states\" : 54,\n",
        "    \"num_actions\" : 4,\n",
        "    \"epsilon\": 0.1,\n",
        "    \"step_size\" : 0.125,\n",
        "    \"planning_steps\" : [0, 5, 50]       # The list of planning_steps we want to try\n",
        "}\n",
        "\n",
        "current_env = ShortcutMazeEnvironment   # The environment\n",
        "current_agent = DynaQAgent              # The agent\n",
        "\n",
        "dataq = run_experiment(current_env, current_agent, environment_parameters, agent_parameters, experiment_parameters)\n",
        "plot_steps_per_episode(dataq)"
      ]
    },
    {
      "cell_type": "markdown",
      "metadata": {
        "deletable": true,
        "editable": true,
        "nbgrader": {
          "cell_type": "markdown",
          "checksum": "81c7635453f9c560e71d536f7e7be762",
          "grade": false,
          "grade_id": "cell-a44baca574f0e70c",
          "locked": true,
          "schema_version": 3,
          "solution": false,
          "task": false
        },
        "id": "ycgdY14RRSKF"
      },
      "source": [
        "What do you notice?\n",
        "\n",
        "As the number of planning steps increases, the number of episodes taken to reach the goal decreases rapidly. Remember that the RNG seed was set the same for all the three values of planning steps, resulting in the same number of steps taken to reach the goal in the first episode. Thereafter, the performance improves. The slowest improvement is when there are $n=0$ planning steps, i.e., for the non-planning Q-learning agent, even though the step size parameter was optimized for it. Note that the grey dotted line shows the minimum number of steps required to reach the goal state under the optimal greedy policy.\n",
        "\n",
        "---\n"
      ]
    },
    {
      "cell_type": "markdown",
      "metadata": {
        "deletable": true,
        "editable": true,
        "nbgrader": {
          "cell_type": "markdown",
          "checksum": "92986c0d6a6e9acfaf3cbab5ebafbf49",
          "grade": false,
          "grade_id": "cell-753d3ebd700359e6",
          "locked": true,
          "schema_version": 3,
          "solution": false,
          "task": false
        },
        "id": "DFd_tvDkRSKF"
      },
      "source": [
        "### Experiment(s): Dyna-Q agent in the _changing_ maze environment"
      ]
    },
    {
      "cell_type": "markdown",
      "metadata": {
        "deletable": true,
        "editable": true,
        "nbgrader": {
          "cell_type": "markdown",
          "checksum": "dd09e132177a8cc9b4a061de27754ad4",
          "grade": false,
          "grade_id": "cell-aa3974b49e4eda2f",
          "locked": true,
          "schema_version": 3,
          "solution": false,
          "task": false
        },
        "id": "Bs4fCS-ORSKF"
      },
      "source": [
        "Now let us see how Dyna-Q performs on the version of the maze in which a shorter path opens up after 3000 steps. The rest of the transition and reward dynamics remain the same.\n",
        "\n",
        "<img src=\"./images/shortcut_env_after.png\" alt=\"environment\" width=\"800\"/>\n",
        "\n",
        "Before you proceed, take a moment to think about what you expect to see. Will Dyna-Q find the new, shorter path to the goal? If so, why? If not, why not?"
      ]
    },
    {
      "cell_type": "code",
      "execution_count": 25,
      "metadata": {
        "deletable": true,
        "editable": true,
        "nbgrader": {
          "cell_type": "code",
          "checksum": "e89fe28e52a88aeed2388ac7afad4ab3",
          "grade": false,
          "grade_id": "cell-422bb22d0465830f",
          "locked": true,
          "schema_version": 3,
          "solution": false,
          "task": false
        },
        "id": "4T8X5j5ORSKF"
      },
      "outputs": [],
      "source": [
        "def run_experiment_with_state_visitations(env, agent, env_parameters, agent_parameters, exp_parameters, result_file_name):\n",
        "\n",
        "    # Experiment settings\n",
        "    num_runs = exp_parameters['num_runs']\n",
        "    num_max_steps = exp_parameters['num_max_steps']\n",
        "    planning_steps_all = agent_parameters['planning_steps']\n",
        "\n",
        "    env_info = {\"change_at_n\" : env_parameters[\"change_at_n\"]}\n",
        "    agent_info = {\"num_states\" : agent_parameters[\"num_states\"],\n",
        "                  \"num_actions\" : agent_parameters[\"num_actions\"],\n",
        "                  \"epsilon\": agent_parameters[\"epsilon\"],\n",
        "                  \"discount\": env_parameters[\"discount\"],\n",
        "                  \"step_size\" : agent_parameters[\"step_size\"]}\n",
        "\n",
        "    state_visits_before_change = np.zeros((len(planning_steps_all), num_runs, 54))  # For saving the number of\n",
        "    state_visits_after_change = np.zeros((len(planning_steps_all), num_runs, 54))   #     state-visitations\n",
        "    cum_reward_all = np.zeros((len(planning_steps_all), num_runs, num_max_steps))   # For saving the cumulative reward\n",
        "    log_data = {'planning_steps_all' : planning_steps_all}\n",
        "\n",
        "    for idx, planning_steps in enumerate(planning_steps_all):\n",
        "\n",
        "        print('Planning steps : ', planning_steps)\n",
        "        os.system('sleep 1')          # to prevent tqdm printing out-of-order before the above print()\n",
        "        agent_info[\"planning_steps\"] = planning_steps  # We pass the agent the information it needs.\n",
        "\n",
        "        for run in tqdm(range(num_runs)):\n",
        "\n",
        "            agent_info['random_seed'] = run\n",
        "            agent_info['planning_random_seed'] = run\n",
        "\n",
        "            rl_glue = RLGlue(env, agent)  # Creates a new RLGlue experiment with the env and agent we chose above\n",
        "            rl_glue.rl_init(agent_info, env_info) # We pass RLGlue what it needs to initialize the agent and environment\n",
        "\n",
        "            num_steps = 0\n",
        "            cum_reward = 0\n",
        "\n",
        "            while num_steps < num_max_steps-1:\n",
        "\n",
        "                state, action = rl_glue.rl_start()  # We start the experiment. We'll be collecting the\n",
        "                is_terminal = False            # state-visitation counts to visiualize the learned policy\n",
        "                if num_steps < env_parameters[\"change_at_n\"]:\n",
        "                    state_visits_before_change[idx][run][state] += 1\n",
        "                else:\n",
        "                    state_visits_after_change[idx][run][state] += 1\n",
        "\n",
        "                while not is_terminal and num_steps < num_max_steps-1:\n",
        "                    reward, state, action, is_terminal = rl_glue.rl_step()\n",
        "                    num_steps += 1\n",
        "                    cum_reward += reward\n",
        "                    cum_reward_all[idx][run][num_steps] = cum_reward\n",
        "                    if num_steps < env_parameters[\"change_at_n\"]:\n",
        "                        state_visits_before_change[idx][run][state] += 1\n",
        "                    else:\n",
        "                        state_visits_after_change[idx][run][state] += 1\n",
        "\n",
        "    log_data['state_visits_before'] = state_visits_before_change\n",
        "    log_data['state_visits_after'] = state_visits_after_change\n",
        "    log_data['cum_reward_all'] = cum_reward_all\n",
        "\n",
        "    return log_data\n",
        "\n",
        "def plot_cumulative_reward(data_all, item_key, y_key, y_axis_label, legend_prefix, title):\n",
        "    data_y_all = data_all[y_key]\n",
        "    items = data_all[item_key]\n",
        "\n",
        "    for i, item in enumerate(items):\n",
        "        plt.plot(np.mean(data_y_all[i], axis=0), label=legend_prefix+str(item))\n",
        "\n",
        "    plt.axvline(x=3000, linestyle='--', color='grey', alpha=0.4)\n",
        "    plt.xlabel('Timesteps')\n",
        "    plt.ylabel(y_axis_label, rotation=0, labelpad=60)\n",
        "    plt.legend(loc='upper left')\n",
        "    plt.title(title)\n",
        "    plt.show()"
      ]
    },
    {
      "cell_type": "markdown",
      "metadata": {
        "deletable": true,
        "editable": true,
        "nbgrader": {
          "cell_type": "markdown",
          "checksum": "ed82204e60d5cda36d818ca9bf653710",
          "grade": false,
          "grade_id": "cell-142b14ac90c9bff7",
          "locked": true,
          "schema_version": 3,
          "solution": false,
          "task": false
        },
        "id": "Yz7Z88E9RSKG"
      },
      "source": [
        "Did you notice that the environment changes after a fixed number of _steps_ and not episodes?\n",
        "\n",
        "This is because the environment is separate from the agent, and the environment changes irrespective of the length of each episode (i.e., the number of environmental interactions per episode) that the agent perceives. And hence we are now plotting the data per step or interaction of the agent and the environment, in order to comfortably see the differences in the behaviours of the agents before and after the environment changes.  "
      ]
    },
    {
      "cell_type": "markdown",
      "metadata": {
        "deletable": true,
        "editable": true,
        "nbgrader": {
          "cell_type": "markdown",
          "checksum": "4f802c06e5b1eb84585c6876ac3f2dd3",
          "grade": false,
          "grade_id": "cell-0b246e0fe5abb018",
          "locked": true,
          "schema_version": 3,
          "solution": false,
          "task": false
        },
        "id": "NTDzkoZ-RSKG"
      },
      "source": [
        "Now we will first plot the cumulative reward obtained by the agent per interaction with the environment, averaged over 10 runs of the experiment on this changing world."
      ]
    },
    {
      "cell_type": "code",
      "execution_count": 26,
      "metadata": {
        "deletable": true,
        "editable": true,
        "nbgrader": {
          "cell_type": "code",
          "checksum": "20b0026f54442a7ba37d7096128e03ed",
          "grade": false,
          "grade_id": "cell-9f7872900ce6b40f",
          "locked": true,
          "schema_version": 3,
          "solution": false,
          "task": false
        },
        "colab": {
          "base_uri": "https://localhost:8080/",
          "height": 608
        },
        "id": "g_aECShXRSKG",
        "outputId": "75e5b1cb-80a2-4a07-db06-bacc9f407917"
      },
      "outputs": [
        {
          "output_type": "stream",
          "name": "stdout",
          "text": [
            "Planning steps :  5\n"
          ]
        },
        {
          "output_type": "stream",
          "name": "stderr",
          "text": [
            "100%|██████████| 10/10 [00:16<00:00,  1.67s/it]\n"
          ]
        },
        {
          "output_type": "stream",
          "name": "stdout",
          "text": [
            "Planning steps :  10\n"
          ]
        },
        {
          "output_type": "stream",
          "name": "stderr",
          "text": [
            "100%|██████████| 10/10 [00:30<00:00,  3.00s/it]\n"
          ]
        },
        {
          "output_type": "stream",
          "name": "stdout",
          "text": [
            "Planning steps :  50\n"
          ]
        },
        {
          "output_type": "stream",
          "name": "stderr",
          "text": [
            "100%|██████████| 10/10 [02:16<00:00, 13.69s/it]\n"
          ]
        },
        {
          "output_type": "display_data",
          "data": {
            "text/plain": [
              "<Figure size 800x500 with 1 Axes>"
            ],
            "image/png": "[encoded data removed]"
          },
          "metadata": {}
        }
      ],
      "source": [
        "# Experiment parameters\n",
        "experiment_parameters = {\n",
        "    \"num_runs\" : 10,                     # The number of times we run the experiment\n",
        "    \"num_max_steps\" : 6000,              # The number of steps per experiment\n",
        "}\n",
        "\n",
        "# Environment parameters\n",
        "environment_parameters = {\n",
        "    \"discount\": 0.95,\n",
        "    \"change_at_n\": 3000\n",
        "}\n",
        "\n",
        "# Agent parameters\n",
        "agent_parameters = {\n",
        "    \"num_states\" : 54,\n",
        "    \"num_actions\" : 4,\n",
        "    \"epsilon\": 0.1,\n",
        "    \"step_size\" : 0.125,\n",
        "    \"planning_steps\" : [5, 10, 50]      # The list of planning_steps we want to try\n",
        "}\n",
        "\n",
        "current_env = ShortcutMazeEnvironment   # The environment\n",
        "current_agent = DynaQAgent              # The agent\n",
        "\n",
        "dataq = run_experiment_with_state_visitations(current_env, current_agent, environment_parameters, agent_parameters, experiment_parameters, \"Dyna-Q_shortcut_steps\")\n",
        "plot_cumulative_reward(dataq, 'planning_steps_all', 'cum_reward_all', 'Cumulative\\nreward', 'Planning steps = ', 'Dyna-Q : Varying planning_steps')"
      ]
    },
    {
      "cell_type": "markdown",
      "metadata": {
        "deletable": true,
        "editable": true,
        "nbgrader": {
          "cell_type": "markdown",
          "checksum": "ce1264bf93c93926107e736687bfe3ab",
          "grade": false,
          "grade_id": "cell-ae67d282ebad19ad",
          "locked": true,
          "schema_version": 3,
          "solution": false,
          "task": false
        },
        "id": "4ldJzBhcRSKH"
      },
      "source": [
        "We observe that the slope of the curves is almost constant. If the agent had discovered the shortcut and begun using it, we would expect to see an increase in the slope of the curves towards the later stages of training. This is because the agent can get to the goal state faster and get the positive reward. Note that the timestep at which the shortcut opens up is marked by the grey dotted line.\n",
        "\n",
        "Note that this trend is constant across the increasing number of planning steps.\n",
        "\n",
        "Now let's check the heatmap of the state visitations of the agent with `planning_steps=10` during training, before and after the shortcut opens up after 3000 timesteps."
      ]
    },
    {
      "cell_type": "code",
      "execution_count": 28,
      "metadata": {
        "deletable": true,
        "editable": true,
        "nbgrader": {
          "cell_type": "code",
          "checksum": "bfe46c5772be65c97fa8ba81d947f985",
          "grade": false,
          "grade_id": "cell-c21d98bc4f7296d6",
          "locked": true,
          "schema_version": 3,
          "solution": false,
          "task": false
        },
        "id": "Vvlr1Uw0RSKH"
      },
      "outputs": [],
      "source": [
        "def plot_state_visitations(data, plot_titles, idx):\n",
        "    data_keys = [\"state_visits_before\", \"state_visits_after\"]\n",
        "    positions = [211,212]\n",
        "    titles = plot_titles\n",
        "    wall_ends = [None,-1]\n",
        "\n",
        "    for i in range(2):\n",
        "\n",
        "        state_visits = data[data_keys[i]][idx]\n",
        "        average_state_visits = np.mean(state_visits, axis=0)\n",
        "        grid_state_visits = np.rot90(average_state_visits.reshape((6,9)).T)\n",
        "        grid_state_visits[2,1:wall_ends[i]] = np.nan # walls\n",
        "        #print(average_state_visits.reshape((6,9)))\n",
        "        plt.subplot(positions[i])\n",
        "        plt.pcolormesh(grid_state_visits, edgecolors='gray', linewidth=1, cmap='viridis')\n",
        "        plt.text(3+0.5, 0+0.5, 'S', horizontalalignment='center', verticalalignment='center')\n",
        "        plt.text(8+0.5, 5+0.5, 'G', horizontalalignment='center', verticalalignment='center')\n",
        "        plt.title(titles[i])\n",
        "        plt.axis('off')\n",
        "        cm = plt.get_cmap()\n",
        "        cm.set_bad('gray')\n",
        "\n",
        "    plt.subplots_adjust(bottom=0.0, right=0.7, top=1.0)\n",
        "    cax = plt.axes([1., 0.0, 0.075, 1.])\n",
        "    cbar = plt.colorbar(cax=cax)\n",
        "    plt.show()"
      ]
    },
    {
      "cell_type": "code",
      "execution_count": 29,
      "metadata": {
        "deletable": true,
        "editable": true,
        "nbgrader": {
          "cell_type": "code",
          "checksum": "ee68fcbd81419dd6d30abaaa38f5a48d",
          "grade": false,
          "grade_id": "cell-aa17be852a4fa1e1",
          "locked": true,
          "schema_version": 3,
          "solution": false,
          "task": false
        },
        "colab": {
          "base_uri": "https://localhost:8080/",
          "height": 564
        },
        "id": "8818asXVRSKH",
        "outputId": "cd747791-22a7-4fc8-c99e-b1b02673db7c"
      },
      "outputs": [
        {
          "output_type": "display_data",
          "data": {
            "text/plain": [
              "<Figure size 800x500 with 3 Axes>"
            ],
            "image/png": "[encoded data removed]"
          },
          "metadata": {}
        }
      ],
      "source": [
        "# Do not modify this cell!\n",
        "\n",
        "plot_state_visitations(dataq, ['Dyna-Q : State visitations before the env changes', 'Dyna-Q : State visitations after the env changes'], 1)"
      ]
    },
    {
      "cell_type": "markdown",
      "metadata": {
        "deletable": true,
        "editable": true,
        "nbgrader": {
          "cell_type": "markdown",
          "checksum": "0979f12aeeebfa64035c9f27fc407d97",
          "grade": false,
          "grade_id": "cell-50778038da2d7233",
          "locked": true,
          "schema_version": 3,
          "solution": false,
          "task": false
        },
        "id": "Gx2lduozRSKH"
      },
      "source": [
        "What do you observe?\n",
        "\n",
        "The state visitation map looks almost the same before and after the shortcut opens. This means that the Dyna-Q agent hasn't quite discovered and started exploiting the new shortcut.\n",
        "\n",
        "Now let's try increasing the exploration parameter $\\epsilon$ to see if it helps the Dyna-Q agent discover the shortcut."
      ]
    },
    {
      "cell_type": "code",
      "execution_count": 30,
      "metadata": {
        "deletable": true,
        "editable": true,
        "nbgrader": {
          "cell_type": "code",
          "checksum": "c2dcbc40b05319c4b4efc75ae0128e4d",
          "grade": false,
          "grade_id": "cell-27a96a3ebc8bd13a",
          "locked": true,
          "schema_version": 3,
          "solution": false,
          "task": false
        },
        "id": "ras2U5A8RSKH"
      },
      "outputs": [],
      "source": [
        "def run_experiment_only_cumulative_reward(env, agent, env_parameters, agent_parameters, exp_parameters):\n",
        "\n",
        "    # Experiment settings\n",
        "    num_runs = exp_parameters['num_runs']\n",
        "    num_max_steps = exp_parameters['num_max_steps']\n",
        "    epsilons = agent_parameters['epsilons']\n",
        "\n",
        "    env_info = {\"change_at_n\" : env_parameters[\"change_at_n\"]}\n",
        "    agent_info = {\"num_states\" : agent_parameters[\"num_states\"],\n",
        "                  \"num_actions\" : agent_parameters[\"num_actions\"],\n",
        "                  \"planning_steps\": agent_parameters[\"planning_steps\"],\n",
        "                  \"discount\": env_parameters[\"discount\"],\n",
        "                  \"step_size\" : agent_parameters[\"step_size\"]}\n",
        "\n",
        "    log_data = {'epsilons' : epsilons}\n",
        "    cum_reward_all = np.zeros((len(epsilons), num_runs, num_max_steps))\n",
        "\n",
        "    for eps_idx, epsilon in enumerate(epsilons):\n",
        "\n",
        "        print('Agent : Dyna-Q, epsilon : %f' % epsilon)\n",
        "        os.system('sleep 1')          # to prevent tqdm printing out-of-order before the above print()\n",
        "        agent_info[\"epsilon\"] = epsilon\n",
        "\n",
        "        for run in tqdm(range(num_runs)):\n",
        "\n",
        "            agent_info['random_seed'] = run\n",
        "            agent_info['planning_random_seed'] = run\n",
        "\n",
        "            rl_glue = RLGlue(env, agent)  # Creates a new RLGlue experiment with the env and agent we chose above\n",
        "            rl_glue.rl_init(agent_info, env_info) # We pass RLGlue what it needs to initialize the agent and environment\n",
        "\n",
        "            num_steps = 0\n",
        "            cum_reward = 0\n",
        "\n",
        "            while num_steps < num_max_steps-1:\n",
        "\n",
        "                rl_glue.rl_start()  # We start the experiment\n",
        "                is_terminal = False\n",
        "\n",
        "                while not is_terminal and num_steps < num_max_steps-1:\n",
        "                    reward, _, action, is_terminal = rl_glue.rl_step()  # The environment and agent take a step and return\n",
        "                    # the reward, and action taken.\n",
        "                    num_steps += 1\n",
        "                    cum_reward += reward\n",
        "                    cum_reward_all[eps_idx][run][num_steps] = cum_reward\n",
        "\n",
        "    log_data['cum_reward_all'] = cum_reward_all\n",
        "    return log_data"
      ]
    },
    {
      "cell_type": "code",
      "execution_count": 31,
      "metadata": {
        "deletable": true,
        "editable": true,
        "nbgrader": {
          "cell_type": "code",
          "checksum": "35b1244013e6641a28af6ee1c5e19020",
          "grade": false,
          "grade_id": "cell-7e4c0e42c445b2dc",
          "locked": true,
          "schema_version": 3,
          "solution": false,
          "task": false
        },
        "colab": {
          "base_uri": "https://localhost:8080/",
          "height": 645
        },
        "id": "p2uv2MCoRSKI",
        "outputId": "82c88a4f-fb85-426d-93db-22ca6f1d4742"
      },
      "outputs": [
        {
          "output_type": "stream",
          "name": "stdout",
          "text": [
            "Agent : Dyna-Q, epsilon : 0.100000\n"
          ]
        },
        {
          "output_type": "stream",
          "name": "stderr",
          "text": [
            "100%|██████████| 30/30 [01:30<00:00,  3.01s/it]\n"
          ]
        },
        {
          "output_type": "stream",
          "name": "stdout",
          "text": [
            "Agent : Dyna-Q, epsilon : 0.200000\n"
          ]
        },
        {
          "output_type": "stream",
          "name": "stderr",
          "text": [
            "100%|██████████| 30/30 [01:30<00:00,  3.03s/it]\n"
          ]
        },
        {
          "output_type": "stream",
          "name": "stdout",
          "text": [
            "Agent : Dyna-Q, epsilon : 0.400000\n"
          ]
        },
        {
          "output_type": "stream",
          "name": "stderr",
          "text": [
            "100%|██████████| 30/30 [01:30<00:00,  3.02s/it]\n"
          ]
        },
        {
          "output_type": "stream",
          "name": "stdout",
          "text": [
            "Agent : Dyna-Q, epsilon : 0.800000\n"
          ]
        },
        {
          "output_type": "stream",
          "name": "stderr",
          "text": [
            "100%|██████████| 30/30 [01:28<00:00,  2.94s/it]\n"
          ]
        },
        {
          "output_type": "display_data",
          "data": {
            "text/plain": [
              "<Figure size 800x500 with 1 Axes>"
            ],
            "image/png": "[encoded data removed]"
          },
          "metadata": {}
        }
      ],
      "source": [
        "# Experiment parameters\n",
        "experiment_parameters = {\n",
        "    \"num_runs\" : 30,                     # The number of times we run the experiment\n",
        "    \"num_max_steps\" : 6000,              # The number of steps per experiment\n",
        "}\n",
        "\n",
        "# Environment parameters\n",
        "environment_parameters = {\n",
        "    \"discount\": 0.95,\n",
        "    \"change_at_n\": 3000\n",
        "}\n",
        "\n",
        "# Agent parameters\n",
        "agent_parameters = {\n",
        "    \"num_states\" : 54,\n",
        "    \"num_actions\" : 4,\n",
        "    \"step_size\" : 0.125,\n",
        "    \"planning_steps\" : 10,\n",
        "    \"epsilons\": [0.1, 0.2, 0.4, 0.8]    # The list of epsilons we want to try\n",
        "}\n",
        "\n",
        "current_env = ShortcutMazeEnvironment   # The environment\n",
        "current_agent = DynaQAgent              # The agent\n",
        "\n",
        "data = run_experiment_only_cumulative_reward(current_env, current_agent, environment_parameters, agent_parameters, experiment_parameters)\n",
        "plot_cumulative_reward(data, 'epsilons', 'cum_reward_all', 'Cumulative\\nreward', r'$\\epsilon$ = ', r'Dyna-Q : Varying $\\epsilon$')"
      ]
    },
    {
      "cell_type": "markdown",
      "metadata": {
        "deletable": true,
        "editable": true,
        "nbgrader": {
          "cell_type": "markdown",
          "checksum": "3e41acbeb9782671cdca735c33cf9b16",
          "grade": false,
          "grade_id": "cell-8159dc6c61e345f9",
          "locked": true,
          "schema_version": 3,
          "solution": false,
          "task": false
        },
        "id": "rmXceQUdRSKJ"
      },
      "source": [
        "### Observation from the Plot\n",
        "\n",
        "From the plot titled **\"Dyna-Q: Varying ε\"**, we observe the following:\n",
        "\n",
        "- As **ε increases**, the **cumulative reward decreases**.\n",
        "- This is because:\n",
        "  - A higher ε results in more exploration (more random actions).\n",
        "  - A lower ε results in more exploitation (selecting actions with the highest Q-values).\n",
        "\n",
        "In a deterministic environment, once the agent learns a good policy, excessive exploration tends to disrupt performance rather than improve it.\n",
        "\n",
        "---\n",
        "\n",
        "### Why is this happening?\n",
        "\n",
        "- With **ε = 0.1**, the agent explores occasionally but mostly exploits what it has learned, which results in better cumulative reward.\n",
        "- With **ε = 0.8**, the agent explores frequently and doesn't reliably follow the optimal policy, leading to lower cumulative reward.\n",
        "\n",
        "---\n",
        "\n",
        "### Can we do better?\n",
        "\n",
        "Yes, better exploration strategies can help the agent perform well without relying heavily on a constant high ε.\n",
        "\n",
        "#### 1. Decaying ε-greedy\n",
        "\n",
        "Instead of keeping ε fixed, start with a high ε and gradually reduce it over time. This allows the agent to explore early on and exploit later.\n",
        "\n",
        "```python\n",
        "epsilon = max(min_epsilon, epsilon * decay_rate)\n"
      ]
    },
    {
      "cell_type": "markdown",
      "metadata": {
        "deletable": true,
        "editable": true,
        "nbgrader": {
          "cell_type": "markdown",
          "checksum": "88675c8ce603f560311089a74104f394",
          "grade": false,
          "grade_id": "cell-62df4f966a370995",
          "locked": true,
          "schema_version": 3,
          "solution": false,
          "task": false
        },
        "id": "wIXEV89NRSKJ"
      },
      "source": [
        "## Section 2: Dyna-Q+"
      ]
    },
    {
      "cell_type": "markdown",
      "metadata": {
        "deletable": true,
        "editable": true,
        "nbgrader": {
          "cell_type": "markdown",
          "checksum": "15faa0c27e0b1427655f666914540c23",
          "grade": false,
          "grade_id": "cell-7961458a916a28a8",
          "locked": true,
          "schema_version": 3,
          "solution": false,
          "task": false
        },
        "id": "SSC7K9pmRSKK"
      },
      "source": [
        "The motivation behind Dyna-Q+ is to give a bonus reward for actions that haven't been tried for a long time, since there is a greater chance that the dynamics for that actions might have changed.\n",
        "\n",
        "In particular, if the modeled reward for a transition is $r$, and the transition has not been tried in $\\tau(s,a)$ time steps, then planning updates are done as if that transition produced a reward of $r + \\kappa \\sqrt{ \\tau(s,a)}$, for some small $\\kappa$.\n",
        "\n",
        "Let's implement that!\n",
        "\n",
        "Based on your `DynaQAgent`, create a new class `DynaQPlusAgent` to implement the aforementioned exploration heuristic. Additionally :\n",
        "1. actions that had never been tried before from a state should now be allowed to be considered in the planning step,\n",
        "2. and the initial model for such actions is that they lead back to the same state with a reward of zero."
      ]
    },
    {
      "cell_type": "markdown",
      "metadata": {
        "deletable": true,
        "editable": true,
        "nbgrader": {
          "cell_type": "markdown",
          "checksum": "fc1df956ada702fea2fdd43be25d2144",
          "grade": false,
          "grade_id": "cell-5cb32fc5b37ad166",
          "locked": true,
          "schema_version": 3,
          "solution": false,
          "task": false
        },
        "id": "0XOlMyskRSKK"
      },
      "source": [
        "As usual, let's break this down in pieces and do it one-by-one.\n",
        "\n",
        "First of all, check out the `agent_init` method below. In particular, pay attention to the attributes which are new to `DynaQPlusAgent` (state-visitation counts $\\tau$ and the scaling parameter $\\kappa$) because you shall be using them later."
      ]
    },
    {
      "cell_type": "code",
      "execution_count": 27,
      "metadata": {
        "deletable": true,
        "editable": true,
        "nbgrader": {
          "cell_type": "code",
          "checksum": "f941a227e6e8174f497769e87d5968b5",
          "grade": false,
          "grade_id": "cell-539ab8af016fc473",
          "locked": true,
          "schema_version": 3,
          "solution": false,
          "task": false
        },
        "id": "KA_p950ORSKK"
      },
      "outputs": [],
      "source": [
        "class DynaQPlusAgent(BaseAgent):\n",
        "\n",
        "    def agent_init(self, agent_info):\n",
        "        \"\"\"Setup for the agent called when the experiment first starts.\n",
        "\n",
        "        Args:\n",
        "            agent_init_info (dict), the parameters used to initialize the agent. The dictionary contains:\n",
        "            {\n",
        "                num_states (int): The number of states,\n",
        "                num_actions (int): The number of actions,\n",
        "                epsilon (float): The parameter for epsilon-greedy exploration,\n",
        "                step_size (float): The step-size,\n",
        "                discount (float): The discount factor,\n",
        "                planning_steps (int): The number of planning steps per environmental interaction\n",
        "                kappa (float): The scaling factor for the reward bonus\n",
        "\n",
        "                random_seed (int): the seed for the RNG used in epsilon-greedy\n",
        "                planning_random_seed (int): the seed for the RNG used in the planner\n",
        "            }\n",
        "        \"\"\"\n",
        "\n",
        "        # First, we get the relevant information from agent_info\n",
        "        # Note: we use np.random.RandomState(seed) to set the two different RNGs\n",
        "        # for the planner and the rest of the code\n",
        "        try:\n",
        "            self.num_states = agent_info[\"num_states\"]\n",
        "            self.num_actions = agent_info[\"num_actions\"]\n",
        "        except:\n",
        "            print(\"You need to pass both 'num_states' and 'num_actions' \\\n",
        "                   in agent_info to initialize the action-value table\")\n",
        "        self.gamma = agent_info.get(\"discount\", 0.95)\n",
        "        self.step_size = agent_info.get(\"step_size\", 0.1)\n",
        "        self.epsilon = agent_info.get(\"epsilon\", 0.1)\n",
        "        self.planning_steps = agent_info.get(\"planning_steps\", 10)\n",
        "        self.kappa = agent_info.get(\"kappa\", 0.001)\n",
        "\n",
        "        self.rand_generator = np.random.RandomState(agent_info.get('random_seed', 42))\n",
        "        self.planning_rand_generator = np.random.RandomState(agent_info.get('planning_random_seed', 42))\n",
        "\n",
        "        # Next, we initialize the attributes required by the agent, e.g., q_values, model, tau, etc.\n",
        "        # The visitation-counts can be stored as a table as well, like the action values\n",
        "        self.q_values = np.zeros((self.num_states, self.num_actions))\n",
        "        self.tau = np.zeros((self.num_states, self.num_actions))\n",
        "        self.actions = list(range(self.num_actions))\n",
        "        self.past_action = -1\n",
        "        self.past_state = -1\n",
        "        self.model = {}"
      ]
    },
    {
      "cell_type": "markdown",
      "metadata": {
        "deletable": true,
        "editable": true,
        "nbgrader": {
          "cell_type": "markdown",
          "checksum": "1a7b620740e82640f572213177bee2ef",
          "grade": false,
          "grade_id": "cell-1cad0227d9ff16d5",
          "locked": true,
          "schema_version": 3,
          "solution": false,
          "task": false
        },
        "id": "z79WS2F4RSKK"
      },
      "source": [
        "Now first up, implement the `update_model` method. Note that this is different from Dyna-Q in the aforementioned way.\n"
      ]
    },
    {
      "cell_type": "code",
      "execution_count": 35,
      "metadata": {
        "deletable": true,
        "nbgrader": {
          "cell_type": "code",
          "checksum": "ff36e4ae144e4409bd1ea34b1918000f",
          "grade": false,
          "grade_id": "cell-d4452e4cd395456a",
          "locked": false,
          "schema_version": 3,
          "solution": true,
          "task": false
        },
        "id": "wpQlr8ODRSKL"
      },
      "outputs": [],
      "source": [
        "def update_model(self, past_state, past_action, state, reward):\n",
        "    \"\"\"updates the model\n",
        "    Args:\n",
        "        past_state  (int): s\n",
        "        past_action (int): a\n",
        "        state       (int): s'\n",
        "        reward      (int): r\n",
        "    Returns:\n",
        "        Nothing\n",
        "    \"\"\"\n",
        "    # Recall that when adding a state-action to the model, if the agent is visiting the state\n",
        "    #    for the first time, then the remaining actions need to be added to the model as well\n",
        "    #    with zero reward and a transition into itself.\n",
        "    #\n",
        "    # Note: do *not* update the visitation-counts here. We will do that in `agent_step`.\n",
        "\n",
        "    if past_state not in self.model.keys():\n",
        "        self.model[past_state] = {past_action: (state, reward)}\n",
        "\n",
        "        for a in range(self.num_actions):\n",
        "            if a != past_action:\n",
        "                self.model[past_state][a] = (past_state, 0)\n",
        "    else:\n",
        "        self.model[past_state][past_action] = (state, reward)\n",
        "\n",
        "DynaQPlusAgent.update_model= update_model"
      ]
    },
    {
      "cell_type": "markdown",
      "metadata": {
        "deletable": true,
        "editable": true,
        "nbgrader": {
          "cell_type": "markdown",
          "checksum": "a9c44b9a6b276c0e08312dec0d413076",
          "grade": false,
          "grade_id": "cell-a44ec8b7ac701e0c",
          "locked": true,
          "schema_version": 3,
          "solution": false,
          "task": false
        },
        "id": "vJvDbFKqRSKL"
      },
      "source": [
        "### Test `update_model()`"
      ]
    },
    {
      "cell_type": "code",
      "execution_count": 36,
      "metadata": {
        "deletable": true,
        "editable": true,
        "nbgrader": {
          "cell_type": "code",
          "checksum": "fc850bdd9ff71c46e5e9b7246c7625d4",
          "grade": true,
          "grade_id": "cell-8cdef71644d2952f",
          "locked": true,
          "points": 5,
          "schema_version": 3,
          "solution": false,
          "task": false
        },
        "id": "qSCPhL7cRSKL"
      },
      "outputs": [],
      "source": [
        "actions = []\n",
        "agent_info = {\"num_actions\": 4,\n",
        "              \"num_states\": 3,\n",
        "              \"epsilon\": 0.1,\n",
        "              \"step_size\": 0.1,\n",
        "              \"discount\": 1.0,\n",
        "              \"random_seed\": 0,\n",
        "              \"planning_random_seed\": 0}\n",
        "\n",
        "agent = DynaQPlusAgent()\n",
        "agent.agent_init(agent_info)\n",
        "\n",
        "agent.update_model(0,2,0,1)\n",
        "agent.update_model(2,0,1,1)\n",
        "agent.update_model(0,3,1,2)\n",
        "agent.tau[0][0] += 1\n",
        "\n",
        "expected_model = {\n",
        "    0: {\n",
        "        0: (0, 0),\n",
        "        1: (0, 0),\n",
        "        2: (0, 1),\n",
        "        3: (1, 2),\n",
        "    },\n",
        "    2: {\n",
        "        0: (1, 1),\n",
        "        1: (2, 0),\n",
        "        2: (2, 0),\n",
        "        3: (2, 0),\n",
        "    },\n",
        "}\n",
        "assert agent.model == expected_model"
      ]
    },
    {
      "cell_type": "markdown",
      "metadata": {
        "deletable": true,
        "editable": true,
        "nbgrader": {
          "cell_type": "markdown",
          "checksum": "9c1771a9ba649fde3e588bae3022e161",
          "grade": false,
          "grade_id": "cell-885fe1cd5447e0b0",
          "locked": true,
          "schema_version": 3,
          "solution": false,
          "task": false
        },
        "id": "BtgPxAXORSKL"
      },
      "source": [
        "Next, you will implement the `planning_step()` method. This will be very similar to the one you implemented in `DynaQAgent`, but here you will be adding the exploration bonus to the reward in the simulated transition."
      ]
    },
    {
      "cell_type": "code",
      "execution_count": 37,
      "metadata": {
        "deletable": true,
        "nbgrader": {
          "cell_type": "code",
          "checksum": "6ef80ec707602f554d0a56412d066855",
          "grade": false,
          "grade_id": "cell-b3605364bf724124",
          "locked": false,
          "schema_version": 3,
          "solution": true,
          "task": false
        },
        "id": "LicrZXlsRSKM"
      },
      "outputs": [],
      "source": [
        "def planning_step(self):\n",
        "    \"\"\"performs planning, i.e. indirect RL.\n",
        "\n",
        "    Args:\n",
        "        None\n",
        "    Returns:\n",
        "        Nothing\n",
        "    \"\"\"\n",
        "\n",
        "    # The indirect RL step:\n",
        "    # - Choose a state and action from the set of experiences that are stored in the model. (~2 lines)\n",
        "    # - Query the model with this state-action pair for the predicted next state and reward.(~1 line)\n",
        "    # - **Add the bonus to the reward** (~1 line)\n",
        "    # - Update the action values with this simulated experience.                            (2~4 lines)\n",
        "    # - Repeat for the required number of planning steps.\n",
        "    #\n",
        "    # Note that the update equation is different for terminal and non-terminal transitions.\n",
        "    # To differentiate between a terminal and a non-terminal next state, assume that the model stores\n",
        "    # the terminal state as a dummy state like -1\n",
        "    #\n",
        "    # Important: remember you have a random number generator 'planning_rand_generator' as\n",
        "    #     a part of the class which you need to use as self.planning_rand_generator.choice()\n",
        "    #     For the sake of reproducibility and grading, *do not* use anything else like\n",
        "    #     np.random.choice() for performing search control.\n",
        "\n",
        "    for i in range(self.planning_steps):\n",
        "        # Randomly select a state from the model\n",
        "        S = self.planning_rand_generator.choice(list(self.model.keys()))\n",
        "        # Randomly select an action from those available for the selected state\n",
        "        A = self.planning_rand_generator.choice(list(self.model[S].keys()))\n",
        "        # Get the predicted next state and reward\n",
        "        (Sp, R) = self.model[S][A]\n",
        "        # Add the bonus reward based on visitation counts\n",
        "        R = R + self.kappa * np.sqrt(self.tau[S, A])\n",
        "\n",
        "        # Update the Q-value using Q-learning update rule\n",
        "        if Sp == -1:  # Terminal state\n",
        "            target = R\n",
        "        else:\n",
        "            target = R + self.gamma * np.max(self.q_values[Sp])\n",
        "\n",
        "        self.q_values[S, A] += self.step_size * (target - self.q_values[S, A])\n",
        "\n",
        "DynaQPlusAgent.planning_step= planning_step"
      ]
    },
    {
      "cell_type": "markdown",
      "metadata": {
        "deletable": true,
        "editable": true,
        "nbgrader": {
          "cell_type": "markdown",
          "checksum": "4d4d85edc08c8307d5a7072c79c30aad",
          "grade": false,
          "grade_id": "cell-0df5e5a11dce577b",
          "locked": true,
          "schema_version": 3,
          "solution": false,
          "task": false
        },
        "id": "vReSePzpRSKM"
      },
      "source": [
        "### Test `planning_step()`"
      ]
    },
    {
      "cell_type": "code",
      "execution_count": 38,
      "metadata": {
        "deletable": true,
        "editable": true,
        "nbgrader": {
          "cell_type": "code",
          "checksum": "506a78d3a89c1a04c8f59e6a69515623",
          "grade": true,
          "grade_id": "cell-1bae4d3c34b953a2",
          "locked": true,
          "points": 10,
          "schema_version": 3,
          "solution": false,
          "task": false
        },
        "id": "ytBwB083RSKM"
      },
      "outputs": [],
      "source": [
        "## Test code for planning_step() ##\n",
        "\n",
        "actions = []\n",
        "agent_info = {\"num_actions\": 4,\n",
        "              \"num_states\": 3,\n",
        "              \"epsilon\": 0.1,\n",
        "              \"step_size\": 0.1,\n",
        "              \"discount\": 1.0,\n",
        "              \"kappa\": 0.001,\n",
        "              \"planning_steps\": 4,\n",
        "              \"random_seed\": 0,\n",
        "              \"planning_random_seed\": 1}\n",
        "\n",
        "agent = DynaQPlusAgent()\n",
        "agent.agent_init(agent_info)\n",
        "\n",
        "agent.update_model(0,1,-1,1)\n",
        "agent.tau += 1\n",
        "agent.tau[0][1] = 0\n",
        "\n",
        "agent.update_model(0,2,1,1)\n",
        "agent.tau += 1\n",
        "agent.tau[0][2] = 0\n",
        "\n",
        "agent.update_model(2,0,1,1)\n",
        "agent.tau += 1\n",
        "agent.tau[2][0] = 0\n",
        "\n",
        "agent.planning_step()\n",
        "\n",
        "expected_model = {\n",
        "    0: {\n",
        "        1: (-1, 1),\n",
        "        0: (0, 0),\n",
        "        2: (1, 1),\n",
        "        3: (0, 0),\n",
        "    },\n",
        "    2: {\n",
        "        0: (1, 1),\n",
        "        1: (2, 0),\n",
        "        2: (2, 0),\n",
        "        3: (2, 0),\n",
        "    },\n",
        "}\n",
        "assert agent.model == expected_model\n",
        "\n",
        "expected_values = np.array([\n",
        "    [0, 0.10014142, 0, 0],\n",
        "    [0, 0, 0, 0],\n",
        "    [0, 0.00036373, 0, 0.00017321],\n",
        "])\n",
        "assert np.allclose(agent.q_values, expected_values)"
      ]
    },
    {
      "cell_type": "markdown",
      "metadata": {
        "deletable": true,
        "editable": true,
        "nbgrader": {
          "cell_type": "markdown",
          "checksum": "0463f44477f43a3e5ac587a664caf3e9",
          "grade": false,
          "grade_id": "cell-49b8bb85128d50f3",
          "locked": true,
          "schema_version": 3,
          "solution": false,
          "task": false
        },
        "id": "LC6Cq5nPRSKM"
      },
      "source": [
        "Again, before you move on to implement the rest of the agent methods, here are the couple of helper functions that you've used in the previous assessments for choosing an action using an $\\epsilon$-greedy policy."
      ]
    },
    {
      "cell_type": "code",
      "execution_count": 39,
      "metadata": {
        "deletable": true,
        "editable": true,
        "nbgrader": {
          "cell_type": "code",
          "checksum": "81bcd74d211cf70c7259d7e035ed6393",
          "grade": false,
          "grade_id": "cell-0550ca807b59d14c",
          "locked": true,
          "schema_version": 3,
          "solution": false,
          "task": false
        },
        "id": "Dy7IkxZuRSKN"
      },
      "outputs": [],
      "source": [
        "%%add_to DynaQPlusAgent\n",
        "\n",
        "def argmax(self, q_values):\n",
        "    \"\"\"argmax with random tie-breaking\n",
        "    Args:\n",
        "        q_values (Numpy array): the array of action values\n",
        "    Returns:\n",
        "        action (int): an action with the highest value\n",
        "    \"\"\"\n",
        "    top = float(\"-inf\")\n",
        "    ties = []\n",
        "\n",
        "    for i in range(len(q_values)):\n",
        "        if q_values[i] > top:\n",
        "            top = q_values[i]\n",
        "            ties = []\n",
        "\n",
        "        if q_values[i] == top:\n",
        "            ties.append(i)\n",
        "\n",
        "    return self.rand_generator.choice(ties)\n",
        "\n",
        "def choose_action_egreedy(self, state):\n",
        "    \"\"\"returns an action using an epsilon-greedy policy w.r.t. the current action-value function.\n",
        "\n",
        "    Important: assume you have a random number generator 'rand_generator' as a part of the class\n",
        "                which you can use as self.rand_generator.choice() or self.rand_generator.rand()\n",
        "\n",
        "    Args:\n",
        "        state (List): coordinates of the agent (two elements)\n",
        "    Returns:\n",
        "        The action taken w.r.t. the aforementioned epsilon-greedy policy\n",
        "    \"\"\"\n",
        "\n",
        "    if self.rand_generator.rand() < self.epsilon:\n",
        "        action = self.rand_generator.choice(self.actions)\n",
        "    else:\n",
        "        values = self.q_values[state]\n",
        "        action = self.argmax(values)\n",
        "\n",
        "    return action"
      ]
    },
    {
      "cell_type": "markdown",
      "metadata": {
        "deletable": true,
        "editable": true,
        "nbgrader": {
          "cell_type": "markdown",
          "checksum": "cfc05c6dac5be58f8070c05bcab23dc4",
          "grade": false,
          "grade_id": "cell-ff89fce4c62dd24b",
          "locked": true,
          "schema_version": 3,
          "solution": false,
          "task": false
        },
        "id": "K47l2A1cRSKN"
      },
      "source": [
        "Now implement the rest of the agent-related methods, namely `agent_start`, `agent_step`, and `agent_end`. Again, these will be very similar to the ones in the `DynaQAgent`, but you will have to think of a way to update the counts since the last visit."
      ]
    },
    {
      "cell_type": "code",
      "execution_count": 40,
      "metadata": {
        "deletable": true,
        "nbgrader": {
          "cell_type": "code",
          "checksum": "9ea6edbc6526bfb8d57d8d6a03514ba1",
          "grade": false,
          "grade_id": "cell-675ebe1d175f5730",
          "locked": false,
          "schema_version": 3,
          "solution": true,
          "task": false
        },
        "id": "HUyhObGgRSKN"
      },
      "outputs": [],
      "source": [
        "def agent_start(self, state):\n",
        "    \"\"\"The first method called when the experiment starts, called after\n",
        "    the environment starts.\n",
        "    Args:\n",
        "        state (Numpy array): the state from the\n",
        "            environment's env_start function.\n",
        "    Returns:\n",
        "        (int) The first action the agent takes.\n",
        "    \"\"\"\n",
        "\n",
        "    # given the state, select the action using self.choose_action_egreedy(),\n",
        "    # and save current state and action (~2 lines)\n",
        "    # Note that the last-visit counts are not updated here.\n",
        "\n",
        "    action = self.choose_action_egreedy(state)\n",
        "    self.past_state = state\n",
        "    self.past_action = action\n",
        "\n",
        "    return self.past_action\n",
        "\n",
        "def agent_step(self, reward, state):\n",
        "    \"\"\"A step taken by the agent.\n",
        "    Args:\n",
        "        reward (float): the reward received for taking the last action taken\n",
        "        state (Numpy array): the state from the\n",
        "            environment's step based on where the agent ended up after the\n",
        "            last step\n",
        "    Returns:\n",
        "        (int) The action the agent is taking.\n",
        "    \"\"\"\n",
        "\n",
        "    # Update the last-visited counts\n",
        "    self.tau += 1  # Increment tau for all state-action pairs\n",
        "    self.tau[self.past_state][self.past_action] = 0  # Reset tau for the just-visited state-action pair\n",
        "\n",
        "    S = self.past_state\n",
        "    A = self.past_action\n",
        "    R = reward\n",
        "    Sp = state\n",
        "\n",
        "    # Direct RL step (Q-learning update)\n",
        "    target = R + self.gamma * np.max(self.q_values[Sp])\n",
        "    self.q_values[S, A] += self.step_size * (target - self.q_values[S, A])\n",
        "\n",
        "    self.update_model(S, A, Sp, R)\n",
        "    self.planning_step()\n",
        "\n",
        "    # Select next action using epsilon-greedy\n",
        "    action = self.choose_action_egreedy(state)\n",
        "\n",
        "    self.past_state = state\n",
        "    self.past_action = action\n",
        "\n",
        "    return self.past_action\n",
        "\n",
        "def agent_end(self, reward):\n",
        "    \"\"\"Called when the agent terminates.\n",
        "    Args:\n",
        "        reward (float): the reward the agent received for entering the\n",
        "            terminal state.\n",
        "    \"\"\"\n",
        "    # Again, add the same components you added in agent_step to augment Dyna-Q into Dyna-Q+\n",
        "\n",
        "    S = self.past_state\n",
        "    A = self.past_action\n",
        "\n",
        "    self.tau += 1  # Increment tau for all state-action pairs\n",
        "    self.tau[S][A] = 0  # Reset tau for the just-visited state-action pair\n",
        "\n",
        "    # Direct RL update with terminal transition\n",
        "    self.q_values[S, A] += self.step_size * (reward - self.q_values[S, A])\n",
        "\n",
        "    self.update_model(S, A, -1, reward)\n",
        "    self.planning_step()\n",
        "\n",
        "DynaQPlusAgent.agent_start = agent_start\n",
        "DynaQPlusAgent.agent_step = agent_step\n",
        "DynaQPlusAgent.agent_end = agent_end"
      ]
    },
    {
      "cell_type": "markdown",
      "metadata": {
        "deletable": true,
        "editable": true,
        "nbgrader": {
          "cell_type": "markdown",
          "checksum": "375c9af20c23fbafe952776276d580dd",
          "grade": false,
          "grade_id": "cell-05300ec8845616b2",
          "locked": true,
          "schema_version": 3,
          "solution": false,
          "task": false
        },
        "id": "tCZc-WiiRSKO"
      },
      "source": [
        "### Test `agent_start()`, `agent_step()`, and `agent_end()`"
      ]
    },
    {
      "cell_type": "code",
      "execution_count": 41,
      "metadata": {
        "deletable": true,
        "editable": true,
        "nbgrader": {
          "cell_type": "code",
          "checksum": "44a3a0b6fcb2e7f37c933bd18ff378f8",
          "grade": true,
          "grade_id": "cell-9cf838836ad39efb",
          "locked": true,
          "points": 15,
          "schema_version": 3,
          "solution": false,
          "task": false
        },
        "id": "zc2j1KQtRSKO"
      },
      "outputs": [],
      "source": [
        "agent_info = {\"num_actions\": 4,\n",
        "              \"num_states\": 3,\n",
        "              \"epsilon\": 0.1,\n",
        "              \"step_size\": 0.1,\n",
        "              \"discount\": 1.0,\n",
        "              \"kappa\": 0.001,\n",
        "              \"random_seed\": 0,\n",
        "              \"planning_steps\": 4,\n",
        "              \"planning_random_seed\": 0}\n",
        "\n",
        "agent = DynaQPlusAgent()\n",
        "agent.agent_init(agent_info)\n",
        "\n",
        "action = agent.agent_start(0) # state\n",
        "assert action == 1\n",
        "\n",
        "assert np.allclose(agent.tau, 0)\n",
        "assert np.allclose(agent.q_values, 0)\n",
        "assert agent.model == {}\n",
        "\n",
        "# ---------------\n",
        "# test agent step\n",
        "# ---------------\n",
        "\n",
        "action = agent.agent_step(1, 2)\n",
        "assert action == 3\n",
        "\n",
        "action = agent.agent_step(0, 1)\n",
        "assert action == 1\n",
        "\n",
        "expected_tau = np.array([\n",
        "    [2, 1, 2, 2],\n",
        "    [2, 2, 2, 2],\n",
        "    [2, 2, 2, 0],\n",
        "])\n",
        "assert np.all(agent.tau == expected_tau)\n",
        "\n",
        "expected_values = np.array([\n",
        "    [0.0191, 0.271, 0.0, 0.0191],\n",
        "    [0, 0, 0, 0],\n",
        "    [0, 0.000183847763, 0.000424264069, 0],\n",
        "])\n",
        "assert np.allclose(agent.q_values, expected_values)\n",
        "\n",
        "expected_model = {\n",
        "    0: {\n",
        "        1: (2, 1),\n",
        "        0: (0, 0),\n",
        "        2: (0, 0),\n",
        "        3: (0, 0),\n",
        "    },\n",
        "    2: {\n",
        "        3: (1, 0),\n",
        "        0: (2, 0),\n",
        "        1: (2, 0),\n",
        "        2: (2, 0),\n",
        "    },\n",
        "}\n",
        "assert agent.model == expected_model\n",
        "\n",
        "# --------------\n",
        "# test agent end\n",
        "# --------------\n",
        "agent.agent_end(1)\n",
        "\n",
        "expected_tau = np.array([\n",
        "    [3, 2, 3, 3],\n",
        "    [3, 0, 3, 3],\n",
        "    [3, 3, 3, 1],\n",
        "])\n",
        "assert np.all(agent.tau == expected_tau)\n",
        "\n",
        "expected_values = np.array([\n",
        "    [0.0191, 0.344083848, 0, 0.0444632051],\n",
        "    [0.0191732051, 0.19, 0, 0],\n",
        "    [0, 0.000183847763, 0.000424264069, 0],\n",
        "])\n",
        "assert np.allclose(agent.q_values, expected_values)\n",
        "\n",
        "expected_model = {0: {1: (2, 1), 0: (0, 0), 2: (0, 0), 3: (0, 0)}, 2: {3: (1, 0), 0: (2, 0), 1: (2, 0), 2: (2, 0)}, 1: {1: (-1, 1), 0: (1, 0), 2: (1, 0), 3: (1, 0)}}\n",
        "assert agent.model == expected_model"
      ]
    },
    {
      "cell_type": "markdown",
      "metadata": {
        "deletable": true,
        "editable": true,
        "nbgrader": {
          "cell_type": "markdown",
          "checksum": "79c71f3b2858306fde14049a0383667f",
          "grade": false,
          "grade_id": "cell-0e614343c0d86b2d",
          "locked": true,
          "schema_version": 3,
          "solution": false,
          "task": false
        },
        "id": "lQBXEkIYRSKO"
      },
      "source": [
        "### Experiment: Dyna-Q+ agent in the _changing_ environment\n",
        "\n",
        "Okay, now we're ready to test our Dyna-Q+ agent on the Shortcut Maze. As usual, we will average the results over 30 independent runs of the experiment."
      ]
    },
    {
      "cell_type": "code",
      "execution_count": 43,
      "metadata": {
        "deletable": true,
        "editable": true,
        "nbgrader": {
          "cell_type": "code",
          "checksum": "7b694d2c1d02154058ad127123594b44",
          "grade": false,
          "grade_id": "cell-22a658123d08fafa",
          "locked": true,
          "schema_version": 3,
          "solution": false,
          "task": false
        },
        "colab": {
          "base_uri": "https://localhost:8080/"
        },
        "id": "VmFUXXhPRSKP",
        "outputId": "4076d8f4-e705-4706-bdf5-b4d1d40d42b5"
      },
      "outputs": [
        {
          "output_type": "stream",
          "name": "stdout",
          "text": [
            "Planning steps :  50\n"
          ]
        },
        {
          "output_type": "stream",
          "name": "stderr",
          "text": [
            "100%|██████████| 30/30 [07:24<00:00, 14.83s/it]\n"
          ]
        }
      ],
      "source": [
        "# Experiment parameters\n",
        "experiment_parameters = {\n",
        "    \"num_runs\" : 30,                     # The number of times we run the experiment\n",
        "    \"num_max_steps\" : 6000,              # The number of steps per experiment\n",
        "}\n",
        "\n",
        "# Environment parameters\n",
        "environment_parameters = {\n",
        "    \"discount\": 0.95,\n",
        "    \"change_at_n\": 3000\n",
        "}\n",
        "\n",
        "# Agent parameters\n",
        "agent_parameters = {\n",
        "    \"num_states\" : 54,\n",
        "    \"num_actions\" : 4,\n",
        "    \"epsilon\": 0.1,\n",
        "    \"step_size\" : 0.5,\n",
        "    \"planning_steps\" : [50]\n",
        "}\n",
        "\n",
        "current_env = ShortcutMazeEnvironment   # The environment\n",
        "current_agent = DynaQPlusAgent          # The agent\n",
        "\n",
        "data_qplus = run_experiment_with_state_visitations(current_env, current_agent, environment_parameters, agent_parameters, experiment_parameters, \"Dyna-Q+\")"
      ]
    },
    {
      "cell_type": "markdown",
      "metadata": {
        "deletable": true,
        "editable": true,
        "nbgrader": {
          "cell_type": "markdown",
          "checksum": "3c8507e67b844c085afe5bd111f176cc",
          "grade": false,
          "grade_id": "cell-5d80afb4585b0357",
          "locked": true,
          "schema_version": 3,
          "solution": false,
          "task": false
        },
        "id": "ncJ-_5_cRSKP"
      },
      "source": [
        "Let's compare the Dyna-Q and Dyna-Q+ agents with `planning_steps=50` each."
      ]
    },
    {
      "cell_type": "code",
      "execution_count": 44,
      "metadata": {
        "deletable": true,
        "editable": true,
        "nbgrader": {
          "cell_type": "code",
          "checksum": "56f9182c13c40b6647f53e95d2a89302",
          "grade": false,
          "grade_id": "cell-b17bc044f6e4e020",
          "locked": true,
          "schema_version": 3,
          "solution": false,
          "task": false
        },
        "id": "M3mo-HeDRSKQ"
      },
      "outputs": [],
      "source": [
        "def plot_cumulative_reward_comparison(data1, data2):\n",
        "\n",
        "    cum_reward_q = data1['cum_reward_all'][2]\n",
        "    cum_reward_qPlus = data2['cum_reward_all'][0]\n",
        "\n",
        "    plt.plot(np.mean(cum_reward_qPlus, axis=0), label='Dyna-Q+')\n",
        "    plt.plot(np.mean(cum_reward_q, axis=0), label='Dyna-Q')\n",
        "\n",
        "    plt.axvline(x=3000, linestyle='--', color='grey', alpha=0.4)\n",
        "    plt.xlabel('Timesteps')\n",
        "    plt.ylabel('Cumulative\\nreward', rotation=0, labelpad=60)\n",
        "    plt.legend(loc='upper left')\n",
        "    plt.title('Average performance of Dyna-Q and Dyna-Q+ agents in the Shortcut Maze\\n')\n",
        "    plt.show()"
      ]
    },
    {
      "cell_type": "code",
      "execution_count": 45,
      "metadata": {
        "deletable": true,
        "editable": true,
        "nbgrader": {
          "cell_type": "code",
          "checksum": "74b2b53a88c98b3a41f4ccdf24c585bf",
          "grade": false,
          "grade_id": "cell-bff6a7315a81ba36",
          "locked": true,
          "schema_version": 3,
          "solution": false,
          "task": false
        },
        "colab": {
          "base_uri": "https://localhost:8080/",
          "height": 532
        },
        "id": "Skz6q3N2RSKQ",
        "outputId": "c58a4d0b-33a5-45b1-ddd9-982e19f29268"
      },
      "outputs": [
        {
          "output_type": "display_data",
          "data": {
            "text/plain": [
              "<Figure size 800x500 with 1 Axes>"
            ],
            "image/png": "[encoded data removed]"
          },
          "metadata": {}
        }
      ],
      "source": [
        "plot_cumulative_reward_comparison(dataq, data_qplus)"
      ]
    },
    {
      "cell_type": "markdown",
      "metadata": {
        "deletable": true,
        "editable": true,
        "nbgrader": {
          "cell_type": "markdown",
          "checksum": "74108cc11abe9d0edcfd58957ecd5cf1",
          "grade": false,
          "grade_id": "cell-3b4406fd8796da4e",
          "locked": true,
          "schema_version": 3,
          "solution": false,
          "task": false
        },
        "id": "CPWnugwcRSKR"
      },
      "source": [
        "**What do you observe?**\n",
        "## Observation from the Plot\n",
        "\n",
        "From the plot comparing **Dyna-Q** and **Dyna-Q+** in the Shortcut Maze environment, we observe the following:\n",
        "\n",
        "- Both agents perform similarly until around timestep **3000**, when a change likely occurs in the environment (e.g., the introduction of a shortcut).\n",
        "- After this point, **Dyna-Q+** significantly outperforms **Dyna-Q** in terms of cumulative reward.\n",
        "\n",
        "---\n",
        "\n",
        "## Why does this happen?\n",
        "\n",
        "- **Dyna-Q+** includes an **exploration bonus** in its planning updates:\n",
        "  - It favors **actions that haven't been taken recently**, making it more sensitive to potential environmental changes.\n",
        "  - When the shortcut is introduced, Dyna-Q+ discovers and exploits it **more quickly**.\n",
        "\n",
        "- **Dyna-Q**, on the other hand:\n",
        "  - Lacks this bonus.\n",
        "  - Continues following its previously learned policy for longer, delaying adaptation.\n"
      ]
    },
    {
      "cell_type": "code",
      "execution_count": 46,
      "metadata": {
        "deletable": true,
        "editable": true,
        "nbgrader": {
          "cell_type": "code",
          "checksum": "02a92b5dfca164799531bfbfc51b2947",
          "grade": false,
          "grade_id": "cell-30b40e125c10f4a1",
          "locked": true,
          "schema_version": 3,
          "solution": false,
          "task": false
        },
        "colab": {
          "base_uri": "https://localhost:8080/",
          "height": 564
        },
        "id": "EaBpmDvkRSKS",
        "outputId": "6887958a-635c-45ff-9f59-f772d93044c0"
      },
      "outputs": [
        {
          "output_type": "display_data",
          "data": {
            "text/plain": [
              "<Figure size 800x500 with 3 Axes>"
            ],
            "image/png": "[encoded data removed]"
          },
          "metadata": {}
        }
      ],
      "source": [
        "plot_state_visitations(data_qplus, ['Dyna-Q+ : State visitations before the env changes', 'Dyna-Q+ : State visitations after the env changes'], 0)"
      ]
    },
    {
      "cell_type": "markdown",
      "metadata": {
        "deletable": true,
        "editable": true,
        "nbgrader": {
          "cell_type": "markdown",
          "checksum": "93e6b7711fe3bbb622a649369171566d",
          "grade": false,
          "grade_id": "cell-c2e1a4549783e5d9",
          "locked": true,
          "schema_version": 3,
          "solution": false,
          "task": false
        },
        "id": "pt16aZC0RSKS"
      },
      "source": [
        "**What do you observe?**"
      ]
    },
    {
      "cell_type": "markdown",
      "metadata": {
        "id": "1vmjQ1fzRSKS"
      },
      "source": [
        "Before the shortcut opens up, like Dyna-Q, the Dyna-Q+ agent finds the sole, long path to the goal. But because the Dyna-Q+ agent keeps exploring, it succeeds in discovering the shortcut once it opens up, which leads to the goal faster. So the bonus reward heuristic is effective in helping the agent explore and find changes in the environment without degrading the performance."
      ]
    },
    {
      "cell_type": "markdown",
      "metadata": {
        "deletable": true,
        "editable": true,
        "nbgrader": {
          "cell_type": "markdown",
          "checksum": "316c6bb4a3a11821d48d0c4482b546b4",
          "grade": false,
          "grade_id": "cell-122b7fbe5a69ce76",
          "locked": true,
          "schema_version": 3,
          "solution": false,
          "task": false
        },
        "id": "e2b-WOV7RSKT"
      },
      "source": [
        "## Conclusion\n",
        "\n",
        "Congratulations! You have:\n",
        "\n",
        "1. implemented Dyna-Q, a model-based approach to RL;\n",
        "2. implemented Dyna-Q+, a variant of Dyna-Q with an exploration bonus that encourages exploration;\n",
        "3. conducted scientific experiments to empirically validate the exploration/exploitation dilemma in the planning context on an environment that changes with time."
      ]
    },
    {
      "cell_type": "markdown",
      "metadata": {
        "deletable": true,
        "editable": true,
        "nbgrader": {
          "cell_type": "markdown",
          "checksum": "af62c782e534d54888e892bb8588ad60",
          "grade": false,
          "grade_id": "cell-38d472ccebc0dd45",
          "locked": true,
          "schema_version": 3,
          "solution": false,
          "task": false
        },
        "id": "LugrzMEpRSKT"
      },
      "source": [
        "Some questions:\n",
        "1. At what cost does Dyna-Q+ improve over Dyna-Q?\n",
        "2. In general, what is the trade-off of using model-based methods like Dyna-Q over model-free methods like Q-learning?\n",
        "\n",
        "Dyna-Q+ improves performance by encouraging exploration, especially in non-stationary environments. However, this comes with certain trade-offs:\n",
        "\n",
        "- **Increased computational complexity**:  \n",
        "  Dyna-Q+ tracks the time since each state-action pair was last visited to add an exploration bonus. This requires extra memory and updates at each timestep.\n",
        "\n",
        "- **Potential over-exploration**:  \n",
        "  In stable (stationary) environments, Dyna-Q+ might spend time exploring suboptimal paths, leading to slower convergence.\n",
        "\n",
        "- **Hyperparameter sensitivity**:  \n",
        "  The magnitude of the exploration bonus (e.g., `κ` in the bonus term) must be tuned properly. A poorly chosen value can degrade performance.\n",
        "\n",
        "---\n",
        "\n",
        "#### 2. In general, what is the trade-off of using model-based methods like Dyna-Q over model-free methods like Q-learning?\n",
        "\n",
        "| Aspect             | Model-based (Dyna-Q)                                      | Model-free (Q-learning)                                |\n",
        "|--------------------|------------------------------------------------------------|----------------------------------------------------------|\n",
        "| **Learning speed** | Faster, due to planning with simulated experiences         | Slower, relies only on real interactions                 |\n",
        "| **Sample efficiency** | High: fewer environment interactions needed             | Lower: needs more samples to learn                       |\n",
        "| **Computation**    | More costly per step (planning + model updates)            | Cheaper per step                                         |\n",
        "| **Complexity**     | Higher: requires maintaining a model of the environment    | Lower: learns directly from interaction                  |\n",
        "| **Adaptability**   | Better at adapting to changes in the environment           | Slower to adapt                                          |\n"
      ]
    },
    {
      "cell_type": "code",
      "source": [],
      "metadata": {
        "id": "5cli3eAUfluJ"
      },
      "execution_count": null,
      "outputs": []
    }
  ],
  "metadata": {
    "coursera": {
      "course_slug": "sample-based-learning-methods",
      "graded_item_id": "trR7Z",
      "launcher_item_id": "edrCE"
    },
    "kernelspec": {
      "display_name": "pytorch-gpu",
      "language": "python",
      "name": "python3"
    },
    "language_info": {
      "codemirror_mode": {
        "name": "ipython",
        "version": 3
      },
      "file_extension": ".py",
      "mimetype": "text/x-python",
      "name": "python",
      "nbconvert_exporter": "python",
      "pygments_lexer": "ipython3",
      "version": "3.11.11"
    },
    "colab": {
      "provenance": []
    }
  },
  "nbformat": 4,
  "nbformat_minor": 0
}