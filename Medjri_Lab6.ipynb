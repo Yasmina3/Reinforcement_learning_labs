{
  "cells": [
    {
      "cell_type": "markdown",
      "metadata": {
        "deletable": true,
        "editable": true,
        "nbgrader": {
          "cell_type": "markdown",
          "checksum": "4f046aa616adb1b5cff666e8a39e2da6",
          "grade": false,
          "grade_id": "cell-41f41eebcd73cca6",
          "locked": true,
          "schema_version": 3,
          "solution": false,
          "task": false
        },
        "id": "mhGRu5NCM7F5"
      },
      "source": [
        "# **Assignment 6: Policy Evaluation with TD(0)**\n",
        "\n",
        "Welcome to Assignment 6! In this task, you'll create a reinforcement learning agent designed for prediction, specifically utilizing a foundational model-free method known as one-step temporal difference learning, or TD(0). Your main objective will be to build an agent capable of policy evaluation within the Cliff Walking environment. As a quick reminder, policy evaluation involves predicting and accurately estimating state values under a given policy.\n",
        "\n",
        "### **Learning Objectives**\n",
        "- Develop components of the Cliff Walking environment to gain practical experience defining Markov Decision Processes (MDPs) [Section 1].\n",
        "- Create an agent leveraging bootstrapping methods, specifically implementing the TD(0) algorithm [Section 2].\n",
        "- Conduct experiments by applying TD(0) to evaluate value functions across various policies [Section 3]."
      ]
    },
    {
      "cell_type": "markdown",
      "metadata": {
        "deletable": true,
        "editable": true,
        "nbgrader": {
          "cell_type": "markdown",
          "checksum": "b116f0285911fc08ee56b1e0f30f0001",
          "grade": false,
          "grade_id": "cell-be83ec3ee232897b",
          "locked": true,
          "schema_version": 3,
          "solution": false,
          "task": false
        },
        "id": "1N1bpuPNM7F9"
      },
      "source": [
        "\n",
        "## **The Cliff Walking Environment**\n",
        "\n",
        "The Cliff Walking environment is a discrete gridworld scenario characterized by a finite state and action space. The agent begins each episode at the designated start cell (S). At each step, the agent can deterministically move to one of its four neighboring cells by selecting from the actions: Up, Down, Left, or Right. Attempting to move beyond the grid boundaries leaves the agent in its current position. For instance, if the agent attempts to move left from a cell located in the leftmost column, it will remain in the same cell without moving.\n",
        "\n",
        "The environment provides a reward structure designed to penalize each step taken by the agent:\n",
        "\n",
        "- A reward of **-1** for each standard step taken.\n",
        "- A penalty of **-100** if the agent falls off the cliff (stepping into a cliff cell).\n",
        "\n",
        "This task is episodic, meaning the episode ends once the agent reaches the goal cell (G). However, if the agent falls off the cliff, it incurs the penalty and is reset to the start position (S), but the episode continues without termination.\n",
        "\n",
        "The diagram below visually summarizes the environment setup and illustrates two example policies that we will evaluate.\n",
        "\n",
        "<img src=\"./img/cliffwalk.png\" style=\"height:400px\">"
      ]
    },
    {
      "cell_type": "markdown",
      "metadata": {
        "deletable": true,
        "editable": true,
        "nbgrader": {
          "cell_type": "markdown",
          "checksum": "3d66ea9338a76a07ea21c1d22c0202db",
          "grade": false,
          "grade_id": "cell-a57c99064bb8efe6",
          "locked": true,
          "schema_version": 3,
          "solution": false,
          "task": false
        },
        "id": "CGvqKk8GM7GB"
      },
      "source": [
        "## **Packages**\n",
        "\n",
        "We import the following essential libraries required for this assignment:\n",
        "\n",
        "1. **jdc**: Jupyter magic extension enabling the definition of classes across multiple notebook cells.\n",
        "2. **numpy**: The fundamental library for scientific computing in Python.\n",
        "3. **matplotlib**: A comprehensive library for creating visualizations and graphs.\n",
        "4. **RL-Glue**: A framework library designed specifically for reinforcement learning experiments.\n",
        "5. **BaseEnvironment, BaseAgent**: Base classes used to create customized environment and agent classes compatible with the RL-Glue framework.\n",
        "6. **Manager**: Facilitates visualization and comprehensive testing.\n",
        "8. **tqdm.tqdm**: Provides intuitive progress bars for visual tracking of loop execution."
      ]
    },
    {
      "cell_type": "code",
      "source": [
        "!unzip lab6.zip"
      ],
      "metadata": {
        "colab": {
          "base_uri": "https://localhost:8080/"
        },
        "id": "i_hdHnvxNegx",
        "outputId": "77904b91-9611-472e-b27b-b49ad92b509c"
      },
      "execution_count": 1,
      "outputs": [
        {
          "output_type": "stream",
          "name": "stdout",
          "text": [
            "Archive:  lab6.zip\n",
            "  inflating: Lab6-Policy Evaluation with TD Learning/img/cliffwalk-annotated.png  \n",
            "  inflating: Lab6-Policy Evaluation with TD Learning/img/cliffwalk.png  \n",
            "  inflating: Lab6-Policy Evaluation with TD Learning/assignment6.ipynb  \n",
            "  inflating: Lab6-Policy Evaluation with TD Learning/env/manager.py  \n",
            "  inflating: Lab6-Policy Evaluation with TD Learning/env/optimal_policy_value_fn.npy  \n",
            "  inflating: Lab6-Policy Evaluation with TD Learning/env/__pycache__/rl_glue.cpython-311.pyc  \n",
            "  inflating: Lab6-Policy Evaluation with TD Learning/env/__pycache__/manager.cpython-311.pyc  \n",
            "  inflating: Lab6-Policy Evaluation with TD Learning/env/rl_glue.py  \n",
            "  inflating: Lab6-Policy Evaluation with TD Learning/env/safe_policy_value_fn.npy  \n",
            "  inflating: Lab6-Policy Evaluation with TD Learning/env/__pycache__/Agent.cpython-311.pyc  \n",
            "  inflating: Lab6-Policy Evaluation with TD Learning/env/__pycache__/Environment.cpython-311.pyc  \n",
            "  inflating: Lab6-Policy Evaluation with TD Learning/env/Agent.py  \n",
            "  inflating: Lab6-Policy Evaluation with TD Learning/env/Environment.py  \n"
          ]
        }
      ]
    },
    {
      "cell_type": "code",
      "source": [
        "pip install jdc"
      ],
      "metadata": {
        "colab": {
          "base_uri": "https://localhost:8080/"
        },
        "id": "D0dEHaZzNvBl",
        "outputId": "2c60a80c-3f04-485f-f584-a3436b967266"
      },
      "execution_count": 3,
      "outputs": [
        {
          "output_type": "stream",
          "name": "stdout",
          "text": [
            "Collecting jdc\n",
            "  Downloading jdc-0.0.9-py2.py3-none-any.whl.metadata (817 bytes)\n",
            "Downloading jdc-0.0.9-py2.py3-none-any.whl (2.1 kB)\n",
            "Installing collected packages: jdc\n",
            "Successfully installed jdc-0.0.9\n"
          ]
        }
      ]
    },
    {
      "cell_type": "code",
      "execution_count": 5,
      "metadata": {
        "deletable": true,
        "editable": true,
        "nbgrader": {
          "cell_type": "code",
          "checksum": "961301eba64117ca89220f6130255741",
          "grade": false,
          "grade_id": "cell-880b4e1ed6e705b9",
          "locked": true,
          "schema_version": 3,
          "solution": false,
          "task": false
        },
        "id": "nAvDopY4M7GD"
      },
      "outputs": [],
      "source": [
        "import jdc\n",
        "import numpy as np\n",
        "from env.rl_glue import RLGlue\n",
        "from env.Agent import BaseAgent\n",
        "from env.Environment import BaseEnvironment\n",
        "from env.manager import Manager\n",
        "from tqdm import tqdm"
      ]
    },
    {
      "cell_type": "markdown",
      "metadata": {
        "deletable": true,
        "editable": true,
        "nbgrader": {
          "cell_type": "markdown",
          "checksum": "25ea26e935a037c9cc5305c35f72e365",
          "grade": false,
          "grade_id": "cell-3c437cccaf36fbde",
          "locked": true,
          "schema_version": 3,
          "solution": false,
          "task": false
        },
        "id": "lf97ZlUTM7GG"
      },
      "source": [
        "## **Section 1: Cliff Walking Environment**\n",
        "\n",
        "In this first part of the assignment, you'll explore and implement key components of the Cliff Walking environment, gaining practical insight into how Markov Decision Processes (MDPs) are structured and executed.\n",
        "\n",
        "Specifically, you will implement the following functionalities:\n",
        "\n",
        "1. **Coordinate Conversion**: Converting 2-dimensional grid coordinates into a single linear state index.\n",
        "2. **Action Logic**: Implementing the logic for the \"move up\" action.\n",
        "3. **Reward and Termination Conditions**: Defining conditions for receiving rewards and recognizing terminal states.\n",
        "\n",
        "Below is an annotated diagram detailing the structure of the environment, which should guide you through your implementation. Although the environment will allow for flexible dimensions, the start, goal, and cliff positions always maintain consistent relative placements—start at the bottom-left corner, goal at the bottom-right corner, and cliff cells filling the bottom row between the start and goal cells.\n",
        "\n",
        "<img src=\"./img/cliffwalk-annotated.png\" style=\"height:400px\">\n",
        "\n",
        "The following code defines a Python class `CliffWalkEnvironment` as a template for modeling a reinforcement learning environment, specifically the Cliff Walk scenario. It inherits from a base class (`BaseEnvironment`) and includes placeholder methods (`env_init`, `env_start`, `env_step`, `env_cleanup`, and `state`) that need implementation. Each method currently raises `NotImplementedError`, indicating they will be defined later to manage environment interactions, such as initializing states, handling actions, and transitioning states during episodes."
      ]
    },
    {
      "cell_type": "code",
      "execution_count": 6,
      "metadata": {
        "deletable": true,
        "editable": true,
        "nbgrader": {
          "cell_type": "code",
          "checksum": "70a921fedaf47f9cd58bcc38dfff2079",
          "grade": false,
          "grade_id": "cell-61ab5d6bc73499aa",
          "locked": true,
          "schema_version": 3,
          "solution": false,
          "task": false
        },
        "id": "FkDb5qvyM7GI"
      },
      "outputs": [],
      "source": [
        "# Cliff Walk Environment Class Template\n",
        "\n",
        "# Define the CliffWalkEnvironment class inheriting from BaseEnvironment.\n",
        "# The methods defined here serve as placeholders and will be implemented later.\n",
        "class CliffWalkEnvironment(BaseEnvironment):\n",
        "\n",
        "    # Initialize the environment with given parameters.\n",
        "    def env_init(self, env_info={}):\n",
        "        raise NotImplementedError\n",
        "\n",
        "    # Starts a new episode, returning the initial state.\n",
        "    def env_start(self):\n",
        "        raise NotImplementedError\n",
        "\n",
        "    # Executes a given action and returns the resulting state, reward, and completion status.\n",
        "    def env_step(self, action):\n",
        "        raise NotImplementedError\n",
        "\n",
        "    # Cleans up the environment after episode completion.\n",
        "    def env_cleanup(self):\n",
        "        raise NotImplementedError\n",
        "\n",
        "    # Helper method to convert location into environment state representation.\n",
        "    def state(self, loc):\n",
        "        raise NotImplementedError\n"
      ]
    },
    {
      "cell_type": "markdown",
      "metadata": {
        "deletable": true,
        "editable": true,
        "nbgrader": {
          "cell_type": "markdown",
          "checksum": "cdb4802e028fdadfc490acae83c28e4f",
          "grade": false,
          "grade_id": "cell-787bae36a5a76fc1",
          "locked": true,
          "schema_version": 3,
          "solution": false,
          "task": false
        },
        "id": "60c0-czDM7GL"
      },
      "source": [
        "### **env_init()**\n",
        "\n",
        "The first function we add to the environment is the initialization function which is called once an environment object is created. In this function, the grid dimensions and special locations (start and goal locations and the cliff locations) are stored for easy use later."
      ]
    },
    {
      "cell_type": "code",
      "execution_count": 7,
      "metadata": {
        "deletable": true,
        "editable": true,
        "nbgrader": {
          "cell_type": "code",
          "checksum": "9628a884b34ab00f14b560fa3eddc294",
          "grade": false,
          "grade_id": "cell-e15c46384ae349b7",
          "locked": true,
          "schema_version": 3,
          "solution": false,
          "task": false
        },
        "id": "ZOf2TxfkM7GL"
      },
      "outputs": [],
      "source": [
        "%%add_to CliffWalkEnvironment\n",
        "\n",
        "# Environment Initialization Function for Cliff Walk\n",
        "def env_init(self, env_info={}):\n",
        "    \"\"\"Initializes the Cliff Walk environment at the start of an experiment.\n",
        "\n",
        "    Args:\n",
        "        env_info (dict): Contains environment configuration parameters such as grid dimensions.\n",
        "\n",
        "    Note:\n",
        "        Initializes a tuple holding the reward, initial state, and termination indicator.\n",
        "        These are reinitialized in `env_start()` for each episode.\n",
        "    \"\"\"\n",
        "\n",
        "    # Initialize placeholders for reward, state, and termination flag.\n",
        "    reward = None\n",
        "    state = None  # Placeholder for state observation\n",
        "    termination = None\n",
        "    self.reward_state_term = (reward, state, termination)\n",
        "\n",
        "    # Set grid dimensions; default height is 4 and width is 12, aligning with standard Cliff Walk setup.\n",
        "    self.grid_h = env_info.get(\"grid_height\", 4)\n",
        "    self.grid_w = env_info.get(\"grid_width\", 12)\n",
        "\n",
        "    # Define coordinate system:\n",
        "    # Positive x-direction is downward; positive y-direction is to the right (row-major NumPy convention).\n",
        "\n",
        "    # Starting location is the bottom-left corner (maximum x, minimum y).\n",
        "    self.start_loc = (self.grid_h - 1, 0)\n",
        "\n",
        "    # Goal location is the bottom-right corner (maximum x, maximum y).\n",
        "    self.goal_loc = (self.grid_h - 1, self.grid_w - 1)\n",
        "\n",
        "    # Define cliff as the row of cells between start_loc and goal_loc.\n",
        "    self.cliff = [(self.grid_h - 1, y) for y in range(1, self.grid_w - 1)]"
      ]
    },
    {
      "cell_type": "markdown",
      "metadata": {
        "deletable": true,
        "editable": true,
        "nbgrader": {
          "cell_type": "markdown",
          "checksum": "900b8b4c3bbad22ecd0d96c4961ed441",
          "grade": false,
          "grade_id": "cell-788513ad1e5a7993",
          "locked": true,
          "schema_version": 3,
          "solution": false,
          "task": false
        },
        "id": "FgA7JQphM7GO"
      },
      "source": [
        "### **Implement state()**\n",
        "    \n",
        "The agent location can be described as a two-tuple or coordinate (x, y) describing the agent's position. However, we can convert the (x, y) tuple into a single index and provide agents with just this integer. One reason for this choice is that the spatial aspect of the problem is secondary and there is no need for the agent to know about the exact dimensions of the environment.\n",
        "From the agent's viewpoint, it is just perceiving some states, accessing their corresponding values in a table, and updating them. Both the coordinate (x, y) state representation and the converted coordinate representation are thus equivalent in this sense.\n",
        "\n",
        "Given a grid cell location, the state() function should return the state; a single index corresponding to the location in the grid.\n",
        "\n",
        "**Example:** Suppose grid_h is 2 and grid_w is 2. Then, we can write the grid cell two-tuple or coordinate states as follows (following the usual 0-index convention):\n",
        "|(0, 0) (0, 1)| |0 1|\n",
        "|(1, 0) (1, 1)| |2 3|\n",
        "Assuming row-major order as NumPy does, we can flatten the latter to get a vector [0 1 2 3]. So, if loc = (0, 0) we return 0. While, for loc = (1, 1) we return 3.\n"
      ]
    },
    {
      "cell_type": "code",
      "execution_count": 8,
      "metadata": {
        "deletable": true,
        "nbgrader": {
          "cell_type": "code",
          "checksum": "d8812eea241d83eb6a6e102019b543e4",
          "grade": false,
          "grade_id": "cell-41a1c253613aa0b0",
          "locked": false,
          "schema_version": 3,
          "solution": true,
          "task": false
        },
        "id": "KeoQ5hS3M7GR"
      },
      "outputs": [],
      "source": [
        "%%add_to CliffWalkEnvironment\n",
        "\n",
        "# Helper Function: Convert 2D Grid Location to 1D State Index\n",
        "def state(self, loc):\n",
        "    \"\"\"Converts a 2D grid location (x, y) into a single-dimensional state index.\n",
        "\n",
        "    Args:\n",
        "        loc (tuple): The (x, y) location coordinates on the grid.\n",
        "\n",
        "    Returns:\n",
        "        int: A single-dimensional index representing the given grid location.\n",
        "    \"\"\"\n",
        "    # Convert (row, column) coordinates to single-dimensional state representation\n",
        "    # Using row-major order: state = row * width + column\n",
        "    return loc[0] * self.grid_w + loc[1]\n"
      ]
    },
    {
      "cell_type": "code",
      "execution_count": 9,
      "metadata": {
        "id": "K0tTI7TnM7GS"
      },
      "outputs": [],
      "source": [
        "# Test and Debugging for Cliff Walk Environment State Conversion\n",
        "\n",
        "# Instantiate the CliffWalkEnvironment object.\n",
        "env = CliffWalkEnvironment()\n",
        "\n",
        "# Initialize the environment with specified grid dimensions (height=4, width=12).\n",
        "env.env_init({\"grid_height\": 4, \"grid_width\": 12})\n",
        "\n",
        "# Define test coordinates and their corresponding correct state indices.\n",
        "coords = [(0, 0), (0, 11), (1, 5), (3, 0), (3, 9), (3, 11)]\n",
        "correct_outputs = [0, 11, 17, 36, 45, 47]\n",
        "\n",
        "# Convert test coordinates using the state function and store results.\n",
        "got = [env.state(s) for s in coords]\n",
        "\n",
        "# Verify correctness of state conversion by comparing against known correct outputs.\n",
        "assert got == correct_outputs  # Assertion will raise error if there is a mismatch."
      ]
    },
    {
      "cell_type": "markdown",
      "metadata": {
        "deletable": true,
        "editable": true,
        "nbgrader": {
          "cell_type": "markdown",
          "checksum": "6b02e570dfc9a3f91deb8844fec71cb6",
          "grade": false,
          "grade_id": "cell-afaec4ef9dad3e8c",
          "locked": true,
          "schema_version": 3,
          "solution": false,
          "task": false
        },
        "id": "CkYLrCpjM7GV"
      },
      "source": [
        "### **env_start()**\n",
        "\n",
        "In env_start(), we initialize the agent location to be the start location and return the state corresponding to it as the first state for the agent to act upon. Additionally, we also set the reward and termination terms to be 0 and False respectively as they are consistent with the notion that there is no reward nor termination before the first action is even taken."
      ]
    },
    {
      "cell_type": "code",
      "execution_count": 10,
      "metadata": {
        "deletable": true,
        "editable": true,
        "nbgrader": {
          "cell_type": "code",
          "checksum": "9d9555e6777c4238253214ee338d1120",
          "grade": false,
          "grade_id": "cell-d4a47fc700dc1702",
          "locked": true,
          "schema_version": 3,
          "solution": false,
          "task": false
        },
        "id": "PL_-dd39M7GW"
      },
      "outputs": [],
      "source": [
        "%%add_to CliffWalkEnvironment\n",
        "\n",
        "# Start Episode in Cliff Walk Environment\n",
        "def env_start(self):\n",
        "    \"\"\"Initializes the environment state at the beginning of each episode.\n",
        "\n",
        "    This method sets the initial reward, agent location, state representation, and termination status.\n",
        "\n",
        "    Returns:\n",
        "        int: The initial state represented as a single-dimensional index.\n",
        "    \"\"\"\n",
        "    # Initialize starting reward to 0 at the beginning of the episode.\n",
        "    reward = 0\n",
        "\n",
        "    # Set the agent's initial position to the predefined starting location.\n",
        "    self.agent_loc = self.start_loc\n",
        "\n",
        "    # Convert the agent's initial 2D location to a single-dimensional state index.\n",
        "    state = self.state(self.agent_loc)\n",
        "\n",
        "    # Initialize termination flag to False, indicating the episode has just begun.\n",
        "    termination = False\n",
        "\n",
        "    # Store the initial reward, state, and termination status in a tuple.\n",
        "    self.reward_state_term = (reward, state, termination)\n",
        "\n",
        "    # Return the initial state index.\n",
        "    return state"
      ]
    },
    {
      "cell_type": "markdown",
      "metadata": {
        "deletable": true,
        "editable": true,
        "nbgrader": {
          "cell_type": "markdown",
          "checksum": "59d7de251b98b0d5cf643c8f997ea120",
          "grade": false,
          "grade_id": "cell-97e8a586d4c74c95",
          "locked": true,
          "schema_version": 3,
          "solution": false,
          "task": false
        },
        "id": "LMa37bOaM7GY"
      },
      "source": [
        "### **Implement env_step()**\n",
        "\n",
        "Once an action is taken by the agent, the environment must provide a new state, reward and termination signal.\n",
        "\n",
        "In the Cliff Walking environment, agents move around using a 4-cell neighborhood called the Von Neumann neighborhood (https://en.wikipedia.org/wiki/Von_Neumann_neighborhood). Thus, the agent has 4 available actions at each state. Three of the actions have been implemented for you and your first task is to implement the logic for the fourth action (Action UP).\n",
        "\n",
        "Your second task for this function is to implement the reward logic. Look over the environment description given earlier in this notebook if you need a refresher for how the reward signal is defined."
      ]
    },
    {
      "cell_type": "code",
      "execution_count": 11,
      "metadata": {
        "deletable": true,
        "nbgrader": {
          "cell_type": "code",
          "checksum": "93c59f644f0a24823d6fd512465b83b8",
          "grade": false,
          "grade_id": "cell-47a55053538ed113",
          "locked": false,
          "schema_version": 3,
          "solution": true,
          "task": false
        },
        "id": "FK4pLbteM7GZ"
      },
      "outputs": [],
      "source": [
        "%%add_to CliffWalkEnvironment\n",
        "\n",
        "# Helper Function: Check if Coordinates are Within Grid Bounds\n",
        "\n",
        "def isInBounds(x, y, width, height):\n",
        "    \"\"\"Checks if a given coordinate (x, y) is within the boundaries of the grid.\n",
        "\n",
        "    Args:\n",
        "        x (int): Row index of the coordinate.\n",
        "        y (int): Column index of the coordinate.\n",
        "        width (int): Width of the grid.\n",
        "        height (int): Height of the grid.\n",
        "\n",
        "    Returns:\n",
        "        bool: True if the coordinate is within the grid boundaries, False otherwise.\n",
        "    \"\"\"\n",
        "    # Return True if the coordinate is within valid grid dimensions, otherwise False.\n",
        "    return (0 <= x <= height - 1) and (0 <= y <= width - 1)\n",
        "\n",
        "# Environment Step Function for Cliff Walk\n",
        "\n",
        "def env_step(self, action):\n",
        "    \"\"\"Executes one step within the Cliff Walk environment based on the agent's action.\n",
        "\n",
        "    Args:\n",
        "        action (int): The action performed by the agent.\n",
        "                      0: UP, 1: LEFT, 2: DOWN, 3: RIGHT\n",
        "\n",
        "    Returns:\n",
        "        tuple: (reward, state, terminal)\n",
        "            reward (float): Reward received after taking the action.\n",
        "            state (int): Updated state after the action.\n",
        "            terminal (bool): True if the episode has ended, False otherwise.\n",
        "    \"\"\"\n",
        "    x, y = self.agent_loc\n",
        "\n",
        "    # Action logic for movement directions\n",
        "    if action == 0:      # UP\n",
        "        x = max(0, x - 1)\n",
        "    elif action == 1:    # LEFT\n",
        "        y = max(0, y - 1)\n",
        "    elif action == 2:    # DOWN\n",
        "        x = min(self.grid_h - 1, x + 1)\n",
        "    elif action == 3:    # RIGHT\n",
        "        y = min(self.grid_w - 1, y + 1)\n",
        "    else:                # Invalid action\n",
        "        raise Exception(f\"{action} not recognized. Valid actions: [0: UP, 1: LEFT, 2: DOWN, 3: RIGHT].\")\n",
        "\n",
        "    # Check bounds and reset position if out-of-bounds\n",
        "    if not isInBounds(x, y, self.grid_w, self.grid_h):\n",
        "        x, y = self.agent_loc\n",
        "\n",
        "    # Update agent location\n",
        "    self.agent_loc = (x, y)\n",
        "\n",
        "    # Default reward and termination status\n",
        "    reward = -1\n",
        "    terminal = False\n",
        "\n",
        "    # Check if agent has reached goal or fallen off the cliff\n",
        "    if self.state(self.agent_loc) == self.state(self.goal_loc):\n",
        "        terminal = True\n",
        "    else:\n",
        "        falls_off_the_cliff = any(\n",
        "            self.state(self.agent_loc) == self.state(cliff_loc) for cliff_loc in self.cliff\n",
        "        )\n",
        "\n",
        "        if falls_off_the_cliff:\n",
        "            reward = -100\n",
        "            self.agent_loc = self.start_loc  # Reset agent location if fallen off the cliff\n",
        "\n",
        "    # Update reward, state, and termination tuple\n",
        "    self.reward_state_term = (reward, self.state(self.agent_loc), terminal)\n",
        "\n",
        "    return self.reward_state_term"
      ]
    },
    {
      "cell_type": "markdown",
      "metadata": {
        "id": "tMw6cBICM7Ge"
      },
      "source": [
        "### **Test and Debug**"
      ]
    },
    {
      "cell_type": "code",
      "execution_count": 12,
      "metadata": {
        "id": "tvhH4lbgM7Ge"
      },
      "outputs": [],
      "source": [
        "# Unit Tests for Cliff Walk Environment Actions and Rewards\n",
        "\n",
        "# Test function for verifying the correctness of the 'UP' action logic.\n",
        "def test_action_up():\n",
        "    env = CliffWalkEnvironment()\n",
        "    env.env_init({\"grid_height\": 4, \"grid_width\": 12})\n",
        "\n",
        "    # Test moving UP from the top-left corner (boundary condition).\n",
        "    env.agent_loc = (0, 0)\n",
        "    env.env_step(0)\n",
        "    assert env.agent_loc == (0, 0), \"Agent should not move out of bounds.\"\n",
        "\n",
        "    # Test moving UP from within the grid (valid move).\n",
        "    env.agent_loc = (1, 0)\n",
        "    env.env_step(0)\n",
        "    assert env.agent_loc == (0, 0), \"Agent should move one step up.\"\n",
        "\n",
        "# Test function for verifying correct rewards and termination logic.\n",
        "def test_reward():\n",
        "    env = CliffWalkEnvironment()\n",
        "    env.env_init({\"grid_height\": 4, \"grid_width\": 12})\n",
        "\n",
        "    # Test reward and state when moving UP from a non-terminal position.\n",
        "    env.agent_loc = (0, 0)\n",
        "    reward_state_term = env.env_step(0)\n",
        "    assert reward_state_term == (-1, env.state((0, 0)), False), \"Incorrect reward/state/termination for regular step.\"\n",
        "\n",
        "    # Test reward and reset when the agent falls off the cliff.\n",
        "    env.agent_loc = (3, 1)\n",
        "    reward_state_term = env.env_step(2)\n",
        "    assert reward_state_term == (-100, env.state((3, 0)), False), \"Incorrect handling when falling off the cliff.\"\n",
        "\n",
        "    # Test reaching the goal state.\n",
        "    env.agent_loc = (2, 11)\n",
        "    reward_state_term = env.env_step(2)\n",
        "    assert reward_state_term == (-1, env.state((3, 11)), True), \"Incorrect handling when reaching goal state.\"\n",
        "\n",
        "# Execute tests to validate implementation.\n",
        "test_action_up()\n",
        "test_reward()"
      ]
    },
    {
      "cell_type": "markdown",
      "metadata": {
        "deletable": true,
        "editable": true,
        "nbgrader": {
          "cell_type": "markdown",
          "checksum": "75a723b12d51aa479c9820a827f78105",
          "grade": false,
          "grade_id": "cell-097d028e4c6b9ff2",
          "locked": true,
          "schema_version": 3,
          "solution": false,
          "task": false
        },
        "id": "qcbf5-sQM7Gg"
      },
      "source": [
        "### **env_cleanup()**\n",
        "\n",
        "There is not much cleanup to do for the Cliff Walking environment. Here, we simply reset the agent location to be the start location in this function."
      ]
    },
    {
      "cell_type": "code",
      "execution_count": 13,
      "metadata": {
        "deletable": true,
        "editable": true,
        "nbgrader": {
          "cell_type": "code",
          "checksum": "2239673e0e1e0ce4adb6f2d4a6a703e3",
          "grade": false,
          "grade_id": "cell-d5ff562d7edc277d",
          "locked": true,
          "schema_version": 3,
          "solution": false,
          "task": false
        },
        "id": "KyxTanW4M7Gh"
      },
      "outputs": [],
      "source": [
        "%%add_to CliffWalkEnvironment\n",
        "\n",
        "# Environment Cleanup Function for Cliff Walk\n",
        "def env_cleanup(self):\n",
        "    \"\"\"Resets the environment to its initial state after an episode ends.\n",
        "\n",
        "    This method ensures the environment is properly reset for the next episode.\n",
        "    \"\"\"\n",
        "    # Reset agent's location to the starting position.\n",
        "    self.agent_loc = self.start_loc\n"
      ]
    },
    {
      "cell_type": "markdown",
      "metadata": {
        "deletable": true,
        "editable": true,
        "nbgrader": {
          "cell_type": "markdown",
          "checksum": "3143490bb273c21183bb0c2397ed4b53",
          "grade": false,
          "grade_id": "cell-fc714f9c0311d966",
          "locked": true,
          "schema_version": 3,
          "solution": false,
          "task": false
        },
        "id": "1YVYztsVM7Gj"
      },
      "source": [
        "## **Section 2. Agent**\n",
        "\n",
        "In this second part of the assignment, you will be implementing the key updates for Temporal Difference Learning. There are two cases to consider depending on whether an action leads to a terminal state or not."
      ]
    },
    {
      "cell_type": "code",
      "execution_count": 14,
      "metadata": {
        "deletable": true,
        "editable": true,
        "nbgrader": {
          "cell_type": "code",
          "checksum": "2ecf4ec36550b6e56088c40cb4c6cf63",
          "grade": false,
          "grade_id": "cell-8dcd58cfaa9b1391",
          "locked": true,
          "schema_version": 3,
          "solution": false,
          "task": false
        },
        "id": "l5s1X4y5M7Gk"
      },
      "outputs": [],
      "source": [
        "# Template for Temporal Difference (TD) Agent Class\n",
        "\n",
        "# Define the TDAgent class inheriting from BaseAgent.\n",
        "# These methods currently serve as placeholders and will be implemented later.\n",
        "\n",
        "class TDAgent(BaseAgent):\n",
        "\n",
        "    # Initialize agent-specific parameters at the start of the experiment.\n",
        "    def agent_init(self, agent_info={}):\n",
        "        raise NotImplementedError\n",
        "\n",
        "    # Called at the beginning of an episode to select the initial action based on the initial state.\n",
        "    def agent_start(self, state):\n",
        "        raise NotImplementedError\n",
        "\n",
        "    # Called at each step of the episode to select the next action given a reward and new state.\n",
        "    def agent_step(self, reward, state):\n",
        "        raise NotImplementedError\n",
        "\n",
        "    # Called when an episode ends to perform final updates given the last reward.\n",
        "    def agent_end(self, reward):\n",
        "        raise NotImplementedError\n",
        "\n",
        "    # Cleans up agent resources after the experiment is complete.\n",
        "    def agent_cleanup(self):\n",
        "        raise NotImplementedError\n",
        "\n",
        "    # Handles custom messages for debugging or configuring the agent dynamically.\n",
        "    def agent_message(self, message):\n",
        "        raise NotImplementedError"
      ]
    },
    {
      "cell_type": "markdown",
      "metadata": {
        "deletable": true,
        "editable": true,
        "nbgrader": {
          "cell_type": "markdown",
          "checksum": "6ad6054dcb773c2b268b93cb01194d61",
          "grade": false,
          "grade_id": "cell-fb86d23d3049ba9a",
          "locked": true,
          "schema_version": 3,
          "solution": false,
          "task": false
        },
        "id": "ejQTJEwFM7Gl"
      },
      "source": [
        "### **agent_init()**\n",
        "\n",
        "As we did with the environment, we first initialize the agent once when a TDAgent object is created. In this function, we create a random number generator, seeded with the seed provided in the agent_info dictionary to get reproducible results. We also set the policy, discount and step size based on the agent_info dictionary. Finally, with a convention that the policy is always specified as a mapping from states to actions and so is an array of size (# States, # Actions), we initialize a values array of shape (# States,) to zeros."
      ]
    },
    {
      "cell_type": "code",
      "execution_count": 15,
      "metadata": {
        "deletable": true,
        "editable": true,
        "nbgrader": {
          "cell_type": "code",
          "checksum": "7b2bd8f7421b260e24fb2ffea9831ee3",
          "grade": false,
          "grade_id": "cell-7e6fb425c17b2222",
          "locked": true,
          "schema_version": 3,
          "solution": false,
          "task": false
        },
        "id": "7DSWdeaKM7Gm"
      },
      "outputs": [],
      "source": [
        "%%add_to TDAgent\n",
        "\n",
        "# Initialization Function for Temporal Difference (TD) Agent\n",
        "def agent_init(self, agent_info={}):\n",
        "    \"\"\"Initializes agent parameters at the beginning of an experiment.\"\"\"\n",
        "    # Set random number generator for reproducibility using the provided seed.\n",
        "    self.rand_generator = np.random.RandomState(agent_info.get('seed', 0))\n",
        "\n",
        "    # Retrieve the given policy, which the agent will use to estimate values.\n",
        "    self.policy = agent_info.get('policy')\n",
        "\n",
        "    # Retrieve the discount factor (gamma) for future reward weighting.\n",
        "    self.discount = agent_info.get('discount', 1.0)\n",
        "\n",
        "    # Retrieve the learning rate (alpha) for updating value estimates.\n",
        "    self.step_size = agent_info.get('step_size', 0.1)\n",
        "\n",
        "    # Initialize the value function as an array of zeros corresponding to each state.\n",
        "    self.values = np.zeros(self.policy.shape[0])"
      ]
    },
    {
      "cell_type": "markdown",
      "metadata": {
        "deletable": true,
        "editable": true,
        "nbgrader": {
          "cell_type": "markdown",
          "checksum": "10f2140cd14944a73134fd6b27355332",
          "grade": false,
          "grade_id": "cell-6d3d7cea2ae55708",
          "locked": true,
          "schema_version": 3,
          "solution": false,
          "task": false
        },
        "id": "bD5xLijUM7Go"
      },
      "source": [
        "### **agent_start()**\n",
        "\n",
        "In agent_start(), we choose an action based on the initial state and policy we are evaluating. We also cache the state so that we can later update its value when we perform a Temporal Difference update. Finally, we return the action chosen so that the RL loop can continue and the environment can execute this action."
      ]
    },
    {
      "cell_type": "code",
      "execution_count": 16,
      "metadata": {
        "deletable": true,
        "editable": true,
        "nbgrader": {
          "cell_type": "code",
          "checksum": "6f2f7c78f1156b50a122f009d908a1f3",
          "grade": false,
          "grade_id": "cell-b7179e38fe75348d",
          "locked": true,
          "schema_version": 3,
          "solution": false,
          "task": false
        },
        "id": "1ccwCFKEM7Gp"
      },
      "outputs": [],
      "source": [
        "%%add_to TDAgent\n",
        "\n",
        "# Agent Start Method for Temporal Difference (TD) Agent\n",
        "\n",
        "def agent_start(self, state):\n",
        "    \"\"\"Selects the initial action at the start of an episode based on the given state.\"\"\"\n",
        "    # Select an action according to the agent's policy probabilities for the given state.\n",
        "    action = self.rand_generator.choice(len(self.policy[state]), p=self.policy[state])\n",
        "\n",
        "    # Store the current state for future reference.\n",
        "    self.last_state = state\n",
        "\n",
        "    return action"
      ]
    },
    {
      "cell_type": "markdown",
      "metadata": {
        "deletable": true,
        "editable": true,
        "nbgrader": {
          "cell_type": "markdown",
          "checksum": "0a30618c839091f6b549cbdecdf64542",
          "grade": false,
          "grade_id": "cell-70200563dea310fa",
          "locked": true,
          "schema_version": 3,
          "solution": false,
          "task": false
        },
        "id": "92Lsce6YM7Gq"
      },
      "source": [
        "### ***Implement* agent_step()**\n",
        "\n",
        "In agent_step(), the agent must:\n",
        "\n",
        "- Perform an update to improve the value estimate of the previously visited state, and\n",
        "- Act based on the state provided by the environment.\n",
        "\n",
        "Note that, unlike later in agent_end(), the episode has not yet ended in agent_step(). in other words, the previously observed state was not a terminal state."
      ]
    },
    {
      "cell_type": "code",
      "execution_count": 17,
      "metadata": {
        "deletable": true,
        "nbgrader": {
          "cell_type": "code",
          "checksum": "bc6bb81efeca49f2fbbe857b53c911c1",
          "grade": false,
          "grade_id": "cell-54079abb73dd10b4",
          "locked": false,
          "schema_version": 3,
          "solution": true,
          "task": false
        },
        "id": "J71u7arTM7Gr"
      },
      "outputs": [],
      "source": [
        "%%add_to TDAgent\n",
        "\n",
        "# Agent Step Method for Temporal Difference (TD) Agent\n",
        "\n",
        "def agent_step(self, reward, state):\n",
        "    \"\"\"Executes one step by the agent, updating the value function and selecting the next action.\"\"\"\n",
        "    # TD update for the previous state\n",
        "    td_target = reward + self.discount * self.values[state]\n",
        "    td_error = td_target - self.values[self.last_state]\n",
        "    self.values[self.last_state] += self.step_size * td_error\n",
        "\n",
        "    # Select next action based on policy probabilities for the current state\n",
        "    action = self.rand_generator.choice(len(self.policy[state]), p=self.policy[state])\n",
        "\n",
        "    # Update last state for next step\n",
        "    self.last_state = state\n",
        "\n",
        "    return action"
      ]
    },
    {
      "cell_type": "markdown",
      "metadata": {
        "deletable": true,
        "editable": true,
        "nbgrader": {
          "cell_type": "markdown",
          "checksum": "489573a07301536614c0c3a68d74f0b1",
          "grade": false,
          "grade_id": "cell-b66d9ed60950f928",
          "locked": true,
          "schema_version": 3,
          "solution": false,
          "task": false
        },
        "id": "xqj-xaCiM7Gs"
      },
      "source": [
        "### ***Implement* agent_end()**\n",
        "\n",
        "Implement the TD update for the case where an action leads to a terminal state."
      ]
    },
    {
      "cell_type": "code",
      "execution_count": 18,
      "metadata": {
        "deletable": true,
        "nbgrader": {
          "cell_type": "code",
          "checksum": "21b0563eedd718ae37cc451cfe50423a",
          "grade": false,
          "grade_id": "cell-f47463c94223a7fa",
          "locked": false,
          "schema_version": 3,
          "solution": true,
          "task": false
        },
        "id": "PFLIkXWBM7Gs"
      },
      "outputs": [],
      "source": [
        "%%add_to TDAgent\n",
        "\n",
        "# Agent End Method for Temporal Difference (TD) Agent\n",
        "def agent_end(self, reward):\n",
        "    \"\"\"Finalizes the agent's updates at the end of an episode upon entering the terminal state.\"\"\"\n",
        "    # Update value function for the last state using the received terminal reward\n",
        "    td_error = reward - self.values[self.last_state]\n",
        "    self.values[self.last_state] += self.step_size * td_error\n",
        "\n",
        "    # Return a placeholder action (not used as episode has ended)\n",
        "    return 0\n"
      ]
    },
    {
      "cell_type": "markdown",
      "metadata": {
        "deletable": true,
        "editable": true,
        "nbgrader": {
          "cell_type": "markdown",
          "checksum": "0c53e1942168f1f625116dcf4445852a",
          "grade": false,
          "grade_id": "cell-29b13c18d6b94737",
          "locked": true,
          "schema_version": 3,
          "solution": false,
          "task": false
        },
        "id": "PSIn6HkYM7Gt"
      },
      "source": [
        "### **agent_cleanup()**\n",
        "\n",
        "In cleanup, we simply reset the last state to be None to ensure that we are not storing any states past an episode."
      ]
    },
    {
      "cell_type": "code",
      "execution_count": 19,
      "metadata": {
        "deletable": true,
        "editable": true,
        "nbgrader": {
          "cell_type": "code",
          "checksum": "5ddea78d8e68fcbc0210e88d35eb84dd",
          "grade": false,
          "grade_id": "cell-35c6057f39236706",
          "locked": true,
          "schema_version": 3,
          "solution": false,
          "task": false
        },
        "id": "Kk6M95JnM7Gt"
      },
      "outputs": [],
      "source": [
        "%%add_to TDAgent\n",
        "\n",
        "# Agent Cleanup Method for Temporal Difference (TD) Agent\n",
        "def agent_cleanup(self):\n",
        "    \"\"\"Resets agent state and cleans up after an episode or experiment ends.\"\"\"\n",
        "    # Reset the last state to None to prepare for the next episode\n",
        "    self.last_state = None"
      ]
    },
    {
      "cell_type": "markdown",
      "metadata": {
        "deletable": true,
        "editable": true,
        "nbgrader": {
          "cell_type": "markdown",
          "checksum": "0b976f8ba3941c94436c3e56b440a600",
          "grade": false,
          "grade_id": "cell-ea675d282349503b",
          "locked": true,
          "schema_version": 3,
          "solution": false,
          "task": false
        },
        "id": "to5MWkzmM7Gu"
      },
      "source": [
        "### **agent_message()**\n",
        "\n",
        "agent_message() can generally be used to get different kinds of information about an RLGlue agent in the interaction loop of RLGlue. Here, we conditonally check for a message matching \"get_values\" and use it to retrieve the values table the agent has been updating over time."
      ]
    },
    {
      "cell_type": "code",
      "execution_count": 22,
      "metadata": {
        "deletable": true,
        "editable": true,
        "nbgrader": {
          "cell_type": "code",
          "checksum": "661f3a352859f22e5581f2953a6738ec",
          "grade": false,
          "grade_id": "cell-8bac91a36a2cab6f",
          "locked": true,
          "schema_version": 3,
          "solution": false,
          "task": false
        },
        "id": "kqrSIIn_M7Gv"
      },
      "outputs": [],
      "source": [
        "%%add_to TDAgent\n",
        "\n",
        "# Agent Message Method for Temporal Difference (TD) Agent\n",
        "\n",
        "def agent_message(self, message):\n",
        "    \"\"\"Handles communication between the agent and external experiment scripts or debugging tools.\"\"\"\n",
        "    # Return current value estimates if requested\n",
        "    if message == \"get_values\":\n",
        "        return self.values\n",
        "    else:\n",
        "        raise Exception(\"TDAgent.agent_message(): Message not understood!\")"
      ]
    },
    {
      "cell_type": "code",
      "execution_count": 23,
      "metadata": {
        "id": "TxmOElZDM7Gw"
      },
      "outputs": [],
      "source": [
        "# Unit Tests for Temporal Difference (TD) Agent Value Updates\n",
        "\n",
        "# Test function to verify TD value update logic in simple controlled environments.\n",
        "\n",
        "# Test 1: Basic state transition with small reward and known values.\n",
        "agent = TDAgent()\n",
        "policy_list = np.array([[1.], [1.]])\n",
        "agent.agent_init({\"policy\": np.array(policy_list), \"discount\": 0.9, \"step_size\": 0.001})\n",
        "agent.values = np.array([0., 1.])\n",
        "\n",
        "# Perform a step from state 0 to state 1 with a default reward of 0.\n",
        "agent.agent_start(0)\n",
        "reward_state_term = agent.agent_step(-1, 1)\n",
        "\n",
        "# Verify the TD update value calculation (0 + 0.001*(-1 + 0.9*1 - 0) = -0.0001)\n",
        "assert np.isclose(agent.values[0], -0.0001), \"TD update for non-terminal transition incorrect.\"\n",
        "assert np.isclose(agent.values[1], 1.), \"Second state's value should remain unchanged.\"\n",
        "\n",
        "# Test reward and value update for transition to terminal state.\n",
        "agent = TDAgent()\n",
        "agent.agent_init({\"policy\": np.array([[1.]]), \"discount\": 0.9, \"step_size\": 0.1})\n",
        "agent.values = np.array([0.])\n",
        "agent.agent_start(0)\n",
        "\n",
        "reward = -100\n",
        "agent.agent_end(reward)\n",
        "\n",
        "# Verify that terminal state update is correct (0 + 0.1*(-100 - 0) = -10)\n",
        "assert np.isclose(agent.values[0], -10), \"TD update for terminal state incorrect.\""
      ]
    },
    {
      "cell_type": "markdown",
      "metadata": {
        "deletable": true,
        "editable": true,
        "nbgrader": {
          "cell_type": "markdown",
          "checksum": "e4813fc1b7e51343c87bd7ae96d6a199",
          "grade": false,
          "grade_id": "cell-957429a27572ea22",
          "locked": true,
          "schema_version": 3,
          "solution": false,
          "task": false
        },
        "id": "z7SG80EVM7Gx"
      },
      "source": [
        "## **Section 3. Policy Evaluation Experiments**\n",
        "\n",
        "Finally, in this last part of the assignment, you will get to see the TD policy evaluation algorithm in action by looking at the estimated values, the per state value error and after the experiment is complete, the Mean Squared Value Error curve vs. episode number, summarizing how the value error changed over time.\n",
        "\n",
        "The code below runs one run of an experiment given env_info and agent_info dictionaries. A \"manager\" object is created for visualizations. By default, the run will be for 5000 episodes. The true_values_file is specified to compare the learned value function with the values stored in the true_values_file. Plotting of the learned value  function occurs by default after every 100 episodes. In addition, when true_values_file is specified, the value error per state and the root mean square value error will also be plotted."
      ]
    },
    {
      "cell_type": "code",
      "execution_count": 24,
      "metadata": {
        "deletable": true,
        "editable": true,
        "nbgrader": {
          "cell_type": "code",
          "checksum": "7dd158868b6da83ed2d8af5393fa19e7",
          "grade": false,
          "grade_id": "cell-aa30396771314085",
          "locked": true,
          "schema_version": 3,
          "solution": false,
          "task": false
        },
        "id": "2-UkP6_YM7Gy"
      },
      "outputs": [],
      "source": [
        "%matplotlib inline\n",
        "\n",
        "# Function to Run TD Agent Experiment on Cliff Walk Environment\n",
        "\n",
        "def run_experiment(env_info, agent_info, num_episodes=5000, experiment_name=None,\n",
        "                   plot_freq=100, true_values_file=None, value_error_threshold=1e-8):\n",
        "    \"\"\"Runs an experiment using the RLGlue interface with a TDAgent and CliffWalkEnvironment.\n",
        "\n",
        "    Args:\n",
        "        env_info (dict): Configuration for the CliffWalkEnvironment.\n",
        "        agent_info (dict): Configuration for the TDAgent.\n",
        "        num_episodes (int): Number of episodes to run.\n",
        "        experiment_name (str, optional): Identifier for the experiment.\n",
        "        plot_freq (int): Frequency of visualization updates.\n",
        "        true_values_file (str, optional): Filepath to true state-value data for comparison.\n",
        "        value_error_threshold (float): Threshold for convergence checks.\n",
        "\n",
        "    Returns:\n",
        "        numpy array: Final state-value estimates from the TDAgent after the experiment.\n",
        "    \"\"\"\n",
        "\n",
        "    # Initialize environment, agent, and RLGlue interface\n",
        "    env = CliffWalkEnvironment\n",
        "    agent = TDAgent\n",
        "    rl_glue = RLGlue(env, agent)\n",
        "\n",
        "    # Set up environment and agent with provided configurations\n",
        "    rl_glue.rl_init(agent_info, env_info)\n",
        "\n",
        "    # Initialize experiment manager for monitoring and visualization\n",
        "    manager = Manager(env_info, agent_info, true_values_file=true_values_file,\n",
        "                      experiment_name=experiment_name)\n",
        "\n",
        "    # Run episodes, periodically visualizing the estimated values\n",
        "    for episode in tqdm(range(1, num_episodes + 1), desc=\"Running Episodes\"):\n",
        "        rl_glue.rl_episode(0)  # Run episode without a step limit\n",
        "        if episode % plot_freq == 0:\n",
        "            values = rl_glue.agent.agent_message(\"get_values\")\n",
        "            manager.visualize(values, episode)\n",
        "\n",
        "    # Retrieve final value estimates after completion of all episodes\n",
        "    values = rl_glue.agent.agent_message(\"get_values\")\n",
        "\n",
        "    return values"
      ]
    },
    {
      "cell_type": "markdown",
      "metadata": {
        "deletable": true,
        "editable": true,
        "nbgrader": {
          "cell_type": "markdown",
          "checksum": "e726e3aa91859d231913a83be7b376f6",
          "grade": false,
          "grade_id": "cell-f8a8ad5275cc7e7f",
          "locked": true,
          "schema_version": 3,
          "solution": false,
          "task": false
        },
        "id": "SxEftwLAM7Gz"
      },
      "source": [
        "### **Policy Evaluation on Optimal Policy**\n",
        "\n",
        "The cell below just runs a policy evaluation experiment with the determinstic optimal policy that strides just above the cliff. You should observe that the per state value error and RMSVE curve asymptotically go towards 0. The arrows in the four directions denote the probabilities of taking each action. This experiment is ungraded but should serve as a good test for the later experiments. The true values file provided for this experiment may help with debugging as well."
      ]
    },
    {
      "cell_type": "code",
      "execution_count": 26,
      "metadata": {
        "deletable": true,
        "editable": true,
        "nbgrader": {
          "cell_type": "code",
          "checksum": "c9935c904c8dac62540410b7dc0eb740",
          "grade": false,
          "grade_id": "cell-2a4f093ff50135b8",
          "locked": true,
          "schema_version": 3,
          "solution": false,
          "task": false
        },
        "id": "zjcHDwXrM7Gz"
      },
      "outputs": [],
      "source": [
        "# Optimal Policy Setup\n",
        "env_info = {\"grid_height\": 4, \"grid_width\": 12, \"seed\": 0}\n",
        "agent_info = {\"discount\": 1, \"step_size\": 0.01, \"seed\": 0}\n",
        "\n",
        "# Initialize a uniform random policy\n",
        "policy = np.ones(shape=(env_info['grid_width'] * env_info['grid_height'], 4)) * 0.25\n",
        "\n",
        "# Optimal Policy\n",
        "# At state 36 (the start state), always move UP to avoid the cliff\n",
        "policy[36] = [1., 0., 0., 0.]\n",
        "\n",
        "# For states 24 to 34 (along the cliff), move RIGHT to avoid falling\n",
        "for i in range(24, 35):\n",
        "    policy[i] = [0., 0., 0., 1.]\n",
        "\n",
        "# State 35, move to the goal by moving DOWN\n",
        "policy[35] = [0., 0., 1., 0.]\n",
        "\n",
        "agent_info.update({\"policy\": policy})\n",
        "true_values_file = \"./env/optimal_policy_value_fn.npy\"\n",
        "\n",
        "# Safe Policy Setup\n",
        "# Initialize a uniform random policy\n",
        "policy = np.ones(shape=(env_info['grid_width'] * env_info['grid_height'], 4)) * 0.25\n",
        "\n",
        "# Set deterministic actions (UP) for specific states to avoid falling off the cliff\n",
        "for state in [12, 24, 36]:\n",
        "    policy[state] = [1., 0., 0., 0.]\n",
        "\n",
        "# Set deterministic actions (RIGHT) for top row states\n",
        "for state in range(0, 11):\n",
        "    policy[state] = [0., 0., 0., 1.]\n",
        "\n",
        "# Set deterministic actions (DOWN) for edge states before the cliff\n",
        "for state in [11, 23, 35]:\n",
        "    policy[state] = [0., 0., 1., 0.]\n",
        "\n",
        "agent_info.update({\"policy\": policy})\n",
        "true_values_file = \"./env/safe_policy_value_fn.npy\"\n",
        "\n",
        "# Near Optimal Stochastic Policy Setup\n",
        "# Initialize a policy with uniform random actions\n",
        "policy = np.ones(shape=(env_info['grid_width'] * env_info['grid_height'], 4)) * 0.25\n",
        "\n",
        "# Make the starting state (state 36) mostly deterministic (90% UP)\n",
        "policy[36] = [0.9, 0.03, 0.03, 0.04]\n",
        "\n",
        "# Set states along the cliff edge (states 24 to 34) to favor moving RIGHT (90% probability)\n",
        "for state in range(24, 35):\n",
        "    policy[state] = [0.03, 0.03, 0.04, 0.9]\n",
        "\n",
        "# Set state 35 to favor moving DOWN (90% probability)\n",
        "policy[35] = [0.03, 0.03, 0.9, 0.04]\n",
        "\n",
        "agent_info.update({\"policy\": policy, \"step_size\": 0.01})\n",
        "agent_info[\"seed\"] = 0\n",
        "true_values_file = \"/content/env/optimal_policy_value_fn.npy\""
      ]
    },
    {
      "cell_type": "markdown",
      "metadata": {
        "id": "ynkFdPJQM7G2"
      },
      "source": [
        "### **Policy Evaluation on The Safe Policy**\n",
        "\n",
        "Fill in the array below (as done in the previous cell) based on the **safe policy** illustration in the environment diagram. This is the policy that strides as far as possible away from the cliff. We call it a \"safe\" policy because if the environment has any stochasticity, this policy would do a good job in keeping the agent from falling into the cliff (in contrast to the optimal policy shown before)."
      ]
    },
    {
      "cell_type": "code",
      "execution_count": 30,
      "metadata": {
        "deletable": true,
        "nbgrader": {
          "cell_type": "code",
          "checksum": "d288407bc4dd094efc56faebad142e5f",
          "grade": false,
          "grade_id": "cell-41ea2c684571e6e8",
          "locked": false,
          "schema_version": 3,
          "solution": true,
          "task": false
        },
        "id": "l76j-8wTM7G3"
      },
      "outputs": [],
      "source": [
        "# Safe Policy Initialization for Cliff Walk Environment\n",
        "\n",
        "# Initialize a uniform random policy across all states and actions\n",
        "policy = np.ones(shape=(env_info['grid_width'] * env_info['grid_height'], 4)) * 0.25\n",
        "\n",
        "# Set deterministic actions (UP) for specific states (12, 24, 36) to avoid falling off the cliff\n",
        "policy[12] = [1., 0., 0., 0.]   # State near top row, strongly prefer moving UP\n",
        "policy[24] = [1., 0., 0., 0.]   # State in the middle of top row, strongly prefer moving UP\n",
        "policy[36] = [1., 0., 0., 0.]   # Starting state, strongly prefer moving UP\n",
        "\n",
        "# Set deterministic actions (RIGHT) for top row states (indices 0 to 10)\n",
        "for state in range(0, 11):\n",
        "    policy[state] = [0., 0., 0., 1.]  # Always move RIGHT at the top row states\n",
        "\n",
        "# Set deterministic actions (DOWN) for edge states before the cliff (11, 23, 35)\n",
        "policy[11] = [0., 0., 1., 0.]  # Move DOWN from first right-most column\n",
        "policy[23] = [0., 0., 1., 0.]  # Move DOWN from middle right column\n",
        "policy[35] = [0., 0., 1., 0.]  # Move DOWN from column just before goal\n",
        "\n",
        "# Update agent information with the customized policy\n",
        "agent_info.update({\"policy\": policy})\n",
        "\n",
        "# Path to file containing true state-value function for the safe policy\n",
        "true_values_file = \"./env/safe_policy_value_fn.npy\"\n"
      ]
    },
    {
      "cell_type": "code",
      "execution_count": 31,
      "metadata": {
        "deletable": true,
        "editable": true,
        "nbgrader": {
          "cell_type": "code",
          "checksum": "f61945e3fa9693a71c67308e390831f2",
          "grade": false,
          "grade_id": "cell-4cff4aa8310f733e",
          "locked": true,
          "schema_version": 3,
          "solution": false,
          "task": false
        },
        "id": "zGKa4MQYM7G4",
        "outputId": "10c33be8-46d3-4800-e495-bf30e831ba7b",
        "colab": {
          "base_uri": "https://localhost:8080/",
          "height": 1000
        }
      },
      "outputs": [
        {
          "output_type": "stream",
          "name": "stderr",
          "text": [
            "Running Episodes: 100%|██████████| 5000/5000 [00:21<00:00, 233.47it/s]\n"
          ]
        },
        {
          "output_type": "display_data",
          "data": {
            "text/plain": [
              "<Figure size 1000x2000 with 5 Axes>"
            ],
            "image/png": "[encoded data removed]"
          },
          "metadata": {}
        }
      ],
      "source": [
        "\n",
        "# Run policy evaluation experiment with specified parameters for the safe policy\n",
        "values = run_experiment(\n",
        "    env_info,\n",
        "    agent_info,\n",
        "    num_episodes=5000,\n",
        "    experiment_name=\"Safe Policy Evaluation\",\n",
        "    plot_freq=100,\n",
        "    true_values_file=true_values_file\n",
        ")"
      ]
    },
    {
      "cell_type": "markdown",
      "metadata": {
        "id": "aBtUdfqsM7G5"
      },
      "source": [
        "### **Policy Evaluation of a Near Optimal Stochastic Policy**\n",
        "\n",
        "Now, we try a stochastic policy that deviates a little from the optimal policy seen above. This means we can get different results due to randomness. We will thus average the value function estimates we get over multiple runs. This can take some time, upto about 5 minutes from previous testing."
      ]
    },
    {
      "cell_type": "code",
      "execution_count": 33,
      "metadata": {
        "deletable": true,
        "editable": true,
        "nbgrader": {
          "cell_type": "code",
          "checksum": "fa33604922343541caab97a67b3d0b97",
          "grade": false,
          "grade_id": "cell-e1cf8e11c672a07e",
          "locked": true,
          "schema_version": 3,
          "solution": false,
          "task": false
        },
        "id": "OhGifKLbM7G6"
      },
      "outputs": [],
      "source": [
        "# Policy Setup for Partially Deterministic Cliff Walk Environment\n",
        "\n",
        "# Define environment parameters with standard Cliff Walk dimensions\n",
        "env_info = {\"grid_height\": 4, \"grid_width\": 12}\n",
        "\n",
        "# Define agent parameters: discount factor and initial step size\n",
        "agent_info = {\"discount\": 1, \"step_size\": 0.01}\n",
        "\n",
        "# Initialize a policy with uniform random actions\n",
        "policy = np.ones(shape=(env_info['grid_width'] * env_info['grid_height'], 4)) * 0.25\n",
        "\n",
        "# Make the starting state (state 36) mostly deterministic (90% UP)\n",
        "policy[36] = [0.9, 0.03, 0.03, 0.04]\n",
        "\n",
        "# Set states along the cliff edge (states 24 to 34) to favor moving RIGHT (90% probability)\n",
        "for state in range(24, 35):\n",
        "    policy[state] = [0.03, 0.03, 0.04, 0.9]\n",
        "\n",
        "# Set state 35 to favor moving DOWN (90% probability), transitioning toward the goal\n",
        "policy[35] = [0.03, 0.03, 0.9, 0.04]\n",
        "\n",
        "# Update agent parameters with the defined policy and step size\n",
        "agent_info.update({\"policy\": policy})\n",
        "agent_info.update({\"step_size\": 0.01})\n",
        "\n",
        "# Set fixed random seed for reproducibility\n",
        "agent_info[\"seed\"] = 0\n",
        "\n",
        "# Path to file containing true state-value function for comparison purposes\n",
        "true_values_file = \"/content/env/optimal_policy_value_fn.npy\"\n",
        "\n"
      ]
    },
    {
      "cell_type": "code",
      "execution_count": 34,
      "metadata": {
        "id": "NCI1Yp6jM7G7",
        "outputId": "ae479f7a-997d-4128-feb0-06abf64053da",
        "colab": {
          "base_uri": "https://localhost:8080/",
          "height": 1000
        }
      },
      "outputs": [
        {
          "output_type": "stream",
          "name": "stderr",
          "text": [
            "Running Episodes: 100%|██████████| 5000/5000 [00:24<00:00, 203.21it/s]\n"
          ]
        },
        {
          "output_type": "display_data",
          "data": {
            "text/plain": [
              "<Figure size 1000x2000 with 5 Axes>"
            ],
            "image/png": "[encoded data removed]"
          },
          "metadata": {}
        }
      ],
      "source": [
        "\n",
        "# Run the policy evaluation experiment with specified parameters\n",
        "values = run_experiment(\n",
        "    env_info,\n",
        "    agent_info,\n",
        "    num_episodes=5000,\n",
        "    experiment_name=\"Near Optimal Stochastic Policy\",\n",
        "    plot_freq=100,\n",
        "    true_values_file=true_values_file\n",
        ")"
      ]
    },
    {
      "cell_type": "markdown",
      "metadata": {
        "deletable": true,
        "editable": true,
        "nbgrader": {
          "cell_type": "markdown",
          "checksum": "fd6c272cda343e1a77596b771469ecc6",
          "grade": false,
          "grade_id": "cell-15c20060eb691e3d",
          "locked": true,
          "schema_version": 3,
          "solution": false,
          "task": false
        },
        "id": "CxFkLM3AM7G8"
      },
      "source": [
        "## **Conclusion**\n",
        "Congratulations, you have completed assignment 6! In this assignment, we investigated a very useful concept for sample-based online learning: temporal difference. We particularly looked at the prediction problem where the goal is to find the value function corresponding to a given policy. In the next assignment, by learning the action-value function instead of the state-value function, you will get to see how temporal difference learning can be used in control as well."
      ]
    }
  ],
  "metadata": {
    "coursera": {
      "course_slug": "sample-based-learning-methods",
      "graded_item_id": "P4k5f",
      "launcher_item_id": "OwIbv"
    },
    "kernelspec": {
      "display_name": "pytorch-gpu",
      "language": "python",
      "name": "python3"
    },
    "language_info": {
      "codemirror_mode": {
        "name": "ipython",
        "version": 3
      },
      "file_extension": ".py",
      "mimetype": "text/x-python",
      "name": "python",
      "nbconvert_exporter": "python",
      "pygments_lexer": "ipython3",
      "version": "3.11.11"
    },
    "colab": {
      "provenance": []
    }
  },
  "nbformat": 4,
  "nbformat_minor": 0
}