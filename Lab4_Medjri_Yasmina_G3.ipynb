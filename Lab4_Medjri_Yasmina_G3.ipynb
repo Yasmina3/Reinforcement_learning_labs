{
  "cells": [
    {
      "cell_type": "markdown",
      "metadata": {
        "deletable": true,
        "editable": true,
        "nbgrader": {
          "cell_type": "markdown",
          "checksum": "3996977e7d68ec12f2c9ffcfe5ce214b",
          "grade": false,
          "grade_id": "cell-649fd0b1aa7ccb0f",
          "locked": true,
          "schema_version": 3,
          "solution": false
        },
        "id": "XCwOcQtNrVQX"
      },
      "source": [
        "# Assignment 4: Dynamic Programming\n",
        "\n",
        "Welcome to Assignment 4. This notebook will help you understand:\n",
        "- Policy Evaluation and Policy Improvement.\n",
        "- Value and Policy Iteration.\n",
        "- Bellman Equations."
      ]
    },
    {
      "cell_type": "markdown",
      "metadata": {
        "deletable": true,
        "editable": true,
        "nbgrader": {
          "cell_type": "markdown",
          "checksum": "20729884a9ceb3804a03589ce5938a2d",
          "grade": false,
          "grade_id": "cell-9aafac39a58eeca4",
          "locked": true,
          "schema_version": 3,
          "solution": false
        },
        "id": "GpPYOxm3rVQZ"
      },
      "source": [
        "## Gridworld City\n",
        "\n",
        "Gridworld City is a metropolis with a growing technology sector that has attracted many data science engineers. However, the city's fixed-rate street parking system is struggling to meet the increased demand. To address this, the city council plans to modify the pricing scheme to enhance social welfare, valuing maximized parking use while ensuring at least one space remains available for urgent needs. To tackle this issue, the council has developed a Markov Decision Process (MDP) to model parking demand and create a reward function reflecting these preferences. Now, the city wants to use dynamic programming to help determine the optimal parking policy."
      ]
    },
    {
      "cell_type": "markdown",
      "metadata": {
        "deletable": true,
        "editable": true,
        "nbgrader": {
          "cell_type": "markdown",
          "checksum": "77a7b97ee700b6ce77ed26bd22749e80",
          "grade": false,
          "grade_id": "cell-28ccff8d1e663850",
          "locked": true,
          "schema_version": 3,
          "solution": false
        },
        "id": "qlxKRcbirVQb"
      },
      "source": [
        "## Preliminaries\n",
        "You'll need two imports to complete this assigment:\n",
        "- numpy: The fundamental package for scientific computing with Python.\n",
        "- tools: A module containing an environment and a plotting function."
      ]
    },
    {
      "cell_type": "code",
      "execution_count": null,
      "metadata": {
        "deletable": true,
        "editable": true,
        "nbgrader": {
          "cell_type": "code",
          "checksum": "2b5347a2a22c1bacff0c0453119c8d84",
          "grade": false,
          "grade_id": "cell-c11ff54faaf3fd89",
          "locked": true,
          "schema_version": 3,
          "solution": false
        },
        "id": "eDfyT3narVQc",
        "colab": {
          "base_uri": "https://localhost:8080/",
          "height": 34
        },
        "outputId": "1f7f5cc6-9048-4c0a-96cd-bcd8485f8330"
      },
      "outputs": [
        {
          "output_type": "display_data",
          "data": {
            "text/plain": [
              "<Figure size 640x480 with 0 Axes>"
            ]
          },
          "metadata": {}
        }
      ],
      "source": [
        "%matplotlib inline\n",
        "import numpy as np\n",
        "import tools"
      ]
    },
    {
      "cell_type": "markdown",
      "metadata": {
        "deletable": true,
        "editable": true,
        "nbgrader": {
          "cell_type": "markdown",
          "checksum": "596fffc2a1391897952fcabe2a8db930",
          "grade": false,
          "grade_id": "cell-4c7c5c4373be59ff",
          "locked": true,
          "schema_version": 3,
          "solution": false
        },
        "id": "2lx4jFHirVQd"
      },
      "source": [
        "In the city council's parking MDP, states are nonnegative integers indicating how many parking spaces are occupied, actions are nonnegative integers designating the price of street parking, the reward is a real value describing the city's preference for the situation, and time is discretized by hour. As might be expected, charging a high price is likely to decrease occupancy over the hour, while charging a low price is likely to increase it.\n",
        "\n",
        "For now, let's consider an environment with four parking spaces and three price points. Note that an environment with four parking spaces actually has five states &mdash; 0, 1, 2, 3 or 4 spaces could be occupied."
      ]
    },
    {
      "cell_type": "code",
      "execution_count": null,
      "metadata": {
        "deletable": true,
        "editable": true,
        "nbgrader": {
          "cell_type": "code",
          "checksum": "4f51ef4bc98021f90e701f76ed48f676",
          "grade": false,
          "grade_id": "cell-d25d06a8bafc4c26",
          "locked": true,
          "schema_version": 3,
          "solution": false
        },
        "id": "Vpkq82q5rVQe"
      },
      "outputs": [],
      "source": [
        "num_spaces = 4\n",
        "num_prices = 3\n",
        "env = tools.ParkingWorld(num_spaces, num_prices)\n",
        "V = np.zeros(num_spaces + 1)\n",
        "pi = np.ones((num_spaces + 1, num_prices)) / num_prices"
      ]
    },
    {
      "cell_type": "markdown",
      "metadata": {
        "deletable": true,
        "editable": true,
        "nbgrader": {
          "cell_type": "markdown",
          "checksum": "0813b0f481e1f2f90e12f38456781410",
          "grade": false,
          "grade_id": "cell-57212e031233c500",
          "locked": true,
          "schema_version": 3,
          "solution": false
        },
        "id": "g8X_WxIarVQf"
      },
      "source": [
        "The value function is a one-dimensional array where the $i$-th entry gives the value of $i$ spaces being occupied."
      ]
    },
    {
      "cell_type": "code",
      "execution_count": null,
      "metadata": {
        "deletable": true,
        "editable": true,
        "nbgrader": {
          "cell_type": "code",
          "checksum": "6e59c4a32939d9211dfc0f8fdd939780",
          "grade": false,
          "grade_id": "cell-c5f693a5ff49a888",
          "locked": true,
          "schema_version": 3,
          "solution": false
        },
        "id": "sbjPRCiprVQg",
        "outputId": "653d3e8e-d868-49e3-e0b0-7fae831ba4ba",
        "colab": {
          "base_uri": "https://localhost:8080/"
        }
      },
      "outputs": [
        {
          "output_type": "execute_result",
          "data": {
            "text/plain": [
              "array([0., 0., 0., 0., 0.])"
            ]
          },
          "metadata": {},
          "execution_count": 4
        }
      ],
      "source": [
        "V"
      ]
    },
    {
      "cell_type": "markdown",
      "metadata": {
        "deletable": true,
        "editable": true,
        "nbgrader": {
          "cell_type": "markdown",
          "checksum": "eadfa7b22b07f8c457cf09a78eb23c8c",
          "grade": false,
          "grade_id": "cell-57154206afc97770",
          "locked": true,
          "schema_version": 3,
          "solution": false
        },
        "id": "eqB0o3CUrVQh"
      },
      "source": [
        "We can represent the policy as a two-dimensional array where the $(i, j)$-th entry gives the probability of taking action $j$ in state $i$."
      ]
    },
    {
      "cell_type": "code",
      "execution_count": null,
      "metadata": {
        "deletable": true,
        "editable": true,
        "nbgrader": {
          "cell_type": "code",
          "checksum": "d732d93b6545408fa819526c2e52a0cf",
          "grade": false,
          "grade_id": "cell-85c017bb1e6fe4df",
          "locked": true,
          "schema_version": 3,
          "solution": false
        },
        "id": "nTJZL6lMrVQi",
        "outputId": "d230e710-4f64-4f50-f001-98055da63388",
        "colab": {
          "base_uri": "https://localhost:8080/"
        }
      },
      "outputs": [
        {
          "output_type": "execute_result",
          "data": {
            "text/plain": [
              "array([[0.33333333, 0.33333333, 0.33333333],\n",
              "       [0.33333333, 0.33333333, 0.33333333],\n",
              "       [0.33333333, 0.33333333, 0.33333333],\n",
              "       [0.33333333, 0.33333333, 0.33333333],\n",
              "       [0.33333333, 0.33333333, 0.33333333]])"
            ]
          },
          "metadata": {},
          "execution_count": 5
        }
      ],
      "source": [
        "pi"
      ]
    },
    {
      "cell_type": "code",
      "execution_count": null,
      "metadata": {
        "deletable": true,
        "editable": true,
        "nbgrader": {
          "cell_type": "code",
          "checksum": "96d9ee84404cf38466f1c8c93b4aca9a",
          "grade": false,
          "grade_id": "cell-d7d514ba81bc686c",
          "locked": true,
          "schema_version": 3,
          "solution": false
        },
        "id": "hMURfaZNrVQj",
        "outputId": "75ec43a3-20be-46f4-b4ef-5d94aad61a38",
        "colab": {
          "base_uri": "https://localhost:8080/"
        }
      },
      "outputs": [
        {
          "output_type": "stream",
          "name": "stdout",
          "text": [
            "pi(A=0|S=0) = 0.75    pi(A=1|S=0) = 0.11    pi(A=2|S=0) = 0.14    \n",
            "pi(A=0|S=1) = 0.33    pi(A=1|S=1) = 0.33    pi(A=2|S=1) = 0.33    \n",
            "pi(A=0|S=2) = 0.33    pi(A=1|S=2) = 0.33    pi(A=2|S=2) = 0.33    \n",
            "pi(A=0|S=3) = 0.33    pi(A=1|S=3) = 0.33    pi(A=2|S=3) = 0.33    \n",
            "pi(A=0|S=4) = 0.33    pi(A=1|S=4) = 0.33    pi(A=2|S=4) = 0.33    \n"
          ]
        }
      ],
      "source": [
        "pi[0] = [0.75, 0.11, 0.14]\n",
        "\n",
        "for s, pi_s in enumerate(pi):\n",
        "    for a, p in enumerate(pi_s):\n",
        "        print(f'pi(A={a}|S={s}) = {p.round(2)}    ', end='')\n",
        "    print()"
      ]
    },
    {
      "cell_type": "code",
      "execution_count": null,
      "metadata": {
        "deletable": true,
        "editable": true,
        "nbgrader": {
          "cell_type": "code",
          "checksum": "faf7aa91a9f54e17835b6e5c3e28b4bf",
          "grade": false,
          "grade_id": "cell-46b46b0dc80c68c7",
          "locked": true,
          "schema_version": 3,
          "solution": false
        },
        "id": "upkEVXFurVQj",
        "outputId": "8957339f-0a08-4217-c87a-2f09cfef4538",
        "colab": {
          "base_uri": "https://localhost:8080/",
          "height": 449
        }
      },
      "outputs": [
        {
          "output_type": "display_data",
          "data": {
            "text/plain": [
              "<Figure size 1250x500 with 3 Axes>"
            ],
            "image/png": "[encoded data removed]"
          },
          "metadata": {}
        }
      ],
      "source": [
        "V[0] = 1\n",
        "\n",
        "tools.plot(V, pi)"
      ]
    },
    {
      "cell_type": "markdown",
      "metadata": {
        "deletable": true,
        "editable": true,
        "nbgrader": {
          "cell_type": "markdown",
          "checksum": "4f450ea0212f959d952e9b0272e57cf3",
          "grade": false,
          "grade_id": "cell-ce3ac9318671059d",
          "locked": true,
          "schema_version": 3,
          "solution": false
        },
        "id": "t-8g4s5urVQj"
      },
      "source": [
        "We can visualize a value function and policy with the `plot` function in the `tools` module. On the left, the value function is displayed as a barplot. State zero has an expected return of ten, while the other states have an expected return of zero. On the right, the policy is displayed on a two-dimensional grid. Each vertical strip gives the policy at the labeled state. In state zero, action zero is the darkest because the agent's policy makes this choice with the highest probability. In the other states the agent has the equiprobable policy, so the vertical strips are colored uniformly."
      ]
    },
    {
      "cell_type": "markdown",
      "metadata": {
        "deletable": true,
        "editable": true,
        "nbgrader": {
          "cell_type": "markdown",
          "checksum": "049e3d7344e203034323e1f86a503ee4",
          "grade": false,
          "grade_id": "cell-3975c91dbe24e9e8",
          "locked": true,
          "schema_version": 3,
          "solution": false
        },
        "id": "nOGC8GOWrVQk"
      },
      "source": [
        "You can access the state space and the action set as attributes of the environment."
      ]
    },
    {
      "cell_type": "code",
      "execution_count": null,
      "metadata": {
        "deletable": true,
        "editable": true,
        "nbgrader": {
          "cell_type": "code",
          "checksum": "4fafc756424773278069199ff876300e",
          "grade": false,
          "grade_id": "cell-94d868709c1a9eba",
          "locked": true,
          "schema_version": 3,
          "solution": false
        },
        "id": "NOoT5bOLrVQk",
        "outputId": "19087358-41da-44da-9782-02fdfee16a66",
        "colab": {
          "base_uri": "https://localhost:8080/"
        }
      },
      "outputs": [
        {
          "output_type": "execute_result",
          "data": {
            "text/plain": [
              "[0, 1, 2, 3, 4]"
            ]
          },
          "metadata": {},
          "execution_count": 8
        }
      ],
      "source": [
        "env.S"
      ]
    },
    {
      "cell_type": "code",
      "execution_count": null,
      "metadata": {
        "deletable": true,
        "editable": true,
        "nbgrader": {
          "cell_type": "code",
          "checksum": "dc72712f4890361c35c0b19f0df5befd",
          "grade": false,
          "grade_id": "cell-6f16d9e8ebf01b60",
          "locked": true,
          "schema_version": 3,
          "solution": false
        },
        "id": "KTbW4PzrrVQk",
        "outputId": "eec82881-7fda-4d6f-88d1-ea8a895b82ee",
        "colab": {
          "base_uri": "https://localhost:8080/"
        }
      },
      "outputs": [
        {
          "output_type": "execute_result",
          "data": {
            "text/plain": [
              "[0, 1, 2]"
            ]
          },
          "metadata": {},
          "execution_count": 9
        }
      ],
      "source": [
        "env.A"
      ]
    },
    {
      "cell_type": "markdown",
      "metadata": {
        "deletable": true,
        "editable": true,
        "nbgrader": {
          "cell_type": "markdown",
          "checksum": "12e6b88d7cf8ec6d20c7e14e3d43b5e2",
          "grade": false,
          "grade_id": "cell-927e52efe516a816",
          "locked": true,
          "schema_version": 3,
          "solution": false
        },
        "id": "6d676wgFrVQk"
      },
      "source": [
        "You will need to use the environment's `transitions` method to complete this assignment. The method takes a state and an action and returns a 2-dimensional array, where the entry at $(i, 0)$ is the reward for transitioning to state $i$ from the current state and the entry at $(i, 1)$ is the conditional probability of transitioning to state $i$ given the current state and action."
      ]
    },
    {
      "cell_type": "code",
      "execution_count": null,
      "metadata": {
        "deletable": true,
        "editable": true,
        "nbgrader": {
          "cell_type": "code",
          "checksum": "4d32e329bafe53f2061e6b577751f291",
          "grade": false,
          "grade_id": "cell-4185982b1a21cd04",
          "locked": true,
          "schema_version": 3,
          "solution": false
        },
        "id": "nWPwepx7rVQl",
        "outputId": "18d059ed-7adf-4a5c-f85c-6142e07ab11b",
        "colab": {
          "base_uri": "https://localhost:8080/"
        }
      },
      "outputs": [
        {
          "output_type": "execute_result",
          "data": {
            "text/plain": [
              "array([[3.        , 0.10016883],\n",
              "       [4.        , 0.12234648],\n",
              "       [5.        , 0.14943433],\n",
              "       [6.        , 0.18010206],\n",
              "       [4.33333333, 0.4479483 ]])"
            ]
          },
          "metadata": {},
          "execution_count": 10
        }
      ],
      "source": [
        "state = 3\n",
        "action = 1\n",
        "transitions = env.transitions(state, action)\n",
        "transitions"
      ]
    },
    {
      "cell_type": "code",
      "execution_count": null,
      "metadata": {
        "deletable": true,
        "editable": true,
        "nbgrader": {
          "cell_type": "code",
          "checksum": "25cbea37d8b8c6404081852743cbc6bd",
          "grade": false,
          "grade_id": "cell-379fdb797cae3afb",
          "locked": true,
          "schema_version": 3,
          "solution": false
        },
        "id": "HVBlaxvgrVQl",
        "outputId": "4ad54ac6-1575-4b4a-a3df-b7ed2c9929b6",
        "colab": {
          "base_uri": "https://localhost:8080/"
        }
      },
      "outputs": [
        {
          "output_type": "stream",
          "name": "stdout",
          "text": [
            "p(S'=0, R=3.0 | S=3, A=1) = 0.1\n",
            "p(S'=1, R=4.0 | S=3, A=1) = 0.12\n",
            "p(S'=2, R=5.0 | S=3, A=1) = 0.15\n",
            "p(S'=3, R=6.0 | S=3, A=1) = 0.18\n",
            "p(S'=4, R=4.333333333333333 | S=3, A=1) = 0.45\n"
          ]
        }
      ],
      "source": [
        "for sp, (r, p) in enumerate(transitions):\n",
        "    print(f'p(S\\'={sp}, R={r} | S={state}, A={action}) = {p.round(2)}')"
      ]
    },
    {
      "cell_type": "markdown",
      "metadata": {
        "deletable": true,
        "editable": true,
        "nbgrader": {
          "cell_type": "markdown",
          "checksum": "0869f6736a9ab680b0c82dccf72ba11c",
          "grade": false,
          "grade_id": "cell-141d4e3806427283",
          "locked": true,
          "schema_version": 3,
          "solution": false
        },
        "id": "OnoI_S4UrVQl"
      },
      "source": [
        "## Section 1: Policy Evaluation\n",
        "\n",
        "You're now ready to begin the assignment! First, the city council would like you to evaluate the quality of the existing pricing scheme. Policy evaluation works by iteratively applying the Bellman equation for $v_{\\pi}$ to a working value function, as an update rule, as shown below.\n",
        "\n",
        "$$\\large v(s) \\leftarrow \\sum_a \\pi(a | s) \\sum_{s', r} p(s', r | s, a)[r + \\gamma v(s')]$$\n",
        "This update can either occur \"in-place\" (i.e. the update rule is sequentially applied to each state) or with \"two-arrays\" (i.e. the update rule is simultaneously applied to each state). Both versions converge to $v_{\\pi}$ but the in-place version usually converges faster. **In this assignment, we will be implementing all update rules in-place**, as is done in the pseudocode of chapter 4 of the textbook.\n",
        "\n",
        "It is up to you to fill in the policy evaluation function `evaluate_policy` and the `bellman_update` function to complete the algorithm  described in chapter 4.1 of the textbook."
      ]
    },
    {
      "cell_type": "code",
      "execution_count": null,
      "metadata": {
        "id": "eOcXWJBKrVQm"
      },
      "outputs": [],
      "source": [
        "# ======================================================\n",
        "# Policy Evaluation with Dynamic Programming\n",
        "# This function iteratively evaluates a given policy by updating the state-value function V.\n",
        "# It continues updating until the maximum change in V (delta) falls below a threshold (theta).\n",
        "# ======================================================\n",
        "\n",
        "def evaluate_policy(env, V, pi, gamma, theta):\n",
        "\n",
        "    # Start with a huge delta to ensure the loop begins.\n",
        "    delta = np.inf\n",
        "    # Loop until the value function converges (i.e., changes are smaller than theta).\n",
        "    while delta > theta:\n",
        "      # Reset the maximum change in V for this sweep over all states.\n",
        "      delta = 0\n",
        "      # Iterate over every state in the environment.\n",
        "      for s in env.S:\n",
        "        # Store the old value of state s for comparison.\n",
        "        v_old = V[s]\n",
        "\n",
        "        # Update the value of state s using the Bellman update rule.\n",
        "        # This reflects the expected returns following the policy pi.\n",
        "        V[s] = bellman_update(env, V, pi, s, gamma)\n",
        "\n",
        "        # Calculate the change for state s and update delta if it's the largest observed.\n",
        "        # This measures error to see if we need to keep learning.\n",
        "        delta = max(delta, np.abs(V[s] - v_old))\n",
        "\n",
        "    # Once the changes are small enough, return the converged value function.\n",
        "    return V"
      ]
    },
    {
      "cell_type": "code",
      "execution_count": null,
      "metadata": {
        "id": "05CWGAj0rVQm"
      },
      "outputs": [],
      "source": [
        "# ======================================================\n",
        "# Bellman Update for Policy Evaluation\n",
        "# This function updates the state-value function V at a given state s.\n",
        "# It computes the expected return over all actions and transitions, weighted by the policy probabilities.\n",
        "# ======================================================\n",
        "\n",
        "def bellman_update(env, V, pi, s, gamma):\n",
        "\n",
        "    t1 = 0\n",
        "    # Iterate over each possible action in the action space.\n",
        "    for a in env.A:\n",
        "        # Retrieve the list of transitions for state s given action a.\n",
        "        # Each transition contains the reward and probability for moving to the next state.\n",
        "        transitions = env.transitions(s, a)\n",
        "\n",
        "        # Initialize the sum for the expected return for action a.\n",
        "        t2 = 0\n",
        "\n",
        "        # Iterate over each possible next state (sp) and its associated reward and probability.\n",
        "        for sp, (r, p) in enumerate(transitions):\n",
        "            # Add the expected return from this transition:\n",
        "            # probability * (immediate reward + discounted future value)\n",
        "            t2 += p * (r + gamma * V[sp])\n",
        "\n",
        "        # Weight the action's expected return by the policy's probability of choosing action a in state s,\n",
        "        # and accumulate it into t1.\n",
        "        t1 += pi[s, a] * t2\n",
        "\n",
        "    # Update the value function for state s with the newly computed expected return.\n",
        "    return t1"
      ]
    },
    {
      "cell_type": "markdown",
      "metadata": {
        "deletable": true,
        "editable": true,
        "nbgrader": {
          "cell_type": "markdown",
          "checksum": "4d9639225bc3d57f1079ceab1d57d411",
          "grade": false,
          "grade_id": "cell-5c1f3ff4b0e1b0bf",
          "locked": true,
          "schema_version": 3,
          "solution": false
        },
        "id": "RrLN0lQ5rVQm"
      },
      "source": [
        "The cell below uses the policy evaluation algorithm to evaluate the city's policy, which charges a constant price of one."
      ]
    },
    {
      "cell_type": "code",
      "execution_count": null,
      "metadata": {
        "deletable": true,
        "editable": true,
        "nbgrader": {
          "cell_type": "code",
          "checksum": "fe42a26382eb7ed41954597ed701513c",
          "grade": true,
          "grade_id": "cell-104d8ba132c36b33",
          "locked": true,
          "points": 10,
          "schema_version": 3,
          "solution": false,
          "task": false
        },
        "id": "Klf8CnlNrVQm",
        "outputId": "2afcb1e9-3ec7-4c9c-95f4-226e49d01fe2",
        "colab": {
          "base_uri": "https://localhost:8080/"
        }
      },
      "outputs": [
        {
          "output_type": "stream",
          "name": "stdout",
          "text": [
            "Computed Value Function:\n",
            "[124.41727948 126.44283987 128.68019699 131.02413333 133.41736617\n",
            " 135.82151414 138.20175632 140.52444636 142.75566115 144.86021427\n",
            " 146.80089257 148.53777788 149.99926103 151.14390889 151.92755887\n",
            " 142.29253577]\n"
          ]
        }
      ],
      "source": [
        "\"\"\"\n",
        "# Dynamic Programming Test for Parking MDP\n",
        "# This script sets up a test environment and evaluates the policy using dynamic programming.\n",
        "\"\"\"\n",
        "\n",
        "# Set up test environment with defined number of parking spaces and price levels\n",
        "num_spaces = 15  # Number of parking spaces\n",
        "num_prices = 4   # Number of pricing levels\n",
        "env = tools.ParkingWorld(num_spaces, num_prices)  # Initialize the environment\n",
        "\n",
        "# Build a test policy where the parking fee is always set to level 1\n",
        "city_policy = np.zeros((num_spaces + 1, num_prices))\n",
        "city_policy[:, 1] = 1.0\n",
        "\n",
        "# Define discount factor and convergence threshold\n",
        "gamma = 0.9  # Discount factor for future rewards\n",
        "theta = 0.1  # Convergence threshold for value iteration\n",
        "\n",
        "# Initialize the value function for all states\n",
        "V = np.zeros(num_spaces + 1)\n",
        "\n",
        "# Evaluate the policy using policy evaluation\n",
        "V = evaluate_policy(env, V, city_policy, gamma, theta)\n",
        "\n",
        "# Expected value function for validation\n",
        "answer=[124.42, 126.44, 128.68, 131.02, 133.42, 135.82, 138.2, 140.52, 142.76, 144.86, 146.8, 148.54, 150.00, 151.14, 151.93, 142.29]\n",
        "\n",
        "# Print the computed value function for verification\n",
        "print(\"Computed Value Function:\")\n",
        "print(V)\n"
      ]
    },
    {
      "cell_type": "markdown",
      "metadata": {
        "deletable": true,
        "editable": true,
        "nbgrader": {
          "cell_type": "markdown",
          "checksum": "0f19b2dc70097c6425bbc3bd25a2a500",
          "grade": false,
          "grade_id": "cell-b612ffe570dd7e29",
          "locked": true,
          "schema_version": 3,
          "solution": false
        },
        "id": "-7x8T76_rVQn"
      },
      "source": [
        "You can use the ``plot`` function to visualize the final value function and policy."
      ]
    },
    {
      "cell_type": "code",
      "execution_count": null,
      "metadata": {
        "deletable": true,
        "editable": true,
        "nbgrader": {
          "cell_type": "code",
          "checksum": "ff7b2798b5af88f6444a49099599a06a",
          "grade": false,
          "grade_id": "cell-fe5cf61a03a028fc",
          "locked": true,
          "schema_version": 3,
          "solution": false
        },
        "id": "apYJA1U9rVQn",
        "outputId": "d92a6acc-a9e5-4bc4-f6d5-329378e4a65e",
        "colab": {
          "base_uri": "https://localhost:8080/",
          "height": 447
        }
      },
      "outputs": [
        {
          "output_type": "display_data",
          "data": {
            "text/plain": [
              "<Figure size 1250x500 with 3 Axes>"
            ],
            "image/png": "[encoded data removed]"
          },
          "metadata": {}
        }
      ],
      "source": [
        "# Plot the computed value function and policy for visualization\n",
        "tools.plot(V, city_policy)"
      ]
    },
    {
      "cell_type": "markdown",
      "metadata": {
        "id": "_jJULB5SrVQn"
      },
      "source": [
        "**Discuss how does the value function reflect the city council's preferences for parking occupancy?**"
      ]
    },
    {
      "cell_type": "markdown",
      "metadata": {
        "deletable": true,
        "editable": true,
        "nbgrader": {
          "cell_type": "markdown",
          "checksum": "387eb9f1789b50daaa10e3503117525c",
          "grade": false,
          "grade_id": "cell-7dbb5974798259f7",
          "locked": true,
          "schema_version": 3,
          "solution": false
        },
        "id": "34H3a8krrVQn"
      },
      "source": [
        "The value function reflects the city council’s preference by showing the impact of their fixed pricing policy (always setting the price to level 1).\n",
        "\n",
        "- More Occupancy, More Value: when the parking is filling up, revenue increases, so the value function rises.\n",
        "\n",
        "- Fixed Pricing Effect: Since the price never changes, the function captures the expected revenue only.\n",
        "\n",
        "- No Occupancy Control: With a static price, there is no effort to manage parking demand. A dynamic policy would be needed for better balance."
      ]
    },
    {
      "cell_type": "markdown",
      "metadata": {
        "deletable": true,
        "editable": true,
        "nbgrader": {
          "cell_type": "markdown",
          "checksum": "f0d6665789065c7bfa797664e0f43c8c",
          "grade": false,
          "grade_id": "cell-45d6a1c8f905e939",
          "locked": true,
          "schema_version": 3,
          "solution": false
        },
        "id": "LY_RvOkcrVQn"
      },
      "source": [
        "## Section 2: Policy Iteration\n",
        "Now the city council would like you to compute a more efficient policy using policy iteration. Policy iteration works by alternating between evaluating the existing policy and making the policy greedy with respect to the existing value function. Fill in the `improve_policy` and `q_greedify_policy` functions, such that the policy is modified at $s$ to be greedy with respect to the q-values at $s$, to complete the policy improvement algorithm."
      ]
    },
    {
      "cell_type": "code",
      "execution_count": null,
      "metadata": {
        "id": "9j-pWVAXrVQn"
      },
      "outputs": [],
      "source": [
        "# ======================================================\n",
        "# Policy Improvement: Greedy Update Step\n",
        "# This function updates the policy to be greedy with respect to the current value function.\n",
        "# It iterates over each state, adjusts the policy, and checks if any changes were made.\n",
        "# If any state’s policy changes, the overall policy is marked as unstable (i.e., it can be further improved).\n",
        "# ======================================================\n",
        "\n",
        "def improve_policy(env, V, pi, gamma):\n",
        "\n",
        "    # Assume the current policy is stable until we find a change.\n",
        "    policy_stable = True\n",
        "\n",
        "    # Loop over every state in the environment.\n",
        "    for s in env.S:\n",
        "        # Copy the current policy for state s to compare later.\n",
        "        old_pi_s = pi[s].copy()\n",
        "\n",
        "        # Update the policy at state s to be greedy with respect to the current value function.\n",
        "        q_greedify_policy(env, V, pi, s, gamma)\n",
        "\n",
        "        # If the updated policy is different from the old policy, mark as unstable.\n",
        "        if not np.array_equal(pi[s], old_pi_s):\n",
        "            policy_stable = False\n",
        "\n",
        "    # Return the improved policy and a flag indicating whether the policy has converged.\n",
        "    return pi, policy_stable"
      ]
    },
    {
      "cell_type": "code",
      "execution_count": null,
      "metadata": {
        "id": "beae-yUxrVQo"
      },
      "outputs": [],
      "source": [
        "# ======================================================\n",
        "# Policy Iteration for Optimal Policies with Dynamic Programming\n",
        "# This function implements the policy iteration algorithm to find the optimal policy.\n",
        "# It alternates between evaluating the current policy (updating the value function V)\n",
        "# and improving the policy (making it greedy with respect to V) until the policy converges.\n",
        "# ======================================================\n",
        "\n",
        "def policy_iteration(env, gamma, theta):\n",
        "\n",
        "\n",
        "    # Initialize the value function V to zeros for all states.\n",
        "    V = np.zeros(len(env.S))\n",
        "    # Initialize a uniform random policy for all states and actions.\n",
        "    pi = np.ones((len(env.S), len(env.A))) / len(env.A)\n",
        "    # Start with the assumption that the policy is not yet stable.\n",
        "    policy_stable = False\n",
        "    # Repeat the evaluation and improvement steps until the policy stops changing.\n",
        "    while not policy_stable:\n",
        "        # Evaluate the current policy to update the value function V.\n",
        "        V = evaluate_policy(env, V, pi, gamma, theta)\n",
        "        # Improve the policy based on the updated value function.\n",
        "        pi, policy_stable = improve_policy(env, V, pi, gamma)\n",
        "    # Return the final value function and the optimal policy.\n",
        "    return V, pi\n"
      ]
    },
    {
      "cell_type": "code",
      "execution_count": null,
      "metadata": {
        "id": "WowKxDa8rVQo"
      },
      "outputs": [],
      "source": [
        "# ======================================================\n",
        "# Shaping the Policy to Favor High-Value Actions\n",
        "# This function updates the policy for a given state (s) to be greedy with respect to\n",
        "# the Q-values derived from the current value function V. It computes the expected\n",
        "# return for each action and then adjusts the policy to assign equal probability to all\n",
        "# actions that yield the maximum Q-value.\n",
        "# ======================================================\n",
        "\n",
        "def q_greedify_policy(env, V, pi, s, gamma):\n",
        "\n",
        "    # Initialize an array to store Q-values for each action available in state s.\n",
        "    Q = np.zeros(len(env.A))\n",
        "    # Prepare an array to construct the new, greedy policy for state s.\n",
        "    new_pi_s = np.zeros(len(env.A))\n",
        "    # Iterate over every possible action.\n",
        "    for a in env.A:\n",
        "        # Retrieve the transition details for taking action a in state s.\n",
        "        # Each element in 'transitions' is a tuple (r, p) for the resulting state.\n",
        "        transitions = env.transitions(s, a)\n",
        "        # Compute the Q-value for action a by summing over all possible next states.\n",
        "        for sp, (r, p) in enumerate(transitions):\n",
        "            # Add the expected return: probability * (reward + discounted future value)\n",
        "            Q[a] += p * (r + gamma * V[sp])\n",
        "\n",
        "        # Store the computed Q-value for action a.\n",
        "\n",
        "\n",
        "    # Identify the action(s) with the highest Q-value and set their probability to 1.\n",
        "    best_actions = np.argwhere(Q == np.max(Q)).flatten()\n",
        "    new_pi_s[best_actions] = 1.0 / len(best_actions)\n",
        "    # Normalize the new policy distribution so that it sums to 1.\n",
        "\n",
        "\n",
        "    # Update the policy for state s with the new greedy distribution.\n",
        "    pi[s] = new_pi_s"
      ]
    },
    {
      "cell_type": "code",
      "execution_count": null,
      "metadata": {
        "deletable": true,
        "editable": true,
        "nbgrader": {
          "cell_type": "code",
          "checksum": "9b8b71edde57f8aab6356de9a38527e3",
          "grade": true,
          "grade_id": "cell-468eb92e69c7f65e",
          "locked": true,
          "points": 10,
          "schema_version": 3,
          "solution": false,
          "task": false
        },
        "id": "_V4Tb1jzrVQp",
        "outputId": "55518cd2-3629-41b6-eefc-c7f5b6b4af7a",
        "colab": {
          "base_uri": "https://localhost:8080/"
        }
      },
      "outputs": [
        {
          "output_type": "stream",
          "name": "stdout",
          "text": [
            "Expected Value Function:\n",
            "[128.85388152 130.96340048 133.21772383 135.55790789 137.939144\n",
            " 140.32344284 142.67273558 144.94191449 147.09825463 149.1076519\n",
            " 150.93399902 152.53860101 153.87955828 154.95222212 155.97823227\n",
            " 146.7105501 ]\n",
            "\n",
            "Expected Optimal Policy:\n",
            "[[1. 0. 0. 0.]\n",
            " [1. 0. 0. 0.]\n",
            " [1. 0. 0. 0.]\n",
            " [1. 0. 0. 0.]\n",
            " [1. 0. 0. 0.]\n",
            " [1. 0. 0. 0.]\n",
            " [1. 0. 0. 0.]\n",
            " [1. 0. 0. 0.]\n",
            " [1. 0. 0. 0.]\n",
            " [1. 0. 0. 0.]\n",
            " [1. 0. 0. 0.]\n",
            " [1. 0. 0. 0.]\n",
            " [1. 0. 0. 0.]\n",
            " [0. 1. 0. 0.]\n",
            " [0. 0. 0. 1.]\n",
            " [0. 0. 0. 1.]]\n"
          ]
        }
      ],
      "source": [
        "\"\"\"\n",
        "# Policy Iteration for Optimal Parking Strategy\n",
        "# This script runs policy iteration on the Parking MDP to compute the optimal value function and policy.\n",
        "\"\"\"\n",
        "\n",
        "# Define discount factor and convergence threshold\n",
        "gamma = 0.9  # Discount factor for future rewards\n",
        "theta = 0.1  # Convergence threshold for policy evaluation\n",
        "\n",
        "# Initialize the Parking MDP environment with 10 spaces and 4 pricing levels\n",
        "env = tools.ParkingWorld(num_spaces=15, num_prices=4)\n",
        "\n",
        "# Perform policy iteration to compute the optimal value function and policy\n",
        "V, pi = policy_iteration(env, gamma, theta)\n",
        "\n",
        "# Expected results for verification\n",
        "V_answer = [128.85, 130.96, 133.22, 135.56, 137.94, 140.32, 142.67, 144.94, 147.1, 149.11, 150.93, 152.54, 153.88, 154.95, 155.98, 146.71]  # Expected value function\n",
        "pi_answer = [  # Expected optimal policy\n",
        "    [1, 0, 0, 0],\n",
        "    [1, 0, 0, 0],\n",
        "    [1, 0, 0, 0],\n",
        "    [1, 0, 0, 0],\n",
        "    [1, 0, 0, 0],\n",
        "    [1, 0, 0, 0],\n",
        "    [1, 0, 0, 0],\n",
        "    [1, 0, 0, 0],\n",
        "    [1, 0, 0, 0],\n",
        "    [1, 0, 0, 0],\n",
        "    [1, 0, 0, 0],\n",
        "    [1, 0, 0, 0],\n",
        "    [1, 0, 0, 0],\n",
        "    [1, 0, 0, 0],\n",
        "    [0, 0, 0, 1],\n",
        "    [0, 0, 0, 1],\n",
        "]\n",
        "\n",
        "# Print the expected value function for validation\n",
        "print(\"Expected Value Function:\")\n",
        "print(V)\n",
        "\n",
        "# Print the expected optimal policy for verification\n",
        "print(\"\\nExpected Optimal Policy:\")\n",
        "print(pi)"
      ]
    },
    {
      "cell_type": "markdown",
      "metadata": {
        "deletable": true,
        "editable": true,
        "nbgrader": {
          "cell_type": "markdown",
          "checksum": "b70073346d140503e1572043f2be5c7e",
          "grade": false,
          "grade_id": "cell-d82e51ee8122647c",
          "locked": true,
          "schema_version": 3,
          "solution": false
        },
        "id": "DU4ZKPD7rVQp"
      },
      "source": [
        "When you are ready to test the policy iteration algorithm, run the cell below."
      ]
    },
    {
      "cell_type": "code",
      "execution_count": null,
      "metadata": {
        "deletable": true,
        "editable": true,
        "nbgrader": {
          "cell_type": "code",
          "checksum": "aeedaa745e6dc30ebbc6b822c670c9b3",
          "grade": false,
          "grade_id": "cell-6939985ef9ad58a3",
          "locked": true,
          "schema_version": 3,
          "solution": false
        },
        "id": "p_CTEbZNrVQp"
      },
      "outputs": [],
      "source": [
        "env = tools.ParkingWorld(num_spaces=15, num_prices=4)\n",
        "gamma = 0.9\n",
        "theta = 0.1\n",
        "V, pi = policy_iteration(env, gamma, theta)"
      ]
    },
    {
      "cell_type": "markdown",
      "metadata": {
        "deletable": true,
        "editable": true,
        "nbgrader": {
          "cell_type": "markdown",
          "checksum": "dcd619f8fcc010b6933b2bba4ce9f9e7",
          "grade": false,
          "grade_id": "cell-acd7f476ed298570",
          "locked": true,
          "schema_version": 3,
          "solution": false
        },
        "id": "dWqPM0XQrVQq"
      },
      "source": [
        "You can use the ``plot`` function to visualize the final value function and policy."
      ]
    },
    {
      "cell_type": "code",
      "execution_count": null,
      "metadata": {
        "deletable": true,
        "editable": true,
        "nbgrader": {
          "cell_type": "code",
          "checksum": "da17cf77a51f4fabd0ce3a93e2803af8",
          "grade": false,
          "grade_id": "cell-73a1da64ca84a151",
          "locked": true,
          "schema_version": 3,
          "solution": false
        },
        "id": "ueIOL0XArVQq",
        "outputId": "8aa03e3b-976a-4714-932f-b752a068dc26",
        "colab": {
          "base_uri": "https://localhost:8080/",
          "height": 447
        }
      },
      "outputs": [
        {
          "output_type": "display_data",
          "data": {
            "text/plain": [
              "<Figure size 1250x500 with 3 Axes>"
            ],
            "image/png": "[encoded data removed]"
          },
          "metadata": {}
        }
      ],
      "source": [
        "tools.plot(V, pi)"
      ]
    },
    {
      "cell_type": "code",
      "execution_count": null,
      "metadata": {
        "id": "aJFfKU__rVQq",
        "outputId": "81c9798f-6d79-4df9-f5b8-aded2c1e69fb",
        "colab": {
          "base_uri": "https://localhost:8080/"
        }
      },
      "outputs": [
        {
          "output_type": "execute_result",
          "data": {
            "text/plain": [
              "array([128.85388152, 130.96340048, 133.21772383, 135.55790789,\n",
              "       137.939144  , 140.32344284, 142.67273558, 144.94191449,\n",
              "       147.09825463, 149.1076519 , 150.93399902, 152.53860101,\n",
              "       153.87955828, 154.95222212, 155.97823227, 146.7105501 ])"
            ]
          },
          "metadata": {},
          "execution_count": 22
        }
      ],
      "source": [
        "V"
      ]
    },
    {
      "cell_type": "markdown",
      "metadata": {
        "deletable": true,
        "editable": true,
        "nbgrader": {
          "cell_type": "markdown",
          "checksum": "0943d42dc7e60e40739b606700125da1",
          "grade": false,
          "grade_id": "cell-92139bf490757a44",
          "locked": true,
          "schema_version": 3,
          "solution": false
        },
        "id": "_LYmVuoerVQq"
      },
      "source": [
        "You can check the value function (rounded to one decimal place) and policy against the answer below:<br>\n",
        "State $\\quad\\quad$    Value $\\quad\\quad$ Action<br>\n",
        "0 $\\quad\\quad\\quad\\;$        81.6 $\\quad\\quad\\;$ 0<br>\n",
        "1 $\\quad\\quad\\quad\\;$        83.3 $\\quad\\quad\\;$ 0<br>\n",
        "2 $\\quad\\quad\\quad\\;$        85.0 $\\quad\\quad\\;$ 0<br>\n",
        "3 $\\quad\\quad\\quad\\;$        86.8 $\\quad\\quad\\;$ 0<br>\n",
        "4 $\\quad\\quad\\quad\\;$        88.5 $\\quad\\quad\\;$ 0<br>\n",
        "5 $\\quad\\quad\\quad\\;$        90.2 $\\quad\\quad\\;$ 0<br>\n",
        "6 $\\quad\\quad\\quad\\;$        91.7 $\\quad\\quad\\;$ 0<br>\n",
        "7 $\\quad\\quad\\quad\\;$        93.1 $\\quad\\quad\\;$ 0<br>\n",
        "8 $\\quad\\quad\\quad\\;$        94.3 $\\quad\\quad\\;$ 0<br>\n",
        "9 $\\quad\\quad\\quad\\;$        95.3 $\\quad\\quad\\;$ 3<br>\n",
        "10 $\\quad\\quad\\;\\;\\,\\,$      89.5 $\\quad\\quad\\;$ 3<br>"
      ]
    },
    {
      "cell_type": "markdown",
      "metadata": {
        "deletable": true,
        "editable": true,
        "nbgrader": {
          "cell_type": "markdown",
          "checksum": "e59b175ca7605a8002c2040043f7b1af",
          "grade": false,
          "grade_id": "cell-e7628124eafb2fc2",
          "locked": true,
          "schema_version": 3,
          "solution": false
        },
        "id": "UpU4SIvdrVQx"
      },
      "source": [
        "## Section 3: Value Iteration\n",
        "The city has also heard about value iteration and would like you to implement it. Value iteration works by iteratively applying the Bellman optimality equation for $v_{\\ast}$ to a working value function, as an update rule, as shown below.\n",
        "\n",
        "$$\\large v(s) \\leftarrow \\max_a \\sum_{s', r} p(s', r | s, a)[r + \\gamma v(s')]$$\n",
        "Fill in the `value_iteration` and `bellman_optimality_update` functions described in chapter 4.4 of the textbook to complete the value iteration algorithm."
      ]
    },
    {
      "cell_type": "code",
      "execution_count": null,
      "metadata": {
        "id": "zrdDmsFurVQx"
      },
      "outputs": [],
      "source": [
        "# ======================================================\n",
        "# Value Iteration: Optimizing Your Policy with Dynamic Programming\n",
        "# This function implements the value iteration algorithm to compute the optimal value function (V)\n",
        "# and the corresponding greedy policy (pi). It repeatedly updates V using the Bellman optimality\n",
        "# equation until convergence (i.e., when the maximum change in V is less than theta), and then it\n",
        "# extracts the optimal policy by making it greedy with respect to the updated V.\n",
        "# ======================================================\n",
        "\n",
        "def value_iteration(env, gamma, theta):\n",
        "\n",
        "    # Initialize the value function V to zero for all states.\n",
        "    V = np.zeros(len(env.S))\n",
        "\n",
        "    # Iteratively update V until the maximum change (delta) falls below the threshold theta.\n",
        "    while True:  # Start with an infinite loop, break when convergence is achieved\n",
        "        # Reset the maximum change for this iteration.\n",
        "        delta = 0\n",
        "\n",
        "        # Iterate over each state in the environment\n",
        "        for s in env.S:\n",
        "            # Save the current value of state s for comparison.\n",
        "            v = V[s]\n",
        "\n",
        "            # Update V[s] using the Bellman optimality equation.\n",
        "            V[s] = bellman_optimality_update(env, V, s, gamma)\n",
        "\n",
        "            # Update delta with the maximum change observed across states.\n",
        "            delta = max(delta, np.abs(V[s] - v))\n",
        "\n",
        "        # If the value function has converged, exit the loop.\n",
        "        if delta < theta:\n",
        "            break\n",
        "\n",
        "    # Initialize a uniform policy over all actions for all states.\n",
        "    pi = np.ones((len(env.S), len(env.A))) / len(env.A)\n",
        "\n",
        "    # Refine the policy by making it greedy with respect to the final value function V.\n",
        "    for s in env.S:\n",
        "        q_greedify_policy(env, V, pi, s, gamma)\n",
        "\n",
        "    # Return the optimal value function and the corresponding greedy policy.\n",
        "    return V, pi"
      ]
    },
    {
      "cell_type": "code",
      "execution_count": null,
      "metadata": {
        "id": "xoPaIErFrVQy"
      },
      "outputs": [],
      "source": [
        "# ======================================================\n",
        "# Bellman Optimality Update for Value Iteration\n",
        "# This function updates the value function V at a given state s using the Bellman\n",
        "# optimality equation. It computes the expected return (Q-value) for each action by\n",
        "# considering all possible transitions, and then updates V[s] to be the maximum Q-value.\n",
        "# ======================================================\n",
        "\n",
        "def bellman_optimality_update(env, V, s, gamma):\n",
        "\n",
        "    # Initialize an array to store the Q-value for each action in state s.\n",
        "    Q = np.zeros(len(env.A))\n",
        "\n",
        "    # Iterate over every action available in state s.\n",
        "    for a in env.A:\n",
        "        # Retrieve all transitions for action a in state s.\n",
        "        # Each transition is a tuple (r, p) where:\n",
        "        #   r = immediate reward,\n",
        "        #   p = probability of that transition.\n",
        "        transitions = env.transitions(s, a)\n",
        "\n",
        "        # Sum over all transitions to compute the Q-value for action a.\n",
        "        for sp, (r, p) in enumerate(transitions):\n",
        "            # Add the expected return: probability * (reward + discounted future value)\n",
        "            Q[a] += p * (r + gamma * V[sp])\n",
        "\n",
        "        # Store the computed Q-value for action a.\n",
        "\n",
        "    # Update the value function for state s to be the maximum Q-value over all actions.\n",
        "    return np.max(Q) # Return the maximum Q-value"
      ]
    },
    {
      "cell_type": "code",
      "execution_count": null,
      "metadata": {
        "deletable": true,
        "editable": true,
        "nbgrader": {
          "cell_type": "code",
          "checksum": "bdcf2724450c1e103db4ded3ade9a97b",
          "grade": true,
          "grade_id": "cell-92e457ed985823c3",
          "locked": true,
          "points": 10,
          "schema_version": 3,
          "solution": false,
          "task": false
        },
        "id": "K02SwEyCrVQy",
        "outputId": "a5883c75-cd96-4ad8-8c69-28b690f29247",
        "colab": {
          "base_uri": "https://localhost:8080/"
        }
      },
      "outputs": [
        {
          "output_type": "stream",
          "name": "stdout",
          "text": [
            "Computed Value Function:\n",
            "[ 97 100 103 105 108 111 113 116 118 120 122 124 126 127 128 119]\n"
          ]
        }
      ],
      "source": [
        "\"\"\"\n",
        "# Value Iteration for Parking MDP\n",
        "# This script performs value iteration using the Bellman optimality update to compute the optimal value function.\n",
        "\"\"\"\n",
        "\n",
        "# Define discount factor\n",
        "gamma = 0.9  # Discount factor for future rewards\n",
        "\n",
        "# Initialize the Parking MDP environment with 10 spaces and 4 pricing levels\n",
        "env = tools.ParkingWorld(num_spaces=15, num_prices=4)\n",
        "\n",
        "# Initialize the value function with arbitrary values\n",
        "V = np.array([1, 2, 3, 4, 5, 6, 7, 8, 9, 10, 11, 12, 13, 14, 15, 16])\n",
        "\n",
        "# Perform value iteration using the Bellman optimality update\n",
        "# Iterate multiple times to converge to the optimal value function\n",
        "for _ in range(10):  # Repeat for convergence\n",
        "    for s in env.S:  # Update value for each state\n",
        "        V[s] = bellman_optimality_update(env, V, s, gamma)  # Apply Bellman update\n",
        "\n",
        "# Expected result for verification\n",
        "answer = [97, 100, 103, 105, 108, 111, 113, 116, 118, 120, 122, 124, 126, 127, 128, 119]  # Expected value function\n",
        "\n",
        "# Print the computed value function for validation\n",
        "print(\"Computed Value Function:\")\n",
        "print(V)"
      ]
    },
    {
      "cell_type": "markdown",
      "metadata": {
        "deletable": true,
        "editable": true,
        "nbgrader": {
          "cell_type": "markdown",
          "checksum": "c5020582c7de3757fa3ece73983b61d9",
          "grade": false,
          "grade_id": "cell-d472d58e936b371e",
          "locked": true,
          "schema_version": 3,
          "solution": false
        },
        "id": "EvcLyBxNrVQy"
      },
      "source": [
        "When you are ready to test the value iteration algorithm, run the cell below."
      ]
    },
    {
      "cell_type": "code",
      "execution_count": null,
      "metadata": {
        "deletable": true,
        "editable": true,
        "nbgrader": {
          "cell_type": "code",
          "checksum": "cd8be31ddef5580d095a7e861e52a479",
          "grade": false,
          "grade_id": "cell-f609be2c58adc3e2",
          "locked": true,
          "schema_version": 3,
          "solution": false
        },
        "id": "ISYvgv7VrVQz"
      },
      "outputs": [],
      "source": [
        "env = tools.ParkingWorld(num_spaces=15, num_prices=4)\n",
        "gamma = 0.9\n",
        "theta = 0.1\n",
        "V, pi = value_iteration(env, gamma, theta)"
      ]
    },
    {
      "cell_type": "markdown",
      "metadata": {
        "deletable": true,
        "editable": true,
        "nbgrader": {
          "cell_type": "markdown",
          "checksum": "8c88ac444253a80a377a7dce46e0c606",
          "grade": false,
          "grade_id": "cell-cba784b8d158758b",
          "locked": true,
          "schema_version": 3,
          "solution": false
        },
        "id": "BI1kMtserVQz"
      },
      "source": [
        "You can use the ``plot`` function to visualize the final value function and policy."
      ]
    },
    {
      "cell_type": "code",
      "execution_count": null,
      "metadata": {
        "deletable": true,
        "editable": true,
        "nbgrader": {
          "cell_type": "code",
          "checksum": "d18a2592a3bac43de72e18cb54357ac9",
          "grade": false,
          "grade_id": "cell-086e26bfb519a017",
          "locked": true,
          "schema_version": 3,
          "solution": false
        },
        "id": "Gbl8RoozrVQz",
        "outputId": "c1911c03-fa31-41d3-c8ae-fbf739b95b82",
        "colab": {
          "base_uri": "https://localhost:8080/",
          "height": 447
        }
      },
      "outputs": [
        {
          "output_type": "display_data",
          "data": {
            "text/plain": [
              "<Figure size 1250x500 with 3 Axes>"
            ],
            "image/png": "[encoded data removed]"
          },
          "metadata": {}
        }
      ],
      "source": [
        "tools.plot(V, pi)"
      ]
    },
    {
      "cell_type": "code",
      "execution_count": null,
      "metadata": {
        "id": "bblAZhGurVQz",
        "outputId": "7fedc3ff-3db2-45e7-efbf-99072bdea332",
        "colab": {
          "base_uri": "https://localhost:8080/"
        }
      },
      "outputs": [
        {
          "output_type": "execute_result",
          "data": {
            "text/plain": [
              "array([128.85081235, 130.96039224, 133.21476581, 135.55499286,\n",
              "       137.93626679, 140.32059965, 142.66992416, 144.93913244,\n",
              "       147.09549999, 149.10492299, 150.9312944 , 152.53591939,\n",
              "       153.8768985 , 154.94959206, 155.97564426, 146.70798062])"
            ]
          },
          "metadata": {},
          "execution_count": 30
        }
      ],
      "source": [
        "V"
      ]
    },
    {
      "cell_type": "markdown",
      "metadata": {
        "deletable": true,
        "editable": true,
        "nbgrader": {
          "cell_type": "markdown",
          "checksum": "f7ee7bba538aa9300cd636c99403fd72",
          "grade": false,
          "grade_id": "cell-066f9bbdc057115b",
          "locked": true,
          "schema_version": 3,
          "solution": false
        },
        "id": "dTRJPPtPrVQ0"
      },
      "source": [
        "You can check your value function (rounded to one decimal place) and policy against the answer below:<br>\n",
        "State $\\quad\\quad$    Value $\\quad\\quad$ Action<br>\n",
        "0 $\\quad\\quad\\quad\\;$        81.6 $\\quad\\quad\\;$ 0<br>\n",
        "1 $\\quad\\quad\\quad\\;$        83.3 $\\quad\\quad\\;$ 0<br>\n",
        "2 $\\quad\\quad\\quad\\;$        85.0 $\\quad\\quad\\;$ 0<br>\n",
        "3 $\\quad\\quad\\quad\\;$        86.8 $\\quad\\quad\\;$ 0<br>\n",
        "4 $\\quad\\quad\\quad\\;$        88.5 $\\quad\\quad\\;$ 0<br>\n",
        "5 $\\quad\\quad\\quad\\;$        90.2 $\\quad\\quad\\;$ 0<br>\n",
        "6 $\\quad\\quad\\quad\\;$        91.7 $\\quad\\quad\\;$ 0<br>\n",
        "7 $\\quad\\quad\\quad\\;$        93.1 $\\quad\\quad\\;$ 0<br>\n",
        "8 $\\quad\\quad\\quad\\;$        94.3 $\\quad\\quad\\;$ 0<br>\n",
        "9 $\\quad\\quad\\quad\\;$        95.3 $\\quad\\quad\\;$ 3<br>\n",
        "10 $\\quad\\quad\\;\\;\\,\\,$      89.5 $\\quad\\quad\\;$ 3<br>"
      ]
    },
    {
      "cell_type": "markdown",
      "metadata": {
        "deletable": true,
        "editable": true,
        "nbgrader": {
          "cell_type": "markdown",
          "checksum": "167e35e35d0d33a6e9b26413281e4592",
          "grade": false,
          "grade_id": "cell-12976ff0ac11680d",
          "locked": true,
          "schema_version": 3,
          "solution": false
        },
        "id": "Tg-qiR3grVQ0"
      },
      "source": [
        "In the value iteration algorithm above, a policy is not explicitly maintained until the value function has converged. Below, we have written an identically behaving value iteration algorithm that maintains an updated policy. Writing value iteration in this form makes its relationship to policy iteration more evident. Policy iteration alternates between doing complete greedifications and complete evaluations. On the other hand, value iteration alternates between doing local greedifications and local evaluations."
      ]
    },
    {
      "cell_type": "code",
      "execution_count": null,
      "metadata": {
        "id": "xn4lDRUfrVQ0"
      },
      "outputs": [],
      "source": [
        "# ======================================================\n",
        "# Value Iteration Variant with Simultaneous Policy Update\n",
        "# This function implements a twist on the standard value iteration algorithm.\n",
        "# It updates both the value function V and the policy pi in a single loop.\n",
        "# For each state, it first makes the policy greedy with respect to the current Q-values\n",
        "# (computed from V) and then updates V using the Bellman update rule. The process continues\n",
        "# until the maximum change in V is smaller than the threshold theta.\n",
        "# ======================================================\n",
        "\n",
        "def value_iteration2(env, gamma, theta):\n",
        "\n",
        "\n",
        "    # Initialize the value function V to zero for all states.\n",
        "    V = np.zeros(len(env.S))\n",
        "\n",
        "    # Initialize the policy pi to be uniform over all available actions for each state.\n",
        "    pi = np.ones((len(env.S), len(env.A))) / len(env.A)\n",
        "\n",
        "    # Loop until the value function converges (i.e., changes become negligible).\n",
        "    while True:\n",
        "        # Reset the maximum change in V for this iteration.\n",
        "        delta = 0\n",
        "\n",
        "        # Process each state in the environment.\n",
        "        for s in env.S:\n",
        "            # Store the current value for state s to later measure the change.\n",
        "            v = V[s]\n",
        "\n",
        "            # Update the policy for state s to be greedy with respect to the Q-values derived from V.\n",
        "            q_greedify_policy(env, V, pi, s, gamma)\n",
        "\n",
        "            # Update the value function V for state s using the Bellman update rule.\n",
        "            V[s] = bellman_update(env, V, pi, s, gamma)\n",
        "\n",
        "            # Track the maximum change observed in the value function.\n",
        "            delta = max(delta, np.abs(V[s] - v))\n",
        "\n",
        "        # If the largest change is less than the threshold theta, convergence is achieved.\n",
        "        if delta < theta:\n",
        "            break\n",
        "\n",
        "    # Return the final value function and the corresponding greedy policy.\n",
        "    return V, pi"
      ]
    },
    {
      "cell_type": "markdown",
      "metadata": {
        "deletable": true,
        "editable": true,
        "nbgrader": {
          "cell_type": "markdown",
          "checksum": "795713d092ebf77dbe0f17c46d4286cd",
          "grade": false,
          "grade_id": "cell-de841fb4eb290d56",
          "locked": true,
          "schema_version": 3,
          "solution": false
        },
        "id": "5imir4H8rVQ1"
      },
      "source": [
        "You can try the second value iteration algorithm by running the cell below."
      ]
    },
    {
      "cell_type": "code",
      "execution_count": null,
      "metadata": {
        "deletable": true,
        "editable": true,
        "nbgrader": {
          "cell_type": "code",
          "checksum": "09b1fda9c335946b52cae6c8a55e80fb",
          "grade": false,
          "grade_id": "cell-2ace3a0ae8ee2e72",
          "locked": true,
          "schema_version": 3,
          "solution": false
        },
        "id": "FHmsRSBvrVQ1",
        "outputId": "6f24f8dd-5df9-4df5-dc56-07831dc0925a",
        "colab": {
          "base_uri": "https://localhost:8080/",
          "height": 447
        }
      },
      "outputs": [
        {
          "output_type": "display_data",
          "data": {
            "text/plain": [
              "<Figure size 1250x500 with 3 Axes>"
            ],
            "image/png": "[encoded data removed]"
          },
          "metadata": {}
        }
      ],
      "source": [
        "env = tools.ParkingWorld(num_spaces=15, num_prices=4)\n",
        "gamma = 0.9\n",
        "theta = 0.1\n",
        "V, pi = value_iteration2(env, gamma, theta)\n",
        "tools.plot(V, pi)"
      ]
    },
    {
      "cell_type": "code",
      "execution_count": null,
      "metadata": {
        "id": "gJ3GVjm9rVQ1",
        "outputId": "36b26cdf-07f1-4b2d-fcc0-f998ea1bb792",
        "colab": {
          "base_uri": "https://localhost:8080/"
        }
      },
      "outputs": [
        {
          "output_type": "execute_result",
          "data": {
            "text/plain": [
              "array([128.85081235, 130.96039224, 133.21476581, 135.55499286,\n",
              "       137.93626679, 140.32059965, 142.66992416, 144.93913244,\n",
              "       147.09549999, 149.10492299, 150.9312944 , 152.53591939,\n",
              "       153.8768985 , 154.94959206, 155.97564426, 146.70798062])"
            ]
          },
          "metadata": {},
          "execution_count": 33
        }
      ],
      "source": [
        "V"
      ]
    },
    {
      "cell_type": "markdown",
      "metadata": {
        "deletable": true,
        "editable": true,
        "nbgrader": {
          "cell_type": "markdown",
          "checksum": "524f8f37d4321a149e999e2af4c10756",
          "grade": false,
          "grade_id": "cell-6025f917f706302b",
          "locked": true,
          "schema_version": 3,
          "solution": false
        },
        "id": "RD3aESrPrVQ2"
      },
      "source": [
        "## Conclusion\n",
        "Congratulations, you've completed assignment 4! In this assignment, we investigated policy evaluation and policy improvement, policy iteration and value iteration, and Bellman updates. Gridworld City thanks you for your service!"
      ]
    }
  ],
  "metadata": {
    "coursera": {
      "course_slug": "fundamentals-of-reinforcement-learning",
      "graded_item_id": "fvXSL",
      "launcher_item_id": "5z8bz"
    },
    "kernelspec": {
      "display_name": "pytorch-gpu",
      "language": "python",
      "name": "python3"
    },
    "language_info": {
      "codemirror_mode": {
        "name": "ipython",
        "version": 3
      },
      "file_extension": ".py",
      "mimetype": "text/x-python",
      "name": "python",
      "nbconvert_exporter": "python",
      "pygments_lexer": "ipython3",
      "version": "3.11.11"
    },
    "colab": {
      "provenance": []
    }
  },
  "nbformat": 4,
  "nbformat_minor": 0
}