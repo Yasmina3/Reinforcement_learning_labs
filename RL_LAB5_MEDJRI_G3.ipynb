{
  "cells": [
    {
      "cell_type": "markdown",
      "metadata": {
        "deletable": true,
        "editable": true,
        "id": "J6HuWb-TkYcz",
        "nbgrader": {
          "cell_type": "markdown",
          "checksum": "3996977e7d68ec12f2c9ffcfe5ce214b",
          "grade": false,
          "grade_id": "cell-649fd0b1aa7ccb0f",
          "locked": true,
          "schema_version": 3,
          "solution": false
        }
      },
      "source": [
        "# Assignment 5: Off-policy Monte Carlo Control\n",
        "\n",
        "Welcome to Assignment 5. This notebook will help you understand:\n",
        "- Implement a Racetrack environment.\n",
        "- Train and evaluate the agent using Off-policy Monte Carlo Control method.\n",
        "- Optimize and test the final policy."
      ]
    },
    {
      "cell_type": "markdown",
      "metadata": {
        "deletable": true,
        "editable": true,
        "id": "gKQHlMq8kYc0",
        "nbgrader": {
          "cell_type": "markdown",
          "checksum": "20729884a9ceb3804a03589ce5938a2d",
          "grade": false,
          "grade_id": "cell-9aafac39a58eeca4",
          "locked": true,
          "schema_version": 3,
          "solution": false
        }
      },
      "source": [
        "## **Racetrack**\n",
        "\n",
        "Consider driving a race car around a turn like those shown in the following Figure.\n",
        "\n",
        "You want to go as fast as possible, but not so fast as to run off the track. In our simplified racetrack, the car is at one of a discrete set of grid positions, the cells in the diagram.\n",
        "\n",
        "The velocity is also discrete, a number of grid cells moved horizontally and vertically per time step. The actions are increments to the velocity components. Each may be changed by +1, -1, or 0 in each step, for a total of nine (3×3) actions. Both velocity components are restricted to be nonnegative and less than 5, and they cannot both be zero except at the starting line. Each episode begins in one of the randomly selected start states with both velocity components zero and ends when the car crosses the finish line.\n",
        "\n",
        "The rewards are -1 for each step until the car crosses the finish line. If the car hits the track boundary, it is moved back to a random position on the starting line, both velocity components are reduced to zero, and the episode continues. Before updating the car’s location at each time step, check to see if the projected path of the car intersects the track boundary. If it intersects the finish line, the episode ends; if it intersects anywhere else, the car is considered to have hit the track boundary and is sent back to the starting line. To make the task more challenging, with probability 0.1 at each time step the velocity increments are both zero, independently of the intended increments.\n",
        "\n",
        "In this lab, we will implement a Monte Carlo control algorithm to determine the optimal policy for navigating the racetrack efficiently. The final policy will be evaluated by visualizing multiple trajectories (without noise) demonstrating the most efficient paths from different starting positions.\n"
      ]
    },
    {
      "cell_type": "markdown",
      "metadata": {
        "id": "fssCo4AvkYc2"
      },
      "source": [
        "<figure style=\"text-align: center;\">\n",
        "    <img src=\"./img/Racetrack.png\" alt=\"A couple of right turns for the racetrack task.\" width=\"600\"/>\n",
        "    <figcaption>A couple of right turns for the racetrack task.</figcaption>\n",
        "</figure>"
      ]
    },
    {
      "cell_type": "markdown",
      "metadata": {
        "deletable": true,
        "editable": true,
        "id": "px3MuSXTkYc2",
        "nbgrader": {
          "cell_type": "markdown",
          "checksum": "77a7b97ee700b6ce77ed26bd22749e80",
          "grade": false,
          "grade_id": "cell-28ccff8d1e663850",
          "locked": true,
          "schema_version": 3,
          "solution": false
        }
      },
      "source": [
        "### **Preliminaries**\n",
        "You'll need two imports to complete this assigment:\n",
        "- numpy: the fundamental package for scientific computing with Python.\n",
        "- tqdm: import tqdm for displaying a progress bar during training.\n",
        "- pickle: is a Python module used for serializing and deserializing objects.\n",
        "- matplotlib: is a library for data visualization.\n",
        "- uniform_filter: import uniform_filter for smoothing data using a moving average\n",
        "- RaceTrack: the racetrack environment."
      ]
    },
    {
      "cell_type": "code",
      "execution_count": 2,
      "metadata": {
        "deletable": true,
        "editable": true,
        "id": "lFCxWdNUkYc3",
        "nbgrader": {
          "cell_type": "code",
          "checksum": "2b5347a2a22c1bacff0c0453119c8d84",
          "grade": false,
          "grade_id": "cell-c11ff54faaf3fd89",
          "locked": true,
          "schema_version": 3,
          "solution": false
        }
      },
      "outputs": [],
      "source": [
        "%matplotlib inline\n",
        "import numpy as np\n",
        "from tqdm import tqdm\n",
        "import pickle\n",
        "import matplotlib.pyplot as plt\n",
        "from scipy.ndimage import uniform_filter\n",
        "\n",
        "from race_track_env.race_track import RaceTrack"
      ]
    },
    {
      "cell_type": "markdown",
      "metadata": {
        "deletable": true,
        "editable": true,
        "id": "tY5CqzubkYc3",
        "nbgrader": {
          "cell_type": "markdown",
          "checksum": "596fffc2a1391897952fcabe2a8db930",
          "grade": false,
          "grade_id": "cell-4c7c5c4373be59ff",
          "locked": true,
          "schema_version": 3,
          "solution": false
        }
      },
      "source": [
        "### **Lab Requirements**\n",
        "\n",
        "In this lab, we are tasked with finding a policy that allows a race car to drive from the starting line to the finishing line as quickly as possible without running into gravel or going off the track. Below are some key points essential for completing this lab:\n",
        "\n",
        "1. **Map Representation:** The map is represented as a 2D matrix, where each cell's coordinates are given by (row_index, column_index). The value of each cell indicates its state: 0 represents gravel, 1 represents the track surface, 0.4 represents the starting region, and 0.8 represents the finishing line. Any row or column index outside the matrix is considered out of bounds.\n",
        "\n",
        "2. **Car Representation:** The position of the car can be directly represented using the matrix coordinates.\n",
        "\n",
        "3. **Velocity and Control:** The velocity space is discrete, consisting of horizontal and vertical speeds that can be represented as a tuple (row_speed, col_speed). The speed limits on both axes range from -4 to 4, and speed can be incremented by +1, 0, or -1 at each step. Therefore, there are nine possible actions. The speed cannot be zero except when at the starting line, and the vertical speed (row speed) cannot be negative to prevent the car from moving back to the starting line.\n",
        "\n",
        "4. **Reward and Episode:** The reward for each step taken before crossing the finishing line is -1. If the car goes off the track, it will be reset to one of the starting cells. The episode ends only when the car successfully crosses the finishing line.\n",
        "\n",
        "5. **Starting States:** A random starting cell for the car is chosen from the starting line, and the initial speed is set to (0, 0)."
      ]
    },
    {
      "cell_type": "markdown",
      "metadata": {
        "deletable": true,
        "editable": true,
        "id": "zY9C0bhgkYc4",
        "nbgrader": {
          "cell_type": "markdown",
          "checksum": "0813b0f481e1f2f90e12f38456781410",
          "grade": false,
          "grade_id": "cell-57212e031233c500",
          "locked": true,
          "schema_version": 3,
          "solution": false
        }
      },
      "source": [
        "### **Building track maps**\n",
        "We can represent track maps as 2D matrices, where different values indicate the various track states. As shown in the textbook, the two maps are recreate and saved as separate .npy files, allowing the environment to read them during training instead of generating them at runtime.\n",
        "\n",
        "The two maps are represented as follows: light cells indicate gravel, dark cells represent track surfaces, greenish cells denote the finishing line, and light blue cells signify the starting line."
      ]
    },
    {
      "cell_type": "markdown",
      "metadata": {
        "deletable": true,
        "editable": true,
        "id": "TjMj17lbkYc4",
        "nbgrader": {
          "cell_type": "markdown",
          "checksum": "eadfa7b22b07f8c457cf09a78eb23c8c",
          "grade": false,
          "grade_id": "cell-57154206afc97770",
          "locked": true,
          "schema_version": 3,
          "solution": false
        }
      },
      "source": [
        "<figure style=\"text-align: center;\">\n",
        "    <img src=\"./img/track_maps.png\" alt=\"Track maps with the 2D matrix representation.\" width=\"600\"/>\n",
        "    <figcaption>Track maps with the 2D matrix representation.</figcaption>\n",
        "</figure>"
      ]
    },
    {
      "cell_type": "markdown",
      "metadata": {
        "deletable": true,
        "editable": true,
        "id": "DtAHb2LGkYc5",
        "nbgrader": {
          "cell_type": "markdown",
          "checksum": "4f450ea0212f959d952e9b0272e57cf3",
          "grade": false,
          "grade_id": "cell-ce3ac9318671059d",
          "locked": true,
          "schema_version": 3,
          "solution": false
        }
      },
      "source": [
        "### **Building a Gym-like Environment**\n",
        "\n",
        "With the track maps ready, we can now proceed to create a gym-like environment that the algorithm can interact with. The Gymnasium provides a simple interface for testing reinforcement learning (RL) algorithms. We will use the Gymnasium package to create the racetrack environment.\n",
        "\n",
        "- The first argument `track_map` specifies the track map, which must be either `'a'` or `'b'`, as defined in the textbook.\n",
        "- The `render_mode`variable determines whether the environment should be rendered visually.\n",
        "  - render_mode = 'human' (commented out) would enable a graphical display of the racetrack.\n",
        "  - render_mode = None disables rendering, making the simulation run in the background without visualization.\n",
        "- The `size` parameter (set to 20 in this case) defines the dimensions of each cell in the track map, measured in pixels."
      ]
    },
    {
      "cell_type": "code",
      "execution_count": 3,
      "metadata": {
        "id": "8_IXOG35kYc5",
        "outputId": "4b2042ac-caab-4a1d-ce31-ad77291ffbcc",
        "colab": {
          "base_uri": "https://localhost:8080/"
        }
      },
      "outputs": [
        {
          "output_type": "execute_result",
          "data": {
            "text/plain": [
              "((31, 7, 0, 0), None)"
            ]
          },
          "metadata": {},
          "execution_count": 3
        }
      ],
      "source": [
        "# render_mode = 'human'\n",
        "render_mode = 'human'\n",
        "env = RaceTrack('a', render_mode=render_mode, size=20)\n",
        "env.reset()"
      ]
    },
    {
      "cell_type": "markdown",
      "metadata": {
        "id": "gQrLeHYikYc6"
      },
      "source": [
        "Our environment will include the following components and features:\n",
        "\n",
        "- **env.nS**:\n",
        "To represent the shape of the observation space, which in this case is defined as (num_rows, num_cols, row_speed, col_speed). The number of rows and columns may vary between different maps, but the speed space remains consistent across tracks. For row speed, we want to prevent the car from returning to the starting line. Thus, the row speed observations consist of values ranging from -4 to 0 (negative values indicate the car is moving upwards on the map), totaling five possible states. The column speed, however, has no such restrictions, allowing for a range from -4 to 4, which gives us nine possible states. As a result, the shape of the observation space in the racetrack example is (num_rows, num_cols, 5, 9)."
      ]
    },
    {
      "cell_type": "code",
      "execution_count": 4,
      "metadata": {
        "id": "bx6q-l8mkYc6",
        "outputId": "23a24d7a-f0af-4869-9b90-e7ed96549b1d",
        "colab": {
          "base_uri": "https://localhost:8080/"
        }
      },
      "outputs": [
        {
          "output_type": "execute_result",
          "data": {
            "text/plain": [
              "(32, 17, 5, 9)"
            ]
          },
          "metadata": {},
          "execution_count": 4
        }
      ],
      "source": [
        "env.nS"
      ]
    },
    {
      "cell_type": "markdown",
      "metadata": {
        "id": "g3t7V7s8kYc6"
      },
      "source": [
        "- **env.nA**:\n",
        "This denotes the number of possible actions. In our implementation, there are nine possible actions. We will also create a dictionary within the environment class to map each integer action to its corresponding (row_speed, col_speed) tuple, which the agent will use to navigate."
      ]
    },
    {
      "cell_type": "code",
      "execution_count": 5,
      "metadata": {
        "id": "yIkXcm3AkYc6",
        "outputId": "0e0d91a2-688f-4f5a-bd75-cb194c9b2eb9",
        "colab": {
          "base_uri": "https://localhost:8080/"
        }
      },
      "outputs": [
        {
          "output_type": "execute_result",
          "data": {
            "text/plain": [
              "9"
            ]
          },
          "metadata": {},
          "execution_count": 5
        }
      ],
      "source": [
        "env.nA"
      ]
    },
    {
      "cell_type": "markdown",
      "metadata": {
        "id": "0yvp1HRDkYc6"
      },
      "source": [
        "- **env.reset()**: This function resets the car to one of the starting cells when an episode ends or if the car goes out of bounds.\n",
        "- **env.step(action)**: The step function allows the algorithm to interact with the environment by taking an action. It returns a tuple containing (next_state, reward, is_terminated, is_truncated).\n",
        "- **State-checking functions**: There are two private functions designed to check if the car has left the track or crossed the finish line.\n",
        "- **Rendering functions**: The rendering function is crucial for customizing the environment. It's important to visually verify that the environment has been built correctly by rendering the game space and observing the agent’s behavior, rather than only relying on logging information.\n",
        "\n",
        "Now that these features are built, we can begin testing the racetrack environment."
      ]
    },
    {
      "cell_type": "markdown",
      "metadata": {
        "id": "MX0OW1YpkYc7"
      },
      "source": [
        "### **Test the environement with a random policy**\n",
        "The following code simulates a random agent in our RaceTrack environment, where the car moves based on randomly selected actions until it reaches the finish line or the episode terminates."
      ]
    },
    {
      "cell_type": "code",
      "execution_count": 6,
      "metadata": {
        "id": "fcKvxPzNkYc7",
        "outputId": "f5d10035-c55e-4d17-ef18-9587adae0971",
        "colab": {
          "base_uri": "https://localhost:8080/"
        }
      },
      "outputs": [
        {
          "output_type": "stream",
          "name": "stdout",
          "text": [
            "(3, 16, 0, 3) -1 True -30986\n"
          ]
        }
      ],
      "source": [
        "# render_mode = 'human'\n",
        "render_mode = None\n",
        "env = RaceTrack('a', render_mode=render_mode, size=20)\n",
        "env.reset()\n",
        "total_reward = 0\n",
        "terminated = False\n",
        "truncated = False\n",
        "while not terminated and not truncated:\n",
        "    action = np.random.choice(env.nA)\n",
        "    observation, reward, terminated, truncated = env.step(action)\n",
        "    total_reward += reward\n",
        "    if terminated:\n",
        "        print(observation, reward, terminated, total_reward)"
      ]
    },
    {
      "cell_type": "markdown",
      "metadata": {
        "deletable": true,
        "editable": true,
        "id": "A0AV8uyskYc7",
        "nbgrader": {
          "cell_type": "markdown",
          "checksum": "049e3d7344e203034323e1f86a503ee4",
          "grade": false,
          "grade_id": "cell-3975c91dbe24e9e8",
          "locked": true,
          "schema_version": 3,
          "solution": false
        }
      },
      "source": [
        "As observed in the above Figure, the code simulates a race car moving randomly on track 'a' until it reaches the finish line or the episode is stopped. We can observe that this random agent uses random actions instead of an intelligent policy. It accumulates and prints the total reward when the episode ends."
      ]
    },
    {
      "cell_type": "markdown",
      "metadata": {
        "id": "XnqHDbEskYc7"
      },
      "source": [
        "<figure style=\"text-align: center;\">\n",
        "    <img src=\"./img/random_policy.gif\" alt=\"Agents driving on both tracks with random policy.\" width=\"600\"/>\n",
        "    <figcaption>Agents driving on both tracks with random policy.</figcaption>\n",
        "</figure>"
      ]
    },
    {
      "cell_type": "markdown",
      "metadata": {
        "deletable": true,
        "editable": true,
        "id": "fqPeDmMakYc7",
        "nbgrader": {
          "cell_type": "markdown",
          "checksum": "12e6b88d7cf8ec6d20c7e14e3d43b5e2",
          "grade": false,
          "grade_id": "cell-927e52efe516a816",
          "locked": true,
          "schema_version": 3,
          "solution": false
        }
      },
      "source": [
        "### **Off-policy Monte Carlo Control Algorithm**\n",
        "With the environment set up, we can now proceed to implement the off-policy Monte Carlo (MC) control algorithm using weighted importance sampling, as demonstrated below:"
      ]
    },
    {
      "cell_type": "markdown",
      "metadata": {
        "id": "puOqaGuJkYc7"
      },
      "source": [
        "<figure style=\"text-align: center;\">\n",
        "    <img src=\"./img/OffPolicyMCControl.png\" alt=\"Off-policy Monte Carlo Control Algorithm.\" width=\"600\"/>\n",
        "    <figcaption>Off-policy Monte Carlo Control Algorithm.</figcaption>\n",
        "</figure>"
      ]
    },
    {
      "cell_type": "markdown",
      "metadata": {
        "deletable": true,
        "editable": true,
        "id": "uYmmJszxkYc7",
        "nbgrader": {
          "cell_type": "markdown",
          "checksum": "0869f6736a9ab680b0c82dccf72ba11c",
          "grade": false,
          "grade_id": "cell-141d4e3806427283",
          "locked": true,
          "schema_version": 3,
          "solution": false
        }
      },
      "source": [
        "Monte Carlo methods address the Reinforcement Learning problem by averaging sample returns. During training, these methods generate a trajectory based on a chosen policy and learn from the outcomes of each episode. The key difference between on-policy and off-policy learning is that on-policy methods use the same policy for decision-making and improvement, while off-policy methods utilize different policies for data generation and policy enhancement. Most off-policy methods employ importance sampling to estimate expected values under one distribution, using samples drawn from another.\n",
        "\n",
        "The following sections will discuss the techniques of soft policy and weighted importance sampling within this algorithm, as well as the significance of proper value initialization for successful implementation."
      ]
    },
    {
      "cell_type": "markdown",
      "metadata": {
        "id": "vPbLSlC6kYc7"
      },
      "source": [
        "### **Target Policy and Behavior Policy**  \n",
        "\n",
        "The **off-policy Monte Carlo method** in this algorithm relies on two distinct policies:  \n",
        "\n",
        "- **Target Policy**:  \n",
        "    - This is the policy being **optimized** and learned.  \n",
        "    - It is **greedy and deterministic**, meaning that at any given time step $t$, the probability of selecting the best action $A^*$ is **1.0**, while all other actions have a probability of **0.0**.  \n",
        "    - The target policy follows the **Generalized Policy Iteration (GPI)** framework, which means it continuously updates and improves after each episode.\n",
        "- **Behavior Policy**:  \n",
        "    - This policy is used for **data collection** by generating exploratory actions.  \n",
        "    - It follows a **soft policy**, ensuring that all possible actions in a given state have a **nonzero probability** of being selected.  \n",
        "    - In this algorithm, we employ an **ε-greedy policy**, where the greedy action is chosen most of the time, but with probability **ε**, a random action is selected.  \n",
        "\n",
        "In soft policy, the probability of an action is:\n",
        "\n",
        "$$\n",
        "b(a | S_t) =\n",
        "\\begin{cases}\n",
        "1 - \\varepsilon + \\frac{\\varepsilon}{|A(S_t)|}, & \\text{if } a = A^* \\\\  \n",
        "\\frac{\\varepsilon}{|A(S_t)|}, & \\text{if } a \\neq A^*\n",
        "\\end{cases}\n",
        "$$\n",
        "\n",
        "Since importance sampling relies on knowing the probability of actions under the behavior policy, we must **return the probability of each action selection** during sampling.\n",
        "\n",
        "The following code implements the **Soft Behavior Policy** for our agent in the **off-policy Monte Carlo method**."
      ]
    },
    {
      "cell_type": "code",
      "execution_count": 17,
      "metadata": {
        "id": "CXw6jIdNkYc8"
      },
      "outputs": [],
      "source": [
        "def behavior_pi(state: tuple,\n",
        "                nA: int,\n",
        "                target_pi: np.ndarray,\n",
        "                epsilon: float) -> tuple:\n",
        "    '''\n",
        "    Soft behavior policy function based on an epsilon-greedy approach.\n",
        "\n",
        "    This function selects an action for a given state following an\n",
        "    epsilon-greedy strategy, balancing exploration and exploitation.\n",
        "\n",
        "    Parameters:\n",
        "    - state (tuple): The current state in the environment.\n",
        "    - nA (int): The total number of possible actions.\n",
        "    - target_pi (np.ndarray): The deterministic target policy mapping states to greedy actions.\n",
        "    - epsilon (float): The exploration rate (0 ≤ epsilon ≤ 1). Higher values increase exploration.\n",
        "\n",
        "    Returns:\n",
        "    - tuple: (selected action, probability of selecting that action)\n",
        "    '''\n",
        "\n",
        "    # Generate a random number between 0 and 1 to decide whether to explore or exploit\n",
        "    p = np.random.random()\n",
        "\n",
        "    # Retrieve the greedy action (best action) from the target policy for the given state\n",
        "    greedy_action = target_pi[state]\n",
        "\n",
        "    # If the random value is greater than epsilon, choose the greedy action (exploitation)\n",
        "    if p > epsilon:\n",
        "        return greedy_action, 1 - epsilon + (epsilon / nA)\n",
        "\n",
        "    # Otherwise, select a random action (exploration)\n",
        "    else:\n",
        "        # Choose any action randomly\n",
        "        action = np.random.choice(nA)\n",
        "\n",
        "        # If the randomly selected action is the greedy action, adjust the probability accordingly\n",
        "        if action == greedy_action:\n",
        "            return action, 1 - epsilon + (epsilon / nA)\n",
        "\n",
        "        # Otherwise, return the selected action with uniform exploration probability\n",
        "        else:\n",
        "            return action, epsilon / nA"
      ]
    },
    {
      "cell_type": "markdown",
      "metadata": {
        "id": "ZQYLWPcQkYc8"
      },
      "source": [
        "### **Weighted Importance Sampling**  \n",
        "\n",
        "To estimate the **expected return** under the target policy while using samples from the behavior policy, we apply **weighted importance sampling**. The probability of a given trajectory under the target policy is computed relative to the trajectory generated by the behavior policy.  \n",
        "\n",
        "The **importance sampling ratio** is given by:  \n",
        "$$\n",
        "\\rho_{t:T-1} \\doteq \\frac{\\prod_{k=t}^{T-1} \\pi(A_k | S_k) p(S_{k+1} | S_k, A_k)}\n",
        "{\\prod_{k=t}^{T-1} b(A_k | S_k) p(S_{k+1} | S_k, A_k)}\n",
        "= \\prod_{k=t}^{T-1} \\frac{\\pi(A_k | S_k)}{b(A_k | S_k)}\n",
        "$$\n",
        "\n",
        "where:  \n",
        "- $ \\pi(A_t | S_t) $ is the probability of action $ A_t $ under the **target policy**.  \n",
        "- $ b(A_t | S_t) $ is the probability of action $ A_t $ under the **behavior policy**.  \n",
        "\n",
        "The **weighted importance sampling update** for the action-value function $ Q(S_t, A_t) $ is then:\n",
        "$$\n",
        "V(s) \\doteq \\frac{\\sum_{t \\in \\mathcal{T}(s)} \\rho_{t:T(t)-1} G_t}\n",
        "{\\sum_{t \\in \\mathcal{T}(s)} \\rho_{t:T(t)-1}}\n",
        "$$\n",
        "\n",
        "To better align with the episodic nature of the task, this equation can be rewritten in an **incremental update form** as follows:\n",
        "$$\n",
        "Q(S_t, A_t) \\leftarrow Q(S_t, A_t) + \\frac{W}{C(S_t, A_t)} [G - Q(S_t, A_t)]\n",
        "$$\n",
        "where $ C(S_t, A_t) $ is the cumulative sum of weights and $G$ is the return from that state-action pair.\n",
        "\n",
        "There are numerous well-documented derivations of the above equation, so we will not revisit them here. Instead, let's focus on an important **optimization trick** in the final steps of the algorithm.  \n",
        "\n",
        "This trick leverages the fact that the **target policy is deterministic**. If the selected action at any time step **deviates** from the target policy, its probability under the target policy becomes **zero**. Consequently, all subsequent updates to the **state-action value function** along that trajectory can be **skipped**, improving computational efficiency.  Conversely, if the chosen action **matches** the target policy, its probability remains **1.0**, allowing the **action-value updates to continue** as usual."
      ]
    },
    {
      "cell_type": "markdown",
      "metadata": {
        "id": "H2dDTM1kkYc8"
      },
      "source": [
        "### **Weight Initialization**\n",
        "\n",
        "Effective **weight initialization** plays a crucial role in successfully solving this Lab problem. To understand its impact, let's first examine the **reward values** obtained from a **random policy** on both tracks.\n",
        "\n",
        "#### **Track a Results**\n",
        "| Observation  | Reward | Terminated | Total Reward |\n",
        "|-------------|--------|------------|--------------|\n",
        "| (1, 16, 0, 3)  | -1 | True  | -4984  |\n",
        "| (2, 16, 0, 2)  | -1 | True  | -23376  |\n",
        "| (3, 16, 0, 3)  | -1 | True  | -14101  |\n",
        "| (1, 16, 0, 3)  | -1 | True  | -46467  |\n",
        "\n",
        "#### **Track b Results**\n",
        "| Observation  | Reward | Terminated | Total Reward |\n",
        "|-------------|--------|------------|--------------|\n",
        "| (1, 31, -2, 2)  | -1 | True  | -3567  |\n",
        "| (0, 31, -4, 4)  | -1 | True  | -682  |\n",
        "| (2, 31, -2, 1)  | -1 | True  | -1387  |\n",
        "| (3, 31, -1, 3)  | -1 | True  | -2336  |\n",
        "\n",
        "Since each step before reaching the finish line incurs a **reward of -1**, early episodes tend to accumulate **large negative total rewards**. If we **initialize the state-action values (Q-values) at 0** or draw them from a **standard normal distribution** (mean = 0, variance = 1), it may lead to **overly optimistic estimates**, slowing down the learning process.\n",
        "\n",
        "We found that initializing **Q-values** using a **normal distribution with a mean of -500 and variance of 1** significantly **accelerates convergence**. However, you are encouraged to experiment with different initialization values to further optimize training efficiency.\n",
        "\n",
        "The following cell implements the **Off-Policy Monte Carlo importance sampling algorithm** and **weight initialization**"
      ]
    },
    {
      "cell_type": "code",
      "execution_count": 18,
      "metadata": {
        "id": "Kl121Upe003x"
      },
      "outputs": [],
      "source": [
        "def off_policy_monte_carlo(env,\n",
        "                           total_episodes: int,\n",
        "                           gamma=0.9,\n",
        "                           epsilon=0.1) -> tuple:\n",
        "    '''\n",
        "    Implements the Off-Policy Monte Carlo Importance Sampling algorithm\n",
        "    for learning an optimal policy in the Racetrack environment.\n",
        "\n",
        "    Parameters:\n",
        "    - env: The racetrack environment.\n",
        "    - total_episodes (int): Total number of episodes for training.\n",
        "    - gamma (float): Discount factor for future rewards (default: 0.9).\n",
        "    - epsilon (float): Exploration rate for behavior policy (default: 0.1).\n",
        "\n",
        "    Returns:\n",
        "    - reward_hist (np.ndarray): Array storing the total rewards per episode.\n",
        "    - Q (np.ndarray): Learned action-value function (Q-values).\n",
        "    '''\n",
        "\n",
        "    # Extract environment action and state space information\n",
        "    action_space = env.nA\n",
        "    observation_space = env.nS\n",
        "\n",
        "    # Initialize Q-table with optimistic values to encourage exploration\n",
        "    Q = np.random.randn(*observation_space, action_space)\n",
        "\n",
        "    # Strongly negative values ensure early exploration\n",
        "    Q -= 500\n",
        "\n",
        "    # Initialize cumulative importance sampling weights\n",
        "    C = np.zeros((*observation_space, action_space))\n",
        "\n",
        "    # Initialize the deterministic target policy (greedy policy from Q-values)\n",
        "    target_pi = np.zeros(observation_space, dtype=int)\n",
        "\n",
        "    # Initialize with the best action based on initial Q-values\n",
        "    for state in np.ndindex(observation_space):\n",
        "        target_pi[state] = np.argmax(Q[state])\n",
        "\n",
        "    # Array to store rewards for each episode\n",
        "    reward_hist = np.zeros(total_episodes)\n",
        "\n",
        "    # Start Monte Carlo training loop with tqdm progress bar\n",
        "    for i in tqdm(range(total_episodes), desc=\"Training Progress\", unit=\"episode\"):\n",
        "        # Stores state-action-reward sequence\n",
        "        trajectory = []\n",
        "\n",
        "        # Track episode completion\n",
        "        terminated = False\n",
        "        truncated = False\n",
        "\n",
        "        # Reset environment at the start of each episode\n",
        "        state, info = env.reset()\n",
        "\n",
        "        # Select initial action using the soft behavior policy\n",
        "        action, act_prob = behavior_pi(state, action_space, target_pi, epsilon)\n",
        "\n",
        "        # Total reward accumulated in the episode\n",
        "        total_reward = 0\n",
        "\n",
        "        # Generate an episode using the behavior policy\n",
        "        while not (terminated or truncated):\n",
        "            # Take action in environment\n",
        "            next_state, reward, terminated, truncated = env.step(action)\n",
        "\n",
        "            # Accumulate reward\n",
        "            total_reward += reward\n",
        "\n",
        "            # Store transition\n",
        "            trajectory.append((state, action, reward, act_prob))\n",
        "\n",
        "            # Update state\n",
        "            state = next_state\n",
        "\n",
        "            # Select next action\n",
        "            action, act_prob = behavior_pi(state, action_space, target_pi, epsilon)\n",
        "\n",
        "        # Initialize return (discounted sum of rewards)\n",
        "        G = 0\n",
        "\n",
        "        # Importance sampling weight\n",
        "        W = 1.0\n",
        "\n",
        "        # Loop over the trajectory in reverse to update Q-values\n",
        "        while trajectory:\n",
        "            # Get last state-action pair\n",
        "            state, action, reward, act_prob = trajectory.pop()\n",
        "\n",
        "            # Compute return\n",
        "            G = gamma * G + reward\n",
        "\n",
        "            # Update cumulative importance sampling weight\n",
        "            C[state][action] += W\n",
        "\n",
        "            # Update Q-value estimate using weighted importance sampling\n",
        "            Q[state][action] += (W / C[state][action]) * (G - Q[state][action])\n",
        "\n",
        "            # Update greedy policy based on the new Q-values\n",
        "            target_pi[state] = np.argmax(Q[state])\n",
        "\n",
        "            # If action taken deviates from the greedy policy, stop updating weights\n",
        "            if action != target_pi[state]:\n",
        "                break\n",
        "\n",
        "            # Update importance sampling weight\n",
        "            W *= 1.0 / act_prob  # Adjust weight based on probability of the action\n",
        "\n",
        "        # Store total reward for this episode\n",
        "        reward_hist[i] = total_reward\n",
        "\n",
        "    return reward_hist, Q"
      ]
    },
    {
      "cell_type": "markdown",
      "metadata": {
        "id": "PInDUP_LkYc8"
      },
      "source": [
        "### **Solving the Problem**  \n",
        "\n",
        "With the key concepts outlined above, we can now implement the **Off-policy Monte Carlo control algorithm** to solve the **racetrack challenge**. Firstly, we initialize the **Racetrack environment** and sets up key parameters for reinforcement learning. It defines **1,000,000 episodes** for training, selects a track (`'a'`), and specify a rendering mode (`None` for no visualization). The environment is created with a **cell size of 20 pixels**. Additionally, the **discount factor** is set to 0.9 (`γ = 0.9`) for future rewards and an **exploration rate** (`ε = 0.1`) for the epsilon-greedy policy."
      ]
    },
    {
      "cell_type": "code",
      "execution_count": 19,
      "metadata": {
        "id": "CA-lKI8IkYc9"
      },
      "outputs": [],
      "source": [
        "# Initialization of Parameters and Environment Setup for the Racetrack Problem\n",
        "\n",
        "# Define the total number of episodes for training\n",
        "# One million episodes to ensure sufficient learning\n",
        "total_episodes = 1000000\n",
        "\n",
        "# Select the racetrack configuration ('a' or 'b')\n",
        "track_sel = 'a'\n",
        "\n",
        "# Define the rendering mode:\n",
        "# - 'human' for visualization\n",
        "# - None for no graphical output (useful for faster training)\n",
        "render_mode = None\n",
        "\n",
        "# Create the racetrack environment with the chosen track and rendering mode\n",
        "env = RaceTrack(track_sel, render_mode=render_mode, size=20)\n",
        "env.reset()\n",
        "\n",
        "# Discount factor for future rewards in reinforcement learning\n",
        "gamma = 0.9\n",
        "\n",
        "# Exploration rate (epsilon) for epsilon-greedy policy:\n",
        "epsilon = 0.1"
      ]
    },
    {
      "cell_type": "markdown",
      "metadata": {
        "id": "ZjEWEF21kYc9"
      },
      "source": [
        "### **Training and performance analysis:**\n",
        "\n",
        "The model is trained for **1,000,000 episodes** on both tracks. To evaluate performance, we analyze the **learning progress** by plotting the training results."
      ]
    },
    {
      "cell_type": "code",
      "execution_count": 20,
      "metadata": {
        "id": "qUI62sVckYc9",
        "outputId": "0efa876b-cb59-4f58-e5e4-ad520c773dfc",
        "colab": {
          "base_uri": "https://localhost:8080/",
          "height": 589
        }
      },
      "outputs": [
        {
          "output_type": "stream",
          "name": "stderr",
          "text": [
            "Training Progress: 100%|██████████| 1000000/1000000 [07:11<00:00, 2318.60episode/s]\n"
          ]
        },
        {
          "output_type": "display_data",
          "data": {
            "text/plain": [
              "<Figure size 1200x600 with 1 Axes>"
            ],
            "image/png": "[encoded data removed]"
          },
          "metadata": {}
        }
      ],
      "source": [
        "# Training and Performance Analysis for Off-Policy Monte Carlo Method\n",
        "\n",
        "# Dictionaries to store training results\n",
        "# Stores reward histories for different track configurations\n",
        "reward_hist_dict = {}\n",
        "\n",
        "# Stores learned Q-values for different track configurations\n",
        "Q_dict = {}\n",
        "\n",
        "# Generate a track identifier based on the selected track\n",
        "track_name = f'Track {track_sel.capitalize()}'\n",
        "key = track_name + ',' + 'Track map'\n",
        "\n",
        "# Train the agent using the Off-Policy Monte Carlo Importance Sampling algorithm\n",
        "reward_hist, Q = off_policy_monte_carlo(env, total_episodes, gamma, epsilon)\n",
        "\n",
        "# Store the results in the respective dictionaries\n",
        "\n",
        "# Store episode rewards\n",
        "reward_hist_dict[key] = reward_hist\n",
        "\n",
        "# Store Q-values representing the learned policy\n",
        "Q_dict[key] = Q\n",
        "\n",
        "# Save the trained Q-values to a pickle file for later use\n",
        "with open(f'./history/track_{track_sel}.pkl', 'wb') as f:\n",
        "    pickle.dump(Q_dict, f)\n",
        "\n",
        "# Visualize learning progress\n",
        "plt.figure(figsize=(12, 6))\n",
        "plt.title(f'Learning Progress for {track_name}', fontsize=16)\n",
        "plt.xlabel('Episodes (thousands)', fontsize=14)\n",
        "plt.ylabel('Average Reward (per 1000 episodes)', fontsize=14)\n",
        "\n",
        "# Apply moving average filter to smoothen the reward history for clearer visualization\n",
        "window_size = 1000\n",
        "smoothed_rewards = uniform_filter(reward_hist, size=window_size)\n",
        "\n",
        "# Plot the smoothed rewards\n",
        "x = np.arange(0, len(smoothed_rewards)) / 1000\n",
        "plt.plot(x, smoothed_rewards, linewidth=2)\n",
        "plt.grid(True, alpha=0.3)\n",
        "\n",
        "# Add a horizontal line at y=0 for reference\n",
        "plt.axhline(y=0, color='r', linestyle='--', alpha=0.5)\n",
        "\n",
        "plt.savefig(f'./plots/track_{track_sel}_learning.png', bbox_inches='tight')\n",
        "plt.show()"
      ]
    },
    {
      "cell_type": "markdown",
      "metadata": {
        "id": "-puN763pkYc9"
      },
      "source": [
        "### **Plotting Results**  \n",
        "\n",
        "To analyze the model's performance, we define a `plot_function` that visualizes the obtained results. This function helps us interpret **learning progress, convergence behavior, and policy effectiveness** by plotting key metrics such as **episode rewards, success rates, or policy updates**. By examining these plots, we can assess how the agent improves over time and compare different training conditions."
      ]
    },
    {
      "cell_type": "code",
      "execution_count": 23,
      "metadata": {
        "id": "lSTMTo8nkYc9",
        "colab": {
          "base_uri": "https://localhost:8080/",
          "height": 838
        },
        "outputId": "4f9b896f-a168-4998-f867-ce4635b5f057"
      },
      "outputs": [
        {
          "output_type": "display_data",
          "data": {
            "text/plain": [
              "<Figure size 1500x900 with 1 Axes>"
            ],
            "image/png": "[encoded data removed]"
          },
          "metadata": {}
        }
      ],
      "source": [
        "def plot_result(value_hist: dict, total_episodes) -> None:\n",
        "    \"\"\"\n",
        "    Plot and save the training results in a nicely formatted graph.\n",
        "\n",
        "    Parameters:\n",
        "    - value_hist (dict): Dictionary containing the reward histories\n",
        "    - total_episodes (int): Total number of training episodes\n",
        "    \"\"\"\n",
        "    line_width = 1.2\n",
        "    fontdict = {'fontsize': 12, 'fontweight': 'bold'}\n",
        "\n",
        "    plt.figure(figsize=(10, 6), dpi=150)\n",
        "    plt.ylim((-500.0, 0.0))\n",
        "    plt.grid(c='lightgray')\n",
        "    plt.margins(0.02)\n",
        "\n",
        "    # Draw/remove axis lines\n",
        "    for i, spine in enumerate(plt.gca().spines.values()):\n",
        "        if i in [0, 2]:\n",
        "            spine.set_linewidth(1.5)\n",
        "            continue\n",
        "        spine.set_visible(False)\n",
        "\n",
        "    x = np.arange(total_episodes)\n",
        "    plt.xscale('log')\n",
        "    plt.xticks([1, 10, 100, 1000, 10_000, 100_000, 1_000_000],\n",
        "               ['1', '10', '100', '1000', '10,000', '100,000', '1,000,000'])\n",
        "\n",
        "    colors = ['tomato', 'cornflowerblue']\n",
        "    for i, (key, value) in enumerate(value_hist.items()):\n",
        "        title, label = key.split(',')\n",
        "        plt.plot(x, uniform_filter(value, size=20),\n",
        "                 linewidth=line_width,\n",
        "                 label=label,\n",
        "                 c=colors[i],\n",
        "                 alpha=0.95)\n",
        "    plt.title(title + ' training record', fontdict=fontdict)\n",
        "    plt.xlabel('Episodes (log scale)', fontdict=fontdict)\n",
        "    plt.ylabel('Rewards', fontdict=fontdict)\n",
        "    plt.legend()\n",
        "    plt.savefig(f'./plots/{\"_\".join(title.lower().split())}.png')\n",
        "    plt.show()\n",
        "\n",
        "# Plot the results\n",
        "plot_result(reward_hist_dict, total_episodes)\n",
        "\n",
        "# Save the Q-values to a pickle file\n",
        "# Fixed typo: tr£ack_sel -> track_sel\n",
        "with open(f'./history/track_{track_sel}.pkl', 'wb') as f:\n",
        "    pickle.dump(Q_dict, f)"
      ]
    },
    {
      "cell_type": "markdown",
      "metadata": {
        "id": "XgYFppWYkYc9"
      },
      "source": [
        "After completing the training phase, we can visualize the training history by calling the `plot_result` function as follows:"
      ]
    },
    {
      "cell_type": "markdown",
      "metadata": {
        "id": "XoAXnBUdkYc-"
      },
      "source": [
        "After training the two tracks a and b, we can observe that the policy **converges around the 10,000th episode** on both tracks."
      ]
    },
    {
      "cell_type": "markdown",
      "metadata": {
        "deletable": true,
        "editable": true,
        "id": "byju-en_kYc-",
        "nbgrader": {
          "cell_type": "markdown",
          "checksum": "0f19b2dc70097c6425bbc3bd25a2a500",
          "grade": false,
          "grade_id": "cell-b612ffe570dd7e29",
          "locked": true,
          "schema_version": 3,
          "solution": false
        }
      },
      "source": [
        "### **Evaluating Q-Values and visualizing sample trajectories**\n",
        "\n",
        "With the trained policies in place, we can now **test the agents** by allowing them to navigate the racetrack. To further assess the effectiveness of the learned policies, we evaluate the **Q-values** to ensure that the agent makes optimal decisions at each state. Additionally, we visualize **sample trajectories**, demonstrating how the agent navigates the track and verifying that it consistently follows an **efficient and stable path** toward the goal."
      ]
    },
    {
      "cell_type": "markdown",
      "metadata": {
        "id": "5fu4rx28kYc-"
      },
      "source": [
        "This implementation successfully **solves the racetrack challenge**, but there may still be areas for improvement."
      ]
    },
    {
      "cell_type": "code",
      "execution_count": 24,
      "metadata": {
        "id": "5b6pRXkBkYc-",
        "outputId": "0ed72bd0-ac73-4c60-9c6f-e8694a509ee0",
        "colab": {
          "base_uri": "https://localhost:8080/",
          "height": 946
        }
      },
      "outputs": [
        {
          "output_type": "display_data",
          "data": {
            "text/plain": [
              "<Figure size 2250x900 with 6 Axes>"
            ],
            "image/png": "[encoded data removed]"
          },
          "metadata": {}
        },
        {
          "output_type": "stream",
          "name": "stdout",
          "text": [
            "\n",
            "Demonstrating trained policy on Track A...\n",
            "Demonstration completed!\n",
            "Total steps: 12\n",
            "Total reward: -12\n",
            "Success: Yes\n"
          ]
        }
      ],
      "source": [
        "# Evaluating Q-Values and Visualizing Sample Paths in the Racetrack Environment\n",
        "\n",
        "# Step 1: Set Up the Environment for Visualization\n",
        "\n",
        "# Define the rendering mode (set to 'human' for visualization, None for faster processing)\n",
        "render_mode = 'human'\n",
        "\n",
        "# Select the racetrack configuration ('a' or 'b')\n",
        "track_sel = 'a'\n",
        "\n",
        "# Create the racetrack environment with the chosen track, rendering mode, and cell size\n",
        "env = RaceTrack(track_sel, render_mode=render_mode, size=20)\n",
        "\n",
        "# Step 2: Load the Pre-trained Q-Value Dictionary\n",
        "\n",
        "# Load Q-values from a previously trained model stored in a pickle file\n",
        "with open(f'./history/track_{track_sel}.pkl', 'rb') as f:\n",
        "    Q_dict = pickle.load(f)\n",
        "\n",
        "# Retrieve the first key in the dictionary (corresponding to the track)\n",
        "key = list(Q_dict.keys())[0]\n",
        "Q = Q_dict[key]\n",
        "\n",
        "# Extract the learned policy using the greedy approach\n",
        "policy = np.zeros(env.nS, dtype=int)\n",
        "for state in np.ndindex(env.nS):\n",
        "    policy[state] = np.argmax(Q[state])\n",
        "\n",
        "# Step 3: Generate and Plot Sample Trajectories\n",
        "\n",
        "# Create a figure for visualization\n",
        "fig, axes = plt.subplots(2, 3, figsize=(15, 6), dpi=150)\n",
        "fig.suptitle('Sample Trajectories', fontsize=14, fontweight='bold')\n",
        "\n",
        "# Generate and visualize 6 sample trajectories (for the 2x3 subplot grid)\n",
        "for i, ax in enumerate(axes.flat):\n",
        "    track_map = np.copy(env.track_map)  # Copy the track layout\n",
        "    state, _ = env.reset()  # Reset environment to start position\n",
        "    terminated = False  # Track if the episode ends\n",
        "    truncated = False   # Track if episode is truncated\n",
        "    max_steps = 500  # Prevent infinite loops\n",
        "    step_count = 0\n",
        "\n",
        "    while not (terminated or truncated) and step_count < max_steps:\n",
        "        # Mark the agent's current position on the track\n",
        "        track_map[state[0], state[1]] = 0.6\n",
        "\n",
        "        # Select action based on the greedy policy\n",
        "        action = policy[state]\n",
        "\n",
        "        # Perform the action and observe the next state\n",
        "        next_state, reward, terminated, truncated = env.step(action)\n",
        "\n",
        "        # Break if the environment truncates the episode\n",
        "        if truncated:\n",
        "            break\n",
        "\n",
        "        # Update the current state\n",
        "        state = next_state\n",
        "\n",
        "        # Increment step count\n",
        "        step_count += 1\n",
        "\n",
        "    # Plot the trajectory\n",
        "    ax.imshow(track_map, cmap='GnBu', interpolation='nearest')\n",
        "    ax.axis('off')\n",
        "    ax.set_title(f'Trajectory {i+1}', fontsize=10, fontweight='bold')\n",
        "\n",
        "# Adjust layout and save the figure\n",
        "plt.tight_layout()\n",
        "plt.savefig(f'./plots/track_{track_sel}_paths.png', bbox_inches='tight')\n",
        "plt.show()\n",
        "\n",
        "# Step 4: Evaluate Policy Performance in Real-Time\n",
        "\n",
        "# Reset environment for a final demonstration\n",
        "env = RaceTrack(track_sel, render_mode='human', size=20)\n",
        "state, _ = env.reset()\n",
        "terminated = False\n",
        "truncated = False\n",
        "total_reward = 0\n",
        "steps = 0\n",
        "\n",
        "print(f\"\\nDemonstrating trained policy on {track_name}...\")\n",
        "\n",
        "# Run the policy until termination\n",
        "while not (terminated or truncated) and steps < 1000:\n",
        "    # Select the best action according to learned policy\n",
        "    action = policy[state]\n",
        "\n",
        "    # Take the action\n",
        "    next_state, reward, terminated, truncated = env.step(action)\n",
        "\n",
        "    # Update state and tracking variables\n",
        "    state = next_state\n",
        "    total_reward += reward\n",
        "    steps += 1\n",
        "\n",
        "    # Pause briefly to make visualization visible\n",
        "    plt.pause(0.05)\n",
        "\n",
        "print(f\"Demonstration completed!\")\n",
        "print(f\"Total steps: {steps}\")\n",
        "print(f\"Total reward: {total_reward}\")\n",
        "print(f\"Success: {'Yes' if terminated and not truncated else 'No'}\")"
      ]
    },
    {
      "cell_type": "markdown",
      "metadata": {
        "id": "fhY4A47AkYdC"
      },
      "source": [
        "<figure style=\"text-align: center;\">\n",
        "    <img src=\"./img/results.gif\" alt=\"Agents driving on both tracks based on trained policies. Source.\" width=\"600\"/>\n",
        "    <figcaption>Agents driving on both tracks based on trained policies.</figcaption>\n",
        "</figure>"
      ]
    },
    {
      "cell_type": "markdown",
      "metadata": {
        "deletable": true,
        "editable": true,
        "id": "18uRAZxZkYdC",
        "nbgrader": {
          "cell_type": "markdown",
          "checksum": "524f8f37d4321a149e999e2af4c10756",
          "grade": false,
          "grade_id": "cell-6025f917f706302b",
          "locked": true,
          "schema_version": 3,
          "solution": false
        }
      },
      "source": [
        "## Conclusion\n",
        "Congratulations on completing Assignment 5! This assignment provided hands-on experience with reinforcement learning, specifically in Off-policy Monte Carlo Control methods. The knowledge gained here will serve as a foundation for tackling more advanced RL challenges."
      ]
    }
  ],
  "metadata": {
    "colab": {
      "provenance": []
    },
    "coursera": {
      "course_slug": "fundamentals-of-reinforcement-learning",
      "graded_item_id": "fvXSL",
      "launcher_item_id": "5z8bz"
    },
    "kernelspec": {
      "display_name": "pytorch-gpu",
      "language": "python",
      "name": "python3"
    },
    "language_info": {
      "codemirror_mode": {
        "name": "ipython",
        "version": 3
      },
      "file_extension": ".py",
      "mimetype": "text/x-python",
      "name": "python",
      "nbconvert_exporter": "python",
      "pygments_lexer": "ipython3",
      "version": "3.12.2"
    }
  },
  "nbformat": 4,
  "nbformat_minor": 0
}